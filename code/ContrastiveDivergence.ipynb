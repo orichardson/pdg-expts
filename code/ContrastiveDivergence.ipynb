{
 "cells": [
  {
   "cell_type": "code",
   "execution_count": 2,
   "metadata": {},
   "outputs": [],
   "source": [
    "%load_ext autoreload\n",
    "%autoreload 2"
   ]
  },
  {
   "cell_type": "code",
   "execution_count": 29,
   "metadata": {},
   "outputs": [
    {
     "name": "stdout",
     "output_type": "stream",
     "text": [
      "%autoreload 2\n",
      "%load_ext autoreload\n",
      "%autoreload 2\n",
      "x = 3\n",
      "x\n",
      "from pdg import pdg.PDG\n",
      "from pdg import PDG\n",
      "from pdg.pdg import PDG\n",
      "from pdg import PDG, RV\n",
      "from pdg import PDG, RV, RJD\n",
      "M = PDG()\n",
      "from pdg import PDG, RV, RJD, CPT\n",
      "from pdg import PDG, RV as Var, RJD, CPT\n",
      "A = Var.alph(\"A\", 3)\n",
      "B = Var.alph(\"B\", 3)\n",
      "M = PDG()\n",
      "M += CPT.make_random(A, B)\n",
      "M.draw()\n",
      "M.optimize_via_FG_cover()\n",
      "μ = M.optimize_via_FG_cover()\n",
      "μ\n",
      "μ[A,B]\n",
      "μ.data\n",
      "μ.data\n",
      "M.edges(\"P\")\n",
      "[*M.edges(\"P\")]\n",
      "μ[B|A]\n",
      "M.hypergraph_object\n",
      "M['p1']\n",
      "%history\n"
     ]
    }
   ],
   "source": [
    "%history"
   ]
  }
 ],
 "metadata": {
  "kernelspec": {
   "display_name": "Python 3",
   "language": "python",
   "name": "python3"
  },
  "language_info": {
   "codemirror_mode": {
    "name": "ipython",
    "version": 3
   },
   "file_extension": ".py",
   "mimetype": "text/x-python",
   "name": "python",
   "nbconvert_exporter": "python",
   "pygments_lexer": "ipython3",
   "version": "3.8.10"
  }
 },
 "nbformat": 4,
 "nbformat_minor": 4
}
