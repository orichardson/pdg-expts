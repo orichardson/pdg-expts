{
 "cells": [
  {
   "cell_type": "code",
   "execution_count": 1,
   "source": [
    "%load_ext autoreload\n",
    "%autoreload 2\n",
    "%matplotlib widget\n",
    "\n",
    "import matplotlib.pyplot as plt\n",
    "import seaborn as sns"
   ],
   "outputs": [],
   "metadata": {}
  },
  {
   "cell_type": "code",
   "execution_count": 2,
   "source": [
    "import numpy as np\n",
    "\n",
    "from pdg.pdg import PDG\n",
    "from pdg.dist import RawJointDist as RJD\n",
    "from pdg.lib import A,B,C,D\n",
    "from pdg.lib.square import consist_with_P, P #, with_indeps"
   ],
   "outputs": [],
   "metadata": {}
  },
  {
   "cell_type": "code",
   "execution_count": 3,
   "source": [
    "# μ_opt = with_indeps.optimize_score(gamma=0.001, tol=1E-30)\n",
    "φ = consist_with_P.factor_product(repr='atomic')\n",
    "μCP_opt1, μCP_iter1 = consist_with_P.optimize_score(gamma=1, store_iters=True)\n",
    "μCP_opt0, μCP_iter0 = consist_with_P.optimize_score(gamma=0, store_iters=True)"
   ],
   "outputs": [],
   "metadata": {}
  },
  {
   "cell_type": "code",
   "execution_count": 4,
   "source": [
    "μCP_GS_ord, μCP_iterGSo = consist_with_P.iter_GS_ordered(store_iters=True)\n",
    "μCP_GS_β, μCP_iterGSβ = consist_with_P.iter_GS_beta(store_iters=True)"
   ],
   "outputs": [],
   "metadata": {}
  },
  {
   "cell_type": "markdown",
   "source": [
    "It should be the case that any unweighted PDG $M$ will have the same distribution $q_{\\gamma=0}$ that minimizes its semantics $ [[ M ]]$ at $\\gamma=1$, which is equal to its factor product $\\Pr_{\\varphi_{M}}$."
   ],
   "metadata": {}
  },
  {
   "cell_type": "markdown",
   "source": [
    "What GIbbs sampling do to $\\mathit{Inc}$ and $\\mathit{IDef}$?"
   ],
   "metadata": {}
  },
  {
   "cell_type": "markdown",
   "source": [
    "So... let's set up a PCA to visualize what's happening. with both optimizations, $P$, and $\\varphi$"
   ],
   "metadata": {}
  },
  {
   "cell_type": "code",
   "execution_count": 5,
   "source": [
    "SHAPE = φ.data.reshape(-1).shape\n",
    "\n",
    "Ppt = np.array([P.data.reshape(*SHAPE)])\n",
    "φpt = np.array([φ.data.reshape(*SHAPE)])\n",
    "idx0pt = np.linspace(0, 1, len(μCP_iter0))\n",
    "idx1pt = np.linspace(0, 1, len(μCP_iter1))\n",
    "\n",
    "iter0pt = np.array(μCP_iter0)\n",
    "iter1pt = np.array(μCP_iter1)\n",
    "bigmatrix = np.vstack([Ppt, φpt, iter0pt, iter1pt])\n",
    "\n",
    "def iitransform(M, μflatmat):\n",
    "    return [(M.Inc(μ).real,M.IDef(μ).real) for μ in map(lambda d : RJD(d.reshape(*M.dshape), M.varlist), μflatmat)]\n",
    "\n",
    "%matplotlib widget\n",
    "\n",
    "# Do for γ=0 (P)\n",
    "plt.plot(*zip(*iitransform(consist_with_P, iter0pt[0:])), 'b', alpha=0.1)\n",
    "plt.scatter(*zip(*iitransform(consist_with_P, iter0pt)), cmap='Purples', c=idx0pt, alpha=0.3)\n",
    "Xs,Ys = zip(*iitransform(consist_with_P, [Ppt])); plt.plot(Xs,Ys, '*w', markersize=15,alpha=0.8)\n",
    "Xs,Ys = zip(*iitransform(consist_with_P, [μCP_opt0.data])); plt.plot(Xs,Ys, 'xb', markersize=15,alpha=0.8)\n",
    "plt.annotate\n",
    "\n",
    "# Do for γ=1 (φ)\n",
    "plt.plot(*zip(*iitransform(consist_with_P, iter1pt[0:])), 'r', alpha=0.1)\n",
    "plt.scatter(*zip(*iitransform(consist_with_P, iter1pt)), cmap='Oranges', c=idx1pt, alpha=0.3)\n",
    "Xs,Ys = zip(*iitransform(consist_with_P, [φpt])); plt.plot(Xs,Ys, 'or', markersize=15,alpha=0.8)\n",
    "Xs,Ys = zip(*iitransform(consist_with_P, [μCP_opt1.data])); plt.plot(Xs,Ys, 'xr', markersize=15,alpha=0.8)\n",
    "\n",
    "#now for GS\n",
    "plt.plot(*zip(*iitransform(consist_with_P, μCP_iterGSo)), 'g', alpha=0.1)\n",
    "plt.scatter(*zip(*iitransform(consist_with_P, μCP_iterGSo)), cmap='Greens', c=np.linspace(0,1,len(μCP_iterGSo)), alpha=0.3)\n",
    "Xs,Ys = zip(*iitransform(consist_with_P, [μCP_GS_ord.data])); plt.plot(Xs,Ys, '+g', markersize=15,alpha=0.8)\n",
    "\n",
    "plt.plot(*zip(*iitransform(consist_with_P, μCP_iterGSβ)), 'k', alpha=0.1)\n",
    "plt.scatter(*zip(*iitransform(consist_with_P, μCP_iterGSβ)), cmap='Greys', c=np.linspace(0,1,len(μCP_iterGSβ)), alpha=0.3)\n",
    "Xs,Ys = zip(*iitransform(consist_with_P, [μCP_GS_β.data])); plt.plot(Xs,Ys, 'xk', markersize=15,alpha=0.8)\n",
    "\n",
    "plt.show()"
   ],
   "outputs": [
    {
     "output_type": "display_data",
     "data": {
      "text/plain": [
       "Canvas(toolbar=Toolbar(toolitems=[('Home', 'Reset original view', 'home', 'home'), ('Back', 'Back to previous …"
      ],
      "application/vnd.jupyter.widget-view+json": {
       "version_major": 2,
       "version_minor": 0,
       "model_id": "d5c9144fb91f4fddae97831ad7f472dd"
      }
     },
     "metadata": {}
    }
   ],
   "metadata": {}
  },
  {
   "cell_type": "markdown",
   "source": [
    "~~Weirld, that the optimziation does not quite get either the oange dot (the distribution $P$ which is supposed to be the # of factors), and also that the blue one does not minimize Inc. I need to make sure the gradient is correct.... and then implement accelerated gradient descent properly?~~\n",
    "\n",
    "**Update Aug 2021**: It looks to me that the orange dot (factor product) does indeed coincide with the optimum $\\mu^*_{\\gamma=1}$, and also that everything has non-negative Inc, with $\\mu^*_{\\gamma=0}$ and the DN iterates almost exactly the same place."
   ],
   "metadata": {}
  },
  {
   "cell_type": "markdown",
   "source": [
    "The big question: is it the case that $\\mu^* := \\lim_{\\gamma\\to 0} [\\![\\mathcal M]\\!]^*_\\gamma$ has the same IDef as $\\mu^*_\\beta$, the DN iterate? We know it must be no larger.  For a counter-example, we would only need to show that $\\mathrm{IDef}(\\mu^*_\\beta) > \\mathrm{IDef}(\\mu^*)$ strictly. And since the DN iterates converge, this would be be a counter-example even for an approximate $\\mu^*$. \n",
    "\n",
    "Of course, in the"
   ],
   "metadata": {}
  },
  {
   "cell_type": "markdown",
   "source": [
    "# Debugging the Gradient for $\\gamma=0$"
   ],
   "metadata": {}
  },
  {
   "cell_type": "code",
   "execution_count": 10,
   "source": [
    "M = consist_with_P\n",
    "mscore = M._build_fast_scorer(gamma=0)\n",
    "\n",
    "mscore(μCP_GS_β.data)[0], mscore(μCP_opt0.data)[0] # uh-oh..."
   ],
   "outputs": [
    {
     "output_type": "execute_result",
     "data": {
      "text/plain": [
       "(0.0, -3.2034265038149176e-16)"
      ]
     },
     "metadata": {},
     "execution_count": 10
    }
   ],
   "metadata": {}
  },
  {
   "cell_type": "markdown",
   "source": [
    "Clearly the optimization isn't working properly. But this should be a convex function... let's look at the supposed gradients."
   ],
   "metadata": {}
  },
  {
   "cell_type": "code",
   "execution_count": 11,
   "source": [
    "(mscore(μCP_GS_β.data)[1]**2).sum(), (mscore(μCP_opt0.data)[1]**2).sum()"
   ],
   "outputs": [
    {
     "output_type": "execute_result",
     "data": {
      "text/plain": [
       "(9.33914424106988e-25, 1.8314354197026343e-14)"
      ]
     },
     "metadata": {},
     "execution_count": 11
    }
   ],
   "metadata": {}
  },
  {
   "cell_type": "markdown",
   "source": [
    "So the gradient of the optimal is much larger... does it point towards the optimum?"
   ],
   "metadata": {}
  },
  {
   "cell_type": "code",
   "execution_count": 12,
   "source": [
    "xopt = μCP_GS_β.data.reshape(-1)\n",
    "x = μCP_opt0.data.reshape(-1)\n",
    "gradx = mscore(x)[1]\n",
    "gradx /=  np.sqrt((gradx*gradx).sum())\n",
    "\n",
    "vec = (xopt - x)\n",
    "vec /= np.sqrt((vec*vec).sum())\n",
    "ϵ = 0.00001\n",
    "\n",
    "# np.allclose(vec.reshape(-1).dot(vec.reshape(-1)), (vec*vec).sum().reshape(-1))  #True\n",
    "print(\"score @ x: %.7f;\\t score @ x + ϵ·grad: %.7f;\\t  score @x + ϵ·v: %.7f\"%\n",
    "      (mscore(x)[0], mscore(x + gradx*ϵ)[0], mscore(x + vec * ϵ)[0]))"
   ],
   "outputs": [
    {
     "output_type": "stream",
     "name": "stdout",
     "text": [
      "score @ x: -0.0000000;\t score @ x + ϵ·grad: 0.0000061;\t  score @x + ϵ·v: -0.0000000\n"
     ]
    }
   ],
   "metadata": {}
  },
  {
   "cell_type": "markdown",
   "source": [
    "# Debugging the Gradient for $\\gamma=1$"
   ],
   "metadata": {}
  },
  {
   "cell_type": "code",
   "execution_count": 18,
   "source": [
    "M = consist_with_P\n",
    "mscore = M._build_fast_scorer(gamma=1)\n",
    "\n",
    "mscore(φ.data)[0], mscore(μCP_opt1.data)[0] # uh oh"
   ],
   "outputs": [
    {
     "output_type": "execute_result",
     "data": {
      "text/plain": [
       "(-0.6095564755212859, 2.253147918557464)"
      ]
     },
     "metadata": {},
     "execution_count": 18
    }
   ],
   "metadata": {}
  },
  {
   "cell_type": "markdown",
   "source": [
    "What are the debug messages?"
   ],
   "metadata": {}
  },
  {
   "cell_type": "code",
   "execution_count": 19,
   "source": [
    "np.set_printoptions(precision=2)\n",
    "# mscore(μCP_opt1.data, debug=True)"
   ],
   "outputs": [],
   "metadata": {}
  },
  {
   "cell_type": "code",
   "execution_count": null,
   "source": [
    "μCP_opt1, μCP_iter1 = consist_with_P.optimize_score(gamma=1, store_iters=True)\n",
    "print(consist_with_P._opt_rslt)"
   ],
   "outputs": [],
   "metadata": {}
  },
  {
   "cell_type": "code",
   "execution_count": 22,
   "source": [
    "xopt = φ.data.reshape(-1)\n",
    "x = μCP_opt1.data.reshape(-1)\n",
    "gradx = mscore(x)[1]\n",
    "gradx /=  np.sqrt((gradx*gradx).sum())\n",
    "\n",
    "vec = (xopt - x)\n",
    "vec /= np.sqrt((vec*vec).sum())\n",
    "ϵ = 0.001\n",
    "\n",
    "# np.allclose(vec.reshape(-1).dot(vec.reshape(-1)), (vec*vec).sum().reshape(-1))  #True\n",
    "print(\"score @ x: %.7f;\\t score @ x + ϵ·grad: %.7f;\\t  score @x + ϵ·v: %.7f\"%\n",
    "      (mscore(x)[0], mscore(x + gradx*ϵ)[0], mscore(x + vec * ϵ)[0]))"
   ],
   "outputs": [
    {
     "output_type": "stream",
     "name": "stdout",
     "text": [
      "score @ x: -0.6095565;\t score @ x + ϵ·grad: -0.5828957;\t  score @x + ϵ·v: -0.6092460\n"
     ]
    }
   ],
   "metadata": {}
  },
  {
   "cell_type": "markdown",
   "source": [
    "## Now, a function to do this for a `DistLibrary`"
   ],
   "metadata": {}
  },
  {
   "cell_type": "code",
   "execution_count": 68,
   "source": [
    "\"\"\"\n",
    "Usage:\n",
    " convergence_plot(lib.opt, along=\"γ\", cmap='Blues', marker='X', lines=False)\n",
    "Semantics:\n",
    " (1) scatter all distributions in view\n",
    " (2) special marker on smallest dist if exists\n",
    " (3) if along + cmap specified, \n",
    "\"\"\"\n",
    "def convergence_plot(dlibview, along=None, lines=None, **kwargs):\n",
    "    def iitransform(μs):\n",
    "        return zip(*((M.Inc(μ).real,M.IDef(μ).real) for μ in μs))\n",
    "\n",
    "    M = dlibview._lib.M\n",
    "    X,Y = iitransform(dlibview.μs if along is None else dlibview.along(along))\n",
    "    \n",
    "    if lines:\n",
    "        if type(lines) is str:\n",
    "            plt.plot(X,Y, lines, alpha=0.2)\n",
    "        else:\n",
    "            linedict = {'color' : '#999999', 'alpha': 0.3 }\n",
    "            if 'cmap' in kwargs:\n",
    "                linedict['color'] = plt.get_cmap(kwargs['cmap'])(0.5)\n",
    "\n",
    "            if isinstance(lines,dict):\n",
    "                linedict.update(**lines)\n",
    "\n",
    "            plt.plot(X,Y, **linedict)\n",
    "        \n",
    "    \n",
    "    plt.scatter(X,Y, c=np.linspace(0,1,len(X)), **kwargs)\n",
    "\n",
    "    x = None; y = None\n",
    "    try:\n",
    "        x,y = iitransform([+dlibview])\n",
    "    except ValueError:\n",
    "        # not a unique natural special distribution\n",
    "        if along is not None:\n",
    "            x,y = X[-1], Y[-1]\n",
    "    \n",
    "    if not (x is None or y is None):\n",
    "        plt.scatter(x,y,marker='x',s=130,alpha=1) "
   ],
   "outputs": [],
   "metadata": {}
  },
  {
   "cell_type": "code",
   "execution_count": 34,
   "source": [
    "# def convergence_plot(initM, precomputed = None, *distfmtpairs, lines=False):\n",
    "#     Γ = StandardDists(M)  if precomputed is None else precomputed\n",
    "#     M = Γ.M\n",
    "\n",
    "#     SHAPE = Γ.φ.data.reshape(-1).shape\n",
    "\n",
    "#     φpt = np.array([Γ.φ.data.reshape(*SHAPE)])\n",
    "#     idx0pt = np.linspace(0, 1, len(Γ.μiter0))\n",
    "#     idx1pt = np.linspace(0, 1, len(Γ.μiter1))\n",
    "    \n",
    "#     bigmatrix = np.vstack([φpt, Γ.μiter0, Γ.μiter1])\n",
    "\n",
    "#     def iitransform(μflatmat):\n",
    "#         return [(M.Inc(μ),M.IDef(μ)) for μ in map(lambda d : RJD(d.reshape(*M.dshape), M.varlist), μflatmat)]\n",
    "\n",
    "\n",
    "#     # Do for γ=0 (P)\n",
    "#     if lines: plt.plot(*zip(*iitransform( Γ.μiter0)), 'b', alpha=0.1)\n",
    "#     plt.scatter(*zip(*iitransform( Γ.μiter0)), cmap='Blues', c=idx0pt, alpha=0.3)\n",
    "#     Xs,Ys = zip(*iitransform( [Γ.μopt0.data])); plt.plot(Xs,Ys, 'xb', markersize=15,alpha=0.8)\n",
    "\n",
    "#     # Do for γ=1 (φ)\n",
    "#     if lines: plt.plot(*zip(*iitransform( Γ.μiter1)), 'r', alpha=0.1)\n",
    "#     plt.scatter(*zip(*iitransform(Γ.μiter1)), cmap='Reds', c=idx1pt, alpha=0.3)\n",
    "#     Xs,Ys = zip(*iitransform( [φpt])); plt.plot(Xs,Ys, '>r', markersize=15,alpha=0.8)\n",
    "#     Xs,Ys = zip(*iitransform( [Γ.μopt1.data])); plt.plot(Xs,Ys, 'xr', markersize=15,alpha=0.8)\n",
    "    \n",
    "#     # Do for γ=ϵ \n",
    "#     if lines: plt.plot(*zip(*iitransform( Γ.μiterϵ)), 'k', alpha=0.1)\n",
    "#     plt.scatter(*zip(*iitransform(Γ.μiterϵ)), cmap='Purples', c=np.linspace(0,1,len(Γ.μiterϵ)), alpha=1)\n",
    "#     Xs,Ys = zip(*iitransform( [Γ.μoptϵ.data])); plt.plot(Xs,Ys, 'Xk', markersize=17,alpha=0.8)\n",
    "\n",
    "#     #now for GS\n",
    "#     if lines: plt.plot(*zip(*iitransform( Γ.iterGSo)), 'g', alpha=0.1)\n",
    "#     plt.scatter(*zip(*iitransform( Γ.iterGSo)), cmap='Greens', c=np.linspace(0,1,len(Γ.iterGSo)), alpha=0.3)\n",
    "#     Xs,Ys = zip(*iitransform( [Γ.μord.data])); plt.plot(Xs,Ys, 'xg',\n",
    "#                                                         markeredgecolor='k', markersize=15,alpha=0.8)\n",
    "\n",
    "#     if lines: plt.plot(*zip(*iitransform( Γ.iterGSβ)), 'y', alpha=0.2)\n",
    "#     plt.scatter(*zip(*iitransform( Γ.iterGSβ)), cmap='Wistia', c=np.linspace(0,1,len(Γ.iterGSβ)), alpha=0.3)\n",
    "#     Xs,Ys = zip(*iitransform([Γ.μGS_β.data])); plt.plot(Xs,Ys, marker='+y',\n",
    "#                                                         markeredgecolor='k', markersize=15,alpha=0.8)\n",
    "    \n",
    "#     for d,f in distfmtpairs:\n",
    "#         plt.plot(*zip(*iitransform( [d.data] )), f)\n",
    "        \n",
    "\n",
    "#     plt.show()"
   ],
   "outputs": [],
   "metadata": {
    "jupyter": {
     "source_hidden": true
    }
   }
  },
  {
   "cell_type": "code",
   "execution_count": 26,
   "source": [
    "from lib import smoking\n",
    "CP_lib = consist_with_P.standard_library()\n",
    "smoking_lib = smoking.M.standard_library()"
   ],
   "outputs": [],
   "metadata": {}
  },
  {
   "cell_type": "code",
   "execution_count": null,
   "source": [
    "from lib.square import with_rand_cpts, missing_parents\n",
    "wrc = with_rand_cpts.standard_library"
   ],
   "outputs": [],
   "metadata": {}
  },
  {
   "cell_type": "code",
   "execution_count": 3,
   "source": [
    "import pickle, os\n"
   ],
   "outputs": [
    {
     "output_type": "execute_result",
     "data": {
      "text/plain": [
       "True"
      ]
     },
     "metadata": {},
     "execution_count": 3
    }
   ],
   "metadata": {}
  },
  {
   "cell_type": "code",
   "execution_count": 2,
   "source": [
    "load = False\n",
    "fnames = ['CP_lib', 'smoking_lib']\n",
    "\n",
    "if load:\n",
    "    for f in fnames:\n",
    "        with open(f+'.pkl', 'rb') as f:\n",
    "            globals()[f] = dist.DistLibrary(, pickle.read(f))\n",
    "\n",
    "    with open(\"CP_lib.pkl\", 'rb') as f:\n",
    "        CP_lib = dist.DistLibrary(consistent_with_P, pickle.read(f)\n",
    "    with open(\"smoking_lib.pkl\", 'rb') as f:\n",
    "        pickle.dump(smoking_lib.dists, f)\n",
    "with open(\"CP_lib.pkl\", 'wb') as f:\n",
    "    pickle.dump(CP_lib.dists, f)\n",
    "with open(\"smoking_lib.pkl\", 'wb') as f:\n",
    "    pickle.dump(smoking_lib.dists, f)"
   ],
   "outputs": [
    {
     "output_type": "error",
     "ename": "SyntaxError",
     "evalue": "invalid syntax (<ipython-input-2-9571cd5310ec>, line 4)",
     "traceback": [
      "\u001b[0;36m  File \u001b[0;32m\"<ipython-input-2-9571cd5310ec>\"\u001b[0;36m, line \u001b[0;32m4\u001b[0m\n\u001b[0;31m    if reload or not(os.path.ex)\u001b[0m\n\u001b[0m                                ^\u001b[0m\n\u001b[0;31mSyntaxError\u001b[0m\u001b[0;31m:\u001b[0m invalid syntax\n"
     ]
    }
   ],
   "metadata": {}
  },
  {
   "cell_type": "code",
   "execution_count": null,
   "source": [
    "import pickle\n"
   ],
   "outputs": [],
   "metadata": {}
  },
  {
   "cell_type": "code",
   "execution_count": 281,
   "source": [
    "%matplotlib widget\n",
    "smoking_lib.M.draw()"
   ],
   "outputs": [
    {
     "output_type": "display_data",
     "data": {
      "text/plain": [
       "Canvas(toolbar=Toolbar(toolitems=[('Home', 'Reset original view', 'home', 'home'), ('Back', 'Back to previous …"
      ],
      "application/vnd.jupyter.widget-view+json": {
       "model_id": "9c4094537bfc4d75a72ba790ef946d6f",
       "version_major": 2,
       "version_minor": 0
      }
     },
     "metadata": {}
    },
    {
     "output_type": "display_data",
     "data": {
      "text/plain": [
       "<Figure size 432x288 with 1 Axes>"
      ],
      "image/png": "[encoded data removed]"
     },
     "metadata": {}
    }
   ],
   "metadata": {}
  },
  {
   "cell_type": "code",
   "execution_count": 251,
   "source": [
    "for k,d in CP_lib.dists.items():\n",
    "    if not isinstance(d, np.ndarray):\n",
    "        CP_lib.dists[k] = d.data.reshape(-1)"
   ],
   "outputs": [],
   "metadata": {}
  },
  {
   "cell_type": "code",
   "execution_count": 35,
   "source": [
    "%matplotlib widget\n",
    "# plt.figure(figsize=(10,4))\n",
    "convergence_plot(CP_lib.GS.β, along='i', cmap='Oranges',linecolor=...)\n",
    "convergence_plot(CP_lib.GS(\"≺\"), along='i', cmap='Blues',linecolor=...)\n",
    "\n",
    "# convergence_plot(smoking_lib.opt, along=\"γ\",cmap='Blues')#,linecolor=\"#aaaaff\"\n"
   ],
   "outputs": [
    {
     "output_type": "display_data",
     "data": {
      "text/plain": [
       "Canvas(toolbar=Toolbar(toolitems=[('Home', 'Reset original view', 'home', 'home'), ('Back', 'Back to previous …"
      ],
      "application/vnd.jupyter.widget-view+json": {
       "model_id": "5eba3572e662464f9cb801eb0af37232",
       "version_major": 2,
       "version_minor": 0
      }
     },
     "metadata": {}
    }
   ],
   "metadata": {}
  },
  {
   "cell_type": "code",
   "execution_count": 158,
   "source": [
    "%matplotlib widget\n",
    "plt.figure(figsize=(12,6))\n",
    "convergence_plot(CP_lib.opt.γ(lambda γ: γ < 1), along=\"-γ\",cmap='Blues', lines={'alpha':0.1})#\n",
    "convergence_plot(CP_lib.opt.γ(lambda γ: γ > 1), along=\"-γ\",cmap='Oranges', lines={'alpha':0.1})#"
   ],
   "outputs": [
    {
     "output_type": "display_data",
     "data": {
      "text/plain": [
       "Canvas(toolbar=Toolbar(toolitems=[('Home', 'Reset original view', 'home', 'home'), ('Back', 'Back to previous …"
      ],
      "application/vnd.jupyter.widget-view+json": {
       "model_id": "b643e94671be4c0a987dd448a5701a4c",
       "version_major": 2,
       "version_minor": 0
      }
     },
     "metadata": {}
    },
    {
     "output_type": "display_data",
     "data": {
      "text/plain": [
       "<Figure size 864x432 with 1 Axes>"
      ],
      "image/png": "[encoded data removed]"
     },
     "metadata": {
      "needs_background": "light"
     }
    }
   ],
   "metadata": {}
  },
  {
   "cell_type": "code",
   "execution_count": 1,
   "source": [
    "%matplotlib inline\n",
    "plt.figure(figsize=(10,4))\n",
    "convergence_plot(smoking_lib.opt.without(\"i\"), along=\"-γ\",cmap='Blues', lines={'alpha':0.1})#"
   ],
   "outputs": [
    {
     "output_type": "error",
     "ename": "NameError",
     "evalue": "name 'plt' is not defined",
     "traceback": [
      "\u001b[0;31m---------------------------------------------------------------------------\u001b[0m",
      "\u001b[0;31mNameError\u001b[0m                                 Traceback (most recent call last)",
      "\u001b[0;32m<ipython-input-1-9f8521fd5153>\u001b[0m in \u001b[0;36m<module>\u001b[0;34m\u001b[0m\n\u001b[1;32m      1\u001b[0m \u001b[0mget_ipython\u001b[0m\u001b[0;34m(\u001b[0m\u001b[0;34m)\u001b[0m\u001b[0;34m.\u001b[0m\u001b[0mrun_line_magic\u001b[0m\u001b[0;34m(\u001b[0m\u001b[0;34m'matplotlib'\u001b[0m\u001b[0;34m,\u001b[0m \u001b[0;34m'inline'\u001b[0m\u001b[0;34m)\u001b[0m\u001b[0;34m\u001b[0m\u001b[0;34m\u001b[0m\u001b[0m\n\u001b[0;32m----> 2\u001b[0;31m \u001b[0mplt\u001b[0m\u001b[0;34m.\u001b[0m\u001b[0mfigure\u001b[0m\u001b[0;34m(\u001b[0m\u001b[0mfigsize\u001b[0m\u001b[0;34m=\u001b[0m\u001b[0;34m(\u001b[0m\u001b[0;36m10\u001b[0m\u001b[0;34m,\u001b[0m\u001b[0;36m4\u001b[0m\u001b[0;34m)\u001b[0m\u001b[0;34m)\u001b[0m\u001b[0;34m\u001b[0m\u001b[0;34m\u001b[0m\u001b[0m\n\u001b[0m\u001b[1;32m      3\u001b[0m \u001b[0mconvergence_plot\u001b[0m\u001b[0;34m(\u001b[0m\u001b[0msmoking_lib\u001b[0m\u001b[0;34m.\u001b[0m\u001b[0mopt\u001b[0m\u001b[0;34m.\u001b[0m\u001b[0mwithout\u001b[0m\u001b[0;34m(\u001b[0m\u001b[0;34m\"i\"\u001b[0m\u001b[0;34m)\u001b[0m\u001b[0;34m,\u001b[0m \u001b[0malong\u001b[0m\u001b[0;34m=\u001b[0m\u001b[0;34m\"-γ\"\u001b[0m\u001b[0;34m,\u001b[0m\u001b[0mcmap\u001b[0m\u001b[0;34m=\u001b[0m\u001b[0;34m'Blues'\u001b[0m\u001b[0;34m,\u001b[0m \u001b[0mlines\u001b[0m\u001b[0;34m=\u001b[0m\u001b[0;34m{\u001b[0m\u001b[0;34m'alpha'\u001b[0m\u001b[0;34m:\u001b[0m\u001b[0;36m0.1\u001b[0m\u001b[0;34m}\u001b[0m\u001b[0;34m)\u001b[0m\u001b[0;31m#\u001b[0m\u001b[0;34m\u001b[0m\u001b[0;34m\u001b[0m\u001b[0m\n",
      "\u001b[0;31mNameError\u001b[0m: name 'plt' is not defined"
     ]
    }
   ],
   "metadata": {}
  },
  {
   "cell_type": "code",
   "execution_count": 86,
   "source": [
    "smoking_lib.opt.γ"
   ],
   "outputs": [
    {
     "output_type": "execute_result",
     "data": {
      "text/plain": [
       "LibView { opt } (43 matches)"
      ]
     },
     "metadata": {},
     "execution_count": 86
    }
   ],
   "metadata": {}
  },
  {
   "cell_type": "code",
   "execution_count": 70,
   "source": [
    "from pdg import DistLibrary\n",
    "dl = DistLibrary(smoking.M)"
   ],
   "outputs": [],
   "metadata": {}
  },
  {
   "cell_type": "code",
   "execution_count": 139,
   "source": [],
   "outputs": [
    {
     "output_type": "execute_result",
     "data": {
      "text/plain": [
       "LibraryView {  }"
      ]
     },
     "metadata": {},
     "execution_count": 139
    }
   ],
   "metadata": {}
  },
  {
   "cell_type": "code",
   "execution_count": 282,
   "source": [
    "%matplotlib widget\n",
    "convergence_plot(..., CP_lib, (P, '*c'))"
   ],
   "outputs": [
    {
     "output_type": "error",
     "ename": "AttributeError",
     "evalue": "'ellipsis' object has no attribute '_lib'",
     "traceback": [
      "\u001b[0;31m---------------------------------------------------------------------------\u001b[0m",
      "\u001b[0;31mAttributeError\u001b[0m                            Traceback (most recent call last)",
      "\u001b[0;32m<ipython-input-282-12efa06befad>\u001b[0m in \u001b[0;36m<module>\u001b[0;34m\u001b[0m\n\u001b[1;32m      1\u001b[0m \u001b[0mget_ipython\u001b[0m\u001b[0;34m(\u001b[0m\u001b[0;34m)\u001b[0m\u001b[0;34m.\u001b[0m\u001b[0mrun_line_magic\u001b[0m\u001b[0;34m(\u001b[0m\u001b[0;34m'matplotlib'\u001b[0m\u001b[0;34m,\u001b[0m \u001b[0;34m'widget'\u001b[0m\u001b[0;34m)\u001b[0m\u001b[0;34m\u001b[0m\u001b[0;34m\u001b[0m\u001b[0m\n\u001b[0;32m----> 2\u001b[0;31m \u001b[0mconvergence_plot\u001b[0m\u001b[0;34m(\u001b[0m\u001b[0;34m...\u001b[0m\u001b[0;34m,\u001b[0m \u001b[0mCP_lib\u001b[0m\u001b[0;34m,\u001b[0m \u001b[0;34m(\u001b[0m\u001b[0mP\u001b[0m\u001b[0;34m,\u001b[0m \u001b[0;34m'*c'\u001b[0m\u001b[0;34m)\u001b[0m\u001b[0;34m)\u001b[0m\u001b[0;34m\u001b[0m\u001b[0;34m\u001b[0m\u001b[0m\n\u001b[0m",
      "\u001b[0;32m<ipython-input-276-2f89e0355ed3>\u001b[0m in \u001b[0;36mconvergence_plot\u001b[0;34m(dlibview, along, linecolor, **kwargs)\u001b[0m\n\u001b[1;32m     11\u001b[0m         \u001b[0;32mreturn\u001b[0m \u001b[0mzip\u001b[0m\u001b[0;34m(\u001b[0m\u001b[0;34m*\u001b[0m\u001b[0;34m(\u001b[0m\u001b[0;34m(\u001b[0m\u001b[0mM\u001b[0m\u001b[0;34m.\u001b[0m\u001b[0mInc\u001b[0m\u001b[0;34m(\u001b[0m\u001b[0mμ\u001b[0m\u001b[0;34m)\u001b[0m\u001b[0;34m.\u001b[0m\u001b[0mreal\u001b[0m\u001b[0;34m,\u001b[0m\u001b[0mM\u001b[0m\u001b[0;34m.\u001b[0m\u001b[0mIDef\u001b[0m\u001b[0;34m(\u001b[0m\u001b[0mμ\u001b[0m\u001b[0;34m)\u001b[0m\u001b[0;34m.\u001b[0m\u001b[0mreal\u001b[0m\u001b[0;34m)\u001b[0m \u001b[0;32mfor\u001b[0m \u001b[0mμ\u001b[0m \u001b[0;32min\u001b[0m \u001b[0mμs\u001b[0m\u001b[0;34m)\u001b[0m\u001b[0;34m)\u001b[0m\u001b[0;34m\u001b[0m\u001b[0;34m\u001b[0m\u001b[0m\n\u001b[1;32m     12\u001b[0m \u001b[0;34m\u001b[0m\u001b[0m\n\u001b[0;32m---> 13\u001b[0;31m     \u001b[0mM\u001b[0m \u001b[0;34m=\u001b[0m \u001b[0mdlibview\u001b[0m\u001b[0;34m.\u001b[0m\u001b[0m_lib\u001b[0m\u001b[0;34m.\u001b[0m\u001b[0mM\u001b[0m\u001b[0;34m\u001b[0m\u001b[0;34m\u001b[0m\u001b[0m\n\u001b[0m\u001b[1;32m     14\u001b[0m     \u001b[0mX\u001b[0m\u001b[0;34m,\u001b[0m\u001b[0mY\u001b[0m \u001b[0;34m=\u001b[0m \u001b[0miitransform\u001b[0m\u001b[0;34m(\u001b[0m\u001b[0mdlibview\u001b[0m\u001b[0;34m.\u001b[0m\u001b[0mμs\u001b[0m \u001b[0;32mif\u001b[0m \u001b[0malong\u001b[0m \u001b[0;32mis\u001b[0m \u001b[0;32mNone\u001b[0m \u001b[0;32melse\u001b[0m \u001b[0mdlibview\u001b[0m\u001b[0;34m.\u001b[0m\u001b[0malong\u001b[0m\u001b[0;34m(\u001b[0m\u001b[0malong\u001b[0m\u001b[0;34m)\u001b[0m\u001b[0;34m)\u001b[0m\u001b[0;34m\u001b[0m\u001b[0;34m\u001b[0m\u001b[0m\n\u001b[1;32m     15\u001b[0m \u001b[0;34m\u001b[0m\u001b[0m\n",
      "\u001b[0;31mAttributeError\u001b[0m: 'ellipsis' object has no attribute '_lib'"
     ]
    }
   ],
   "metadata": {}
  },
  {
   "cell_type": "code",
   "execution_count": 30,
   "source": [
    "%matplotlib widget\n",
    "convergence_plot(..., smoke_lib)"
   ],
   "outputs": [
    {
     "output_type": "display_data",
     "data": {
      "text/plain": [
       "Canvas(toolbar=Toolbar(toolitems=[('Home', 'Reset original view', 'home', 'home'), ('Back', 'Back to previous …"
      ],
      "application/vnd.jupyter.widget-view+json": {
       "model_id": "e7e540a41c7845a99fd1b71de14ce67d",
       "version_major": 2,
       "version_minor": 0
      }
     },
     "metadata": {}
    }
   ],
   "metadata": {}
  },
  {
   "cell_type": "code",
   "execution_count": null,
   "source": [
    "import pandas as pd\n",
    "print(consist_with_P.score(μCP_fact, gamma=1),\n",
    "          consist_with_P.score(μCP_opt1, gamma=1),\n",
    "          consist_with_P.score(RJD.unif(consist_with_P.varlist),gamma=1))\n",
    "pd.concat([μCP_fact[B | A], μCP_opt1[B | A]],axis=1)\n",
    "\n",
    "\n",
    "mscore = consist_with_P._build_fast_scorer(gamma=1)\n",
    "goodscore = consist_with_P.score\n",
    "\n",
    "unif = RJD.unif(consist_with_P.varlist)\n",
    "\n",
    "[ (mscore(μ.data)[0], goodscore(μ)) for μ in [μ_fact, P, unif]]\n"
   ],
   "outputs": [],
   "metadata": {}
  },
  {
   "cell_type": "markdown",
   "source": [
    "# Convergence\n",
    "Does $p^*$ =\n"
   ],
   "metadata": {}
  },
  {
   "cell_type": "code",
   "execution_count": null,
   "source": [
    "# Optimizing for Inc alone gives small Inc\n",
    "consist_with_P.Inc(μCP_opt0)"
   ],
   "outputs": [],
   "metadata": {}
  },
  {
   "cell_type": "code",
   "execution_count": null,
   "source": [
    "# And the original distribution P from which it was taken, is not SO far away.\n",
    "# Note: opt0 is more generic; easier to specialize  μ_fact_opt <- P  than vice versa\n",
    "P // μCP_opt0,    μCP_opt0 // P"
   ],
   "outputs": [],
   "metadata": {}
  },
  {
   "cell_type": "code",
   "execution_count": null,
   "source": [
    "\n",
    "μAB = RJD(np.zeros((2,3))+np.eye(2,3)/2 + np.random.random((2,3))/100, [A,B])\n",
    "μAB.info_diagram(A,B,B)"
   ],
   "outputs": [],
   "metadata": {}
  }
 ],
 "metadata": {
  "kernelspec": {
   "name": "python3",
   "display_name": "Python 3.8.10 64-bit"
  },
  "language_info": {
   "codemirror_mode": {
    "name": "ipython",
    "version": 3
   },
   "file_extension": ".py",
   "mimetype": "text/x-python",
   "name": "python",
   "nbconvert_exporter": "python",
   "pygments_lexer": "ipython3",
   "version": "3.8.10"
  },
  "interpreter": {
   "hash": "31f2aee4e71d21fbe5cf8b01ff0e069b9275f58929596ceb00d14d90e3e16cd6"
  }
 },
 "nbformat": 4,
 "nbformat_minor": 4
}