{
 "cells": [
  {
   "cell_type": "markdown",
   "metadata": {},
   "source": [
    "# Random Experiments\n",
    "\n",
    "The idea here is to generate a lot of PDGs, perform inference on them in different ways / with different parameters, and report (1) timing in formation and (2) training curves. \n",
    "\n",
    "Inference algorithms on PDGs to pit against each other:\n",
    " * `ExpCone` on full joint distribution;\n",
    " * `ExpCone` on clique trees (automatically discovered);\n",
    " * `Pytorch` (different learning rates, optimizers: `LBFGS`; `ADAM`)\n",
    " * LIR (still needs implementation + schedule)\n",
    "\n",
    "Of course, we also need to compare against known algorithms; we can generate / use as benchmarks. \n",
    "For examples of BNs, see\n",
    "\n",
    "* http://constantinou.info/downloads/bayesys/bayesys_repository.pdf\n",
    " * "
   ]
  }
 ],
 "metadata": {
  "language_info": {
   "name": "python"
  },
  "orig_nbformat": 4
 },
 "nbformat": 4,
 "nbformat_minor": 2
}
