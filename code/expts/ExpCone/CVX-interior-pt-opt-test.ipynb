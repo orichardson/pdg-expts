{
 "cells": [
  {
   "cell_type": "code",
   "execution_count": 1,
   "metadata": {},
   "outputs": [
    {
     "name": "stdout",
     "output_type": "stream",
     "text": [
      "/home/oli/Research/Joe/agent-goals/code\n"
     ]
    }
   ],
   "source": [
    "%load_ext autoreload\n",
    "%autoreload 2\n",
    "%cd ../../\n",
    "# %pwd\n",
    "# should be <ROOT>/code/"
   ]
  },
  {
   "cell_type": "code",
   "execution_count": 2,
   "metadata": {},
   "outputs": [],
   "source": [
    "import numpy as np\n",
    "\n",
    "from pdg.pdg import PDG\n",
    "from pdg.rv import Variable as Var, Unit\n",
    "from pdg.dist import RawJointDist as RJD, CPT"
   ]
  },
  {
   "cell_type": "code",
   "execution_count": 3,
   "metadata": {},
   "outputs": [
    {
     "data": {
      "image/png": "[encoded data removed]",
      "text/plain": [
       "<Figure size 432x288 with 1 Axes>"
      ]
     },
     "metadata": {},
     "output_type": "display_data"
    }
   ],
   "source": [
    "A = Var.alph(\"A\", 3)\n",
    "B = Var.alph(\"B\", 2)\n",
    "C = Var.alph(\"C\", 3)\n",
    "\n",
    "M = PDG()\n",
    "M += A,B,C\n",
    "\n",
    "M += CPT.make_random(A&B, C)\n",
    "M += CPT.make_random(C, A)\n",
    "\n",
    "M.draw()"
   ]
  },
  {
   "cell_type": "code",
   "execution_count": 5,
   "metadata": {},
   "outputs": [
    {
     "data": {
      "text/plain": [
       "0.018616116246161152"
      ]
     },
     "execution_count": 5,
     "metadata": {},
     "output_type": "execute_result"
    }
   ],
   "source": [
    "best = M.optimize_score(0)\n",
    "M.score(best, gamma=0)"
   ]
  },
  {
   "cell_type": "markdown",
   "metadata": {},
   "source": [
    "# IMPLEMENTATION SCRATCH"
   ]
  },
  {
   "cell_type": "markdown",
   "metadata": {},
   "source": [
    "### **Warmup:** no marginalization or conditioning; $p$ same shape as $\\mu$."
   ]
  },
  {
   "cell_type": "code",
   "execution_count": 292,
   "metadata": {},
   "outputs": [],
   "source": [
    "M.dshape\n",
    "n = np.prod(M.dshape)\n",
    "\n",
    "mu = cp.Variable(n, nonneg=True)\n",
    "p_special = best.data.reshape(-1)\n",
    "t = cp.Variable(n)\n",
    "        -1\n",
    "\n",
    "tol_constraints = [\n",
    "#         cp.constraints.exponential.ExpCone(-t[L], mu, fix(p).reshape(-1)) \n",
    "        cp.constraints.exponential.ExpCone(-t, mu, p_special) \n",
    "    ]\n",
    "\n",
    "\n",
    "prob = cp.Problem( cp.Minimize( sum(t) ), \n",
    "                  [ sum(mu) == 1 ] + tol_constraints )\n"
   ]
  },
  {
   "cell_type": "code",
   "execution_count": 293,
   "metadata": {},
   "outputs": [
    {
     "data": {
      "text/plain": [
       "2.269466271616548e-09"
      ]
     },
     "execution_count": 293,
     "metadata": {},
     "output_type": "execute_result"
    }
   ],
   "source": [
    "prob.solve()"
   ]
  },
  {
   "cell_type": "code",
   "execution_count": 287,
   "metadata": {
    "scrolled": true
   },
   "outputs": [
    {
     "name": "stdout",
     "output_type": "stream",
     "text": [
      "(3, 2, 3) [0, 1, 2]\n",
      "(3, 2, 3) [2, 0]\n"
     ]
    }
   ],
   "source": [
    "## Printing stuff for debugging\n",
    "# for L,X,Y,p in M.edges(\"l,X,Y,P\"):\n",
    "#     if 'π' not in L: \n",
    "#         print(X.name, Y.name, L, p.shape,  μ._idxs(X), μ._idxs(Y))\n",
    "#         print(p.to_numpy().size)\n",
    "#         print('yo', mk_projector(M.dshape, μ._idxs(X,Y)).shape)\n",
    "\n",
    "mu = cp.Variable(np.prod(M.dshape), nonneg=True)\n",
    "p_special = best.data.reshape(-1)\n",
    "\n",
    "t = { L : cp.Variable(p.to_numpy().size) for (L,p) in M.edges(\"l,P\") if 'π' not in L }\n",
    "        \n",
    "        \n",
    "tol_constraints = [\n",
    "#         cp.constraints.exponential.ExpCone(-t[L], mu, fix(p).reshape(-1)) \n",
    "        cp.constraints.exponential.ExpCone(-t[L],\n",
    "#                                            mk_projector(M.dshape, μ._idxs(X,Y))@mu,\n",
    "                                           mu.T @ mk_projector(M.dshape, μ._idxs(X,Y)),\n",
    "                                           p.to_numpy().reshape(-1))\n",
    "            for L,X,Y,p in M.edges(\"l,X,Y,P\") if 'π' not in L\n",
    "    ]\n"
   ]
  },
  {
   "cell_type": "code",
   "execution_count": 288,
   "metadata": {},
   "outputs": [],
   "source": [
    "prob = cp.Problem( cp.Minimize( sum(sum(t[L])*βL for (βL,L) in M.edges('β,L') if 'π' not in L) ), \n",
    "                  [ sum(mu) == 1 ] + tol_constraints )\n"
   ]
  },
  {
   "cell_type": "markdown",
   "metadata": {},
   "source": [
    "### Marginalization\n",
    "#### Expanding P (doesn't work)"
   ]
  },
  {
   "cell_type": "code",
   "execution_count": 300,
   "metadata": {},
   "outputs": [],
   "source": [
    "μ = M.genΔ(kind=RJD.unif)\n",
    "\n",
    "def fix(cpt):\n",
    "    p = μ.broadcast(cpt)\n",
    "    for i,d in enumerate(M.dshape):\n",
    "        if p.shape[i] == 1 and M.dshape[i] > 1:\n",
    "            p = p.repeat(d, axis=i)\n",
    "    return p"
   ]
  },
  {
   "cell_type": "code",
   "execution_count": 163,
   "metadata": {},
   "outputs": [
    {
     "data": {
      "text/plain": [
       "array([[15, 18, 21, 24, 27],\n",
       "       [60, 63, 66, 69, 72]])"
      ]
     },
     "execution_count": 163,
     "metadata": {},
     "output_type": "execute_result"
    }
   ],
   "source": [
    "# A = np.ones((2,3,5))\n",
    "# A[]\n",
    "A = np.arange(2*3*5)\n",
    "Ashaped = A.reshape(2,3,5)\n",
    "V = cp.Variable(2*3*5)\n",
    "\n",
    "Ashaped.sum(axis=1)"
   ]
  },
  {
   "cell_type": "markdown",
   "metadata": {},
   "source": [
    "#### Fancy Roll Strategy (abandoned)"
   ]
  },
  {
   "cell_type": "code",
   "execution_count": 178,
   "metadata": {},
   "outputs": [
    {
     "data": {
      "text/plain": [
       "Expression(AFFINE, UNKNOWN, (5, 2))"
      ]
     },
     "execution_count": 178,
     "metadata": {},
     "output_type": "execute_result"
    }
   ],
   "source": [
    "# For Numpy Arrays\n",
    "A.reshape(2, 3*5).T.reshape(3,5*2).sum(axis=0).reshape(5,2)\n",
    "# For cp.Variables.\n",
    "cp.reshape(cp.sum(cp.reshape(cp.reshape(V,(2, 3*5)).T,(3,5*2)),axis=0), (5,2))"
   ]
  },
  {
   "cell_type": "code",
   "execution_count": 183,
   "metadata": {},
   "outputs": [
    {
     "ename": "SyntaxError",
     "evalue": "unexpected EOF while parsing (<ipython-input-183-2e6b218dff22>, line 8)",
     "output_type": "error",
     "traceback": [
      "\u001b[0;36m  File \u001b[0;32m\"<ipython-input-183-2e6b218dff22>\"\u001b[0;36m, line \u001b[0;32m8\u001b[0m\n\u001b[0;31m    if sumbits[0] == 0:\u001b[0m\n\u001b[0m                        ^\u001b[0m\n\u001b[0;31mSyntaxError\u001b[0m\u001b[0;31m:\u001b[0m unexpected EOF while parsing\n"
     ]
    }
   ],
   "source": [
    "nvars = 5\n",
    "joint_array = np.arange(2*3*5*7*2)\n",
    "IDXs = [1,3]\n",
    "sumbits = [ (0 if i in IDXs else 1) for i in range(nvars)]\n",
    "\n",
    "# nfinished = 0\n",
    "# while nfinished < nvars:\n",
    "while 1 in sumbits:\n",
    "    next_zero_idx = sumbits.find(0)\n",
    "    cp.reshape( cp.reshape )"
   ]
  },
  {
   "cell_type": "markdown",
   "metadata": {},
   "source": [
    "### This  works, at least ...\n",
    "Form $A_{XY} \\in \\mathbb R^{N \\times M}$ where $N = \\prod_{X \\in \\mathcal N} {|\\mathcal V(X)|}$ is the total number of worlds and $M = |X| \\times |Y|$ is the total number of values of $X \\times Y$."
   ]
  },
  {
   "cell_type": "code",
   "execution_count": 280,
   "metadata": {},
   "outputs": [
    {
     "data": {
      "text/plain": [
       "array([2670., 2710., 2750., 2790., 2830., 2870., 2910., 4070., 4110.,\n",
       "       4150., 4190., 4230., 4270., 4310., 5470., 5510., 5550., 5590.,\n",
       "       5630., 5670., 5710.])"
      ]
     },
     "execution_count": 280,
     "metadata": {},
     "output_type": "execute_result"
    }
   ],
   "source": [
    "dshape = [2,3,5,7,2]\n",
    "nvars = len(dshape)\n",
    "joint_array = np.arange(np.prod(dshape))\n",
    "IDXs = [1,3]\n",
    "\n",
    "# IDXto = list(i for i in range(nvars) if i not in IDXs)\n",
    "allIDXs = list(i for i in range(nvars))\n",
    "\n",
    "# A_proj_IDXs = np.zeros((np.prod(dshape), np.prod(idxTO)))\n",
    "# A_proj_IDXs = np.zeros(dshape+ tuple(dshape[i] for i in IDXto))\n",
    "A_proj_IDXs = np.zeros(dshape+ [dshape[i] for i in IDXs])\n",
    "np.einsum(A_proj_IDXs, allIDXs+IDXs, allIDXs)[:] = 1\n",
    "# allIDXs+IDXto\n",
    "# A_proj_IDXs.sum()\n",
    "\n",
    "# A_proj_IDXs.reshape(np.prod(dshape), np.prod([dshape[i] for i in IDXs])).T @ joint_array\n",
    "joint_array.T @ A_proj_IDXs.reshape(np.prod(dshape), np.prod([dshape[i] for i in IDXs]))"
   ]
  },
  {
   "cell_type": "markdown",
   "metadata": {},
   "source": [
    "Here's directly summing over the indices. Note that we still get the wrong answer if we do the transpose the other way."
   ]
  },
  {
   "cell_type": "code",
   "execution_count": 281,
   "metadata": {},
   "outputs": [
    {
     "data": {
      "text/plain": [
       "array([2670, 2710, 2750, 2790, 2830, 2870, 2910, 4070, 4110, 4150, 4190,\n",
       "       4230, 4270, 4310, 5470, 5510, 5550, 5590, 5630, 5670, 5710])"
      ]
     },
     "execution_count": 281,
     "metadata": {},
     "output_type": "execute_result"
    }
   ],
   "source": [
    "joint_array.reshape(dshape).sum(axis=(0,2,4)).reshape(-1)"
   ]
  },
  {
   "cell_type": "code",
   "execution_count": 282,
   "metadata": {},
   "outputs": [],
   "source": [
    "def mk_projector(dshape, IDXs):\n",
    "    print(dshape, IDXs)\n",
    "    nvars = len(dshape)\n",
    "    IDXs = list(IDXs)\n",
    "    allIDXs = [i for i in range(nvars)]\n",
    "    A_proj_IDXs = np.zeros(list(dshape) + [dshape[i] for i in IDXs])\n",
    "    np.einsum(A_proj_IDXs, allIDXs+IDXs, allIDXs)[:] = 1\n",
    "    return A_proj_IDXs.reshape(np.prod(dshape), np.prod([dshape[i] for i in IDXs]))\n"
   ]
  },
  {
   "cell_type": "markdown",
   "metadata": {},
   "source": [
    "### Back to CVXPY"
   ]
  },
  {
   "cell_type": "markdown",
   "metadata": {},
   "source": [
    "But first I'll need to solve the following problem. How to effectively multiply an $m \\times n$ by an $n$-dimensional vector, of CVX vars?"
   ]
  },
  {
   "cell_type": "code",
   "execution_count": 364,
   "metadata": {},
   "outputs": [
    {
     "name": "stdout",
     "output_type": "stream",
     "text": [
      "P shape:  (6, 3) \t μ_X shape :  (6,)\n"
     ]
    },
    {
     "data": {
      "text/plain": [
       "6"
      ]
     },
     "execution_count": 364,
     "metadata": {},
     "output_type": "execute_result"
    }
   ],
   "source": [
    "A = np.random.rand(6,3)\n",
    "b = cp.Variable(6)\n",
    "\n",
    "print(\"P shape: \", A.shape, \"\\t μ_X shape : \", b.shape)\n",
    "# This gives the right matrix\n",
    "cp.vstack([ A[i,:] * b[i] for i in range(A.shape[0]) ])\n",
    "# [*M.edges(\"p\")][2].to_numpy().shape, len([*M.edges(\"p\")][2].nfrom)\n",
    "b.shape[0]"
   ]
  },
  {
   "cell_type": "code",
   "execution_count": 365,
   "metadata": {},
   "outputs": [],
   "source": [
    "def cpd2joint(cpt, mu_X):\n",
    "    P = cpt.to_numpy()\n",
    "    print(\"P shape: \", P.shape, \"\\t μ_X shape : \", mu_X.shape)\n",
    "    return cp.vstack([ P[i,:] * mu_X[i] for i in range(mu_X.shape[0])] ).T"
   ]
  },
  {
   "cell_type": "code",
   "execution_count": 377,
   "metadata": {
    "scrolled": true
   },
   "outputs": [
    {
     "name": "stdout",
     "output_type": "stream",
     "text": [
      "(3, 2, 3) [0, 1, 2]\n",
      "(3, 2, 3) [0, 1]\n",
      "P shape:  (6, 3) \t μ_X shape :  (6,)\n",
      "(3, 2, 3) [2, 0]\n",
      "(3, 2, 3) [2]\n",
      "P shape:  (3, 3) \t μ_X shape :  (3,)\n"
     ]
    }
   ],
   "source": [
    "mu = cp.Variable(np.prod(M.dshape), nonneg=True)\n",
    "p_special = best.data.reshape(-1)\n",
    "\n",
    "t = { L : cp.Variable(p.to_numpy().size) for (L,p) in M.edges(\"l,P\") if 'π' not in L }\n",
    "\n",
    "\n",
    "# ## Printing stuff for debugging\n",
    "# for L,X,Y,p in M.edges(\"l,X,Y,P\"):\n",
    "#     if 'π' not in L: \n",
    "#         print(X.name, Y.name, L, p.shape,  μ._idxs(X), μ._idxs(Y))\n",
    "#         print(p.to_numpy().size)\n",
    "#         print('yo', mk_projector(M.dshape, μ._idxs(X,Y)).shape)\n",
    "#         cp.constraints.exponential.ExpCone(-t[L],\n",
    "#                mu.T @ mk_projector(M.dshape, μ._idxs(X,Y)),\n",
    "#                finalVar)\n",
    "\n",
    "        \n",
    "        \n",
    "tol_constraints = [\n",
    "#         cp.constraints.exponential.ExpCone(-t[L], mu, fix(p).reshape(-1)) \n",
    "        cp.constraints.exponential.ExpCone(-t[L],\n",
    "#                                            mk_projector(M.dshape, μ._idxs(X,Y))@mu,\n",
    "                                           mu.T @ mk_projector(M.dshape, μ._idxs(X,Y)),\n",
    "#                                            cp.multiply(p.to_numpy().reshape(-1, np.prod([M.dshape[i] for i in μ._idxs(X)]) ),\n",
    "#                                                        mu.T @ mk_projector(M.dshape, μ._idxs(X)) ))\n",
    "                                           cp.vec(\n",
    "                                               cpd2joint(p, mu.T @ mk_projector(M.dshape, μ._idxs(X))) )  )\n",
    "            for L,X,Y,p in M.edges(\"l,X,Y,P\") if 'π' not in L\n",
    "    ]\n"
   ]
  },
  {
   "cell_type": "code",
   "execution_count": 508,
   "metadata": {},
   "outputs": [],
   "source": [
    "prob = cp.Problem( cp.Minimize( sum(sum(t[L])*βL for (βL,L) in M.edges('β,L') if 'π' not in L) ), \n",
    "                  [ sum(mu) == 1 ] + tol_constraints )\n"
   ]
  },
  {
   "cell_type": "code",
   "execution_count": 509,
   "metadata": {},
   "outputs": [
    {
     "data": {
      "text/plain": [
       "0.022373575042819522"
      ]
     },
     "execution_count": 509,
     "metadata": {},
     "output_type": "execute_result"
    }
   ],
   "source": [
    "prob.solve() / np.log(2)  #Get same units, and it works!"
   ]
  },
  {
   "cell_type": "markdown",
   "metadata": {},
   "source": [
    "### Trying to figure out why the problem value is not the same as Inc"
   ]
  },
  {
   "cell_type": "code",
   "execution_count": 382,
   "metadata": {},
   "outputs": [
    {
     "data": {
      "text/plain": [
       "array([5.50868125e-09, 1.49921397e-08, 5.28418519e-09, 8.20900422e-02,\n",
       "       3.29237759e-01, 1.99041283e-01, 9.84729097e-02, 7.08383120e-02,\n",
       "       5.72004154e-02, 1.71685371e-09, 2.72323027e-09, 2.91748398e-09,\n",
       "       1.95227651e-02, 3.00323091e-02, 7.47542645e-02, 1.37721316e-02,\n",
       "       2.30246105e-02, 2.01316418e-03])"
      ]
     },
     "execution_count": 382,
     "metadata": {},
     "output_type": "execute_result"
    }
   ],
   "source": [
    "mu.value"
   ]
  },
  {
   "cell_type": "code",
   "execution_count": 414,
   "metadata": {},
   "outputs": [
    {
     "data": {
      "text/plain": [
       "(0.022373577633513338, 0.022373576118623357)"
      ]
     },
     "execution_count": 414,
     "metadata": {},
     "output_type": "execute_result"
    }
   ],
   "source": [
    "M.score(RJD(mu.value,M.varlist), gamma=0), M.score(best, gamma=0)"
   ]
  },
  {
   "cell_type": "code",
   "execution_count": 388,
   "metadata": {},
   "outputs": [
    {
     "data": {
      "text/plain": [
       "3.266765898927833e-07"
      ]
     },
     "execution_count": 388,
     "metadata": {},
     "output_type": "execute_result"
    }
   ],
   "source": [
    "RJD(mu.value, M.varlist) // best"
   ]
  },
  {
   "cell_type": "markdown",
   "metadata": {},
   "source": [
    "#### Question: Are the marginals computed properly?"
   ]
  },
  {
   "cell_type": "code",
   "execution_count": 497,
   "metadata": {},
   "outputs": [
    {
     "data": {
      "text/plain": [
       "array([4.75660119e-11, 1.42027464e-10, 4.65594225e-11, 8.20901414e-02,\n",
       "       3.29237119e-01, 1.99042393e-01, 9.84727334e-02, 7.08382450e-02,\n",
       "       5.72000029e-02, 6.52697202e-25, 7.30245384e-25, 3.57191836e-21,\n",
       "       1.95228726e-02, 3.00319484e-02, 7.47541032e-02, 1.37727306e-02,\n",
       "       2.30243425e-02, 2.01336750e-03])"
      ]
     },
     "execution_count": 497,
     "metadata": {},
     "output_type": "execute_result"
    }
   ],
   "source": [
    "best.data.reshape(-1)"
   ]
  },
  {
   "cell_type": "code",
   "execution_count": 498,
   "metadata": {},
   "outputs": [
    {
     "name": "stdout",
     "output_type": "stream",
     "text": [
      "(3, 2, 3) [0, 1, 2]\n"
     ]
    },
    {
     "data": {
      "text/plain": [
       "array([5.50868125e-09, 1.49921397e-08, 5.28418519e-09, 8.20900422e-02,\n",
       "       3.29237759e-01, 1.99041283e-01, 9.84729097e-02, 7.08383120e-02,\n",
       "       5.72004154e-02, 1.71685371e-09, 2.72323027e-09, 2.91748398e-09,\n",
       "       1.95227651e-02, 3.00323091e-02, 7.47542645e-02, 1.37721316e-02,\n",
       "       2.30246105e-02, 2.01316418e-03])"
      ]
     },
     "execution_count": 498,
     "metadata": {},
     "output_type": "execute_result"
    }
   ],
   "source": [
    "mu.value.T @ mk_projector(M.dshape, μ._idxs(X,Y))"
   ]
  },
  {
   "cell_type": "code",
   "execution_count": 499,
   "metadata": {},
   "outputs": [
    {
     "data": {
      "text/plain": [
       "array([0.08209005, 0.32923777, 0.19904129, 0.09847291, 0.07083831,\n",
       "       0.05720042, 0.0332949 , 0.05305692, 0.07676743])"
      ]
     },
     "execution_count": 499,
     "metadata": {},
     "output_type": "execute_result"
    }
   ],
   "source": [
    "np.array(mu.value).reshape(3,2,3).sum(axis=1).reshape(-1)"
   ]
  },
  {
   "cell_type": "markdown",
   "metadata": {},
   "source": [
    "**No.**\n",
    "\n",
    "One issue: the indices could be reversed `[2,0]` instead of `[0,2]`. Indeed, they are in this case."
   ]
  },
  {
   "cell_type": "code",
   "execution_count": 394,
   "metadata": {},
   "outputs": [],
   "source": [
    "M._idxs = μ._idxs"
   ]
  },
  {
   "cell_type": "code",
   "execution_count": 396,
   "metadata": {},
   "outputs": [],
   "source": [
    "from pdg.alg import interior_pt as ip"
   ]
  },
  {
   "cell_type": "code",
   "execution_count": 404,
   "metadata": {},
   "outputs": [
    {
     "data": {
      "text/plain": [
       "3.266765898927833e-07"
      ]
     },
     "execution_count": 404,
     "metadata": {},
     "output_type": "execute_result"
    }
   ],
   "source": [
    "ip.cvx_opt_component(M) // best"
   ]
  },
  {
   "cell_type": "markdown",
   "metadata": {},
   "source": [
    "### Initial Timing"
   ]
  },
  {
   "cell_type": "code",
   "execution_count": 406,
   "metadata": {},
   "outputs": [
    {
     "name": "stdout",
     "output_type": "stream",
     "text": [
      "24.6 ms ± 479 µs per loop (mean ± std. dev. of 7 runs, 10 loops each)\n"
     ]
    }
   ],
   "source": [
    "%%timeit\n",
    "ip.cvx_opt_component(M)"
   ]
  },
  {
   "cell_type": "code",
   "execution_count": 407,
   "metadata": {},
   "outputs": [
    {
     "name": "stdout",
     "output_type": "stream",
     "text": [
      "[348/350]  loss:  -1.043e+00;  lr: 1.000e-03; \t graient magnitude: 5.265e-02 \t 1.98 s ± 44.2 ms per loop (mean ± std. dev. of 7 runs, 1 loop each)\n"
     ]
    }
   ],
   "source": [
    "%%timeit\n",
    "M._torch_opt_inc()"
   ]
  },
  {
   "cell_type": "code",
   "execution_count": 409,
   "metadata": {},
   "outputs": [
    {
     "name": "stdout",
     "output_type": "stream",
     "text": [
      "1.07 s ± 230 ms per loop (mean ± std. dev. of 7 runs, 1 loop each)\n"
     ]
    }
   ],
   "source": [
    "%%timeit\n",
    "M.optimize_score(0)"
   ]
  },
  {
   "cell_type": "code",
   "execution_count": 477,
   "metadata": {},
   "outputs": [
    {
     "data": {
      "text/plain": [
       "0.022373575042819522"
      ]
     },
     "execution_count": 477,
     "metadata": {},
     "output_type": "execute_result"
    }
   ],
   "source": [
    "ip.cvx_opt_component(M);\n",
    "ip.cvx_opt_component.prob.value / np.log(2)"
   ]
  },
  {
   "cell_type": "code",
   "execution_count": 511,
   "metadata": {},
   "outputs": [
    {
     "name": "stdout",
     "output_type": "stream",
     "text": [
      "For edge p5: A×B → C, in cluster  ['A', 'B', 'C'] idxs_XY = [0, 1, 2]\n",
      "For edge p6: C → A, in cluster  ['A', 'B', 'C'] idxs_XY = [2, 0]\n",
      "0.015508180601616385\n"
     ]
    },
    {
     "ename": "TypeError",
     "evalue": "namedtuple() got an unexpected keyword argument 'marginals'",
     "output_type": "error",
     "traceback": [
      "\u001b[0;31m---------------------------------------------------------------------------\u001b[0m",
      "\u001b[0;31mTypeError\u001b[0m                                 Traceback (most recent call last)",
      "\u001b[0;32m<ipython-input-511-4675e59ade08>\u001b[0m in \u001b[0;36m<module>\u001b[0;34m\u001b[0m\n\u001b[0;32m----> 1\u001b[0;31m \u001b[0minterior_pt\u001b[0m\u001b[0;34m.\u001b[0m\u001b[0mcvx_opt\u001b[0m\u001b[0;34m(\u001b[0m\u001b[0mM\u001b[0m\u001b[0;34m,\u001b[0m \u001b[0;34m[\u001b[0m\u001b[0;34m[\u001b[0m\u001b[0;34m'A'\u001b[0m\u001b[0;34m,\u001b[0m\u001b[0;34m'B'\u001b[0m\u001b[0;34m,\u001b[0m \u001b[0;34m'C'\u001b[0m\u001b[0;34m]\u001b[0m\u001b[0;34m]\u001b[0m\u001b[0;34m)\u001b[0m\u001b[0;34m.\u001b[0m\u001b[0mprob\u001b[0m\u001b[0;34m\u001b[0m\u001b[0;34m\u001b[0m\u001b[0m\n\u001b[0m",
      "\u001b[0;32m~/Research/Joe/agent-goals/code/pdg/alg/interior_pt.py\u001b[0m in \u001b[0;36mcvx_opt\u001b[0;34m(M, varname_clusters)\u001b[0m\n\u001b[1;32m    123\u001b[0m     \u001b[0;31m## save problem, etc as properties of method so you can get them afterwards.\u001b[0m\u001b[0;34m\u001b[0m\u001b[0;34m\u001b[0m\u001b[0;34m\u001b[0m\u001b[0m\n\u001b[1;32m    124\u001b[0m     \u001b[0;31m# return RJD(mu.value, M.varlist)\u001b[0m\u001b[0;34m\u001b[0m\u001b[0;34m\u001b[0m\u001b[0;34m\u001b[0m\u001b[0m\n\u001b[0;32m--> 125\u001b[0;31m     return namedtuple(\n\u001b[0m\u001b[1;32m    126\u001b[0m         \u001b[0mmarginals\u001b[0m\u001b[0;34m=\u001b[0m \u001b[0;34m[\u001b[0m \u001b[0mRJD\u001b[0m\u001b[0;34m(\u001b[0m\u001b[0mmus\u001b[0m\u001b[0;34m[\u001b[0m\u001b[0mi\u001b[0m\u001b[0;34m]\u001b[0m\u001b[0;34m.\u001b[0m\u001b[0mvalue\u001b[0m\u001b[0;34m,\u001b[0m \u001b[0;34m[\u001b[0m\u001b[0mM\u001b[0m\u001b[0;34m.\u001b[0m\u001b[0mvars\u001b[0m\u001b[0;34m[\u001b[0m\u001b[0mvn\u001b[0m\u001b[0;34m]\u001b[0m \u001b[0;32mfor\u001b[0m \u001b[0mvn\u001b[0m \u001b[0;32min\u001b[0m \u001b[0mC\u001b[0m\u001b[0;34m]\u001b[0m\u001b[0;34m)\u001b[0m \u001b[0;32mfor\u001b[0m \u001b[0mi\u001b[0m\u001b[0;34m,\u001b[0m\u001b[0mC\u001b[0m \u001b[0;32min\u001b[0m \u001b[0menumerate\u001b[0m\u001b[0;34m(\u001b[0m\u001b[0mCs\u001b[0m\u001b[0;34m)\u001b[0m\u001b[0;34m]\u001b[0m\u001b[0;34m,\u001b[0m\u001b[0;34m\u001b[0m\u001b[0;34m\u001b[0m\u001b[0m\n\u001b[1;32m    127\u001b[0m         \u001b[0mprob\u001b[0m\u001b[0;34m=\u001b[0m\u001b[0mprob\u001b[0m\u001b[0;34m,\u001b[0m\u001b[0;34m\u001b[0m\u001b[0;34m\u001b[0m\u001b[0m\n",
      "\u001b[0;31mTypeError\u001b[0m: namedtuple() got an unexpected keyword argument 'marginals'"
     ]
    }
   ],
   "source": [
    "ip.cvx_opt(M, [['A','B', 'C']]).prob"
   ]
  },
  {
   "cell_type": "code",
   "execution_count": 506,
   "metadata": {},
   "outputs": [
    {
     "ename": "ValueError",
     "evalue": "'Z' is not in list",
     "output_type": "error",
     "traceback": [
      "\u001b[0;31m---------------------------------------------------------------------------\u001b[0m",
      "\u001b[0;31mValueError\u001b[0m                                Traceback (most recent call last)",
      "\u001b[0;32m<ipython-input-506-f66190602e30>\u001b[0m in \u001b[0;36m<module>\u001b[0;34m\u001b[0m\n\u001b[0;32m----> 1\u001b[0;31m \u001b[0;34m[\u001b[0m\u001b[0;34m'A'\u001b[0m\u001b[0;34m,\u001b[0m\u001b[0;34m'B'\u001b[0m\u001b[0;34m,\u001b[0m\u001b[0;34m'C'\u001b[0m\u001b[0;34m]\u001b[0m\u001b[0;34m.\u001b[0m\u001b[0mindex\u001b[0m\u001b[0;34m(\u001b[0m\u001b[0;34m'Z'\u001b[0m\u001b[0;34m)\u001b[0m\u001b[0;34m\u001b[0m\u001b[0;34m\u001b[0m\u001b[0m\n\u001b[0m",
      "\u001b[0;31mValueError\u001b[0m: 'Z' is not in list"
     ]
    }
   ],
   "source": [
    "['A','B','C'].index('Z')"
   ]
  },
  {
   "cell_type": "markdown",
   "metadata": {},
   "source": [
    "### Actual Tests, break into trees"
   ]
  },
  {
   "cell_type": "code",
   "execution_count": 518,
   "metadata": {},
   "outputs": [
    {
     "data": {
      "image/png": "[encoded data removed]",
      "text/plain": [
       "<Figure size 432x288 with 1 Axes>"
      ]
     },
     "metadata": {},
     "output_type": "display_data"
    }
   ],
   "source": [
    "from random import randint, choice\n",
    "\n",
    "M2 = PDG()\n",
    "Xs = [Var.alph(\"X%d\"%i, randint(2,3)) for i in range(10)]\n",
    "\n",
    "var_subsets = []\n",
    "\n",
    "for i in range(1,10):\n",
    "    src = Xs[i-1];  tgt = Xs[i]\n",
    "    M2 += CPT.make_random(src,tgt)\n",
    "    \n",
    "    var_subsets.append([src.name, tgt.name])\n",
    "\n",
    "M2.draw()"
   ]
  },
  {
   "cell_type": "code",
   "execution_count": 535,
   "metadata": {},
   "outputs": [
    {
     "name": "stdout",
     "output_type": "stream",
     "text": [
      "For edge p19: X0 → X1, in cluster  ['X0', 'X1'] idxs_XY = [0, 1]\n",
      "For edge p20: X1 → X2, in cluster  ['X1', 'X2'] idxs_XY = [0, 1]\n",
      "For edge p21: X2 → X3, in cluster  ['X2', 'X3'] idxs_XY = [0, 1]\n",
      "For edge p22: X3 → X4, in cluster  ['X3', 'X4'] idxs_XY = [0, 1]\n",
      "For edge p23: X4 → X5, in cluster  ['X4', 'X5'] idxs_XY = [0, 1]\n",
      "For edge p24: X5 → X6, in cluster  ['X5', 'X6'] idxs_XY = [0, 1]\n",
      "For edge p25: X6 → X7, in cluster  ['X6', 'X7'] idxs_XY = [0, 1]\n",
      "For edge p26: X7 → X8, in cluster  ['X7', 'X8'] idxs_XY = [0, 1]\n",
      "For edge p27: X8 → X9, in cluster  ['X8', 'X9'] idxs_XY = [0, 1]\n",
      "-2.2235667253725938e-10\n"
     ]
    },
    {
     "data": {
      "text/plain": [
       "ClusterPseudomarginals(marginals=[RJD Δ(X0; X1) as ndarray⟨3,3⟩, RJD Δ(X1; X2) as ndarray⟨3,3⟩, RJD Δ(X2; X3) as ndarray⟨3,3⟩, RJD Δ(X3; X4) as ndarray⟨3,3⟩, RJD Δ(X4; X5) as ndarray⟨3,2⟩, RJD Δ(X5; X6) as ndarray⟨2,2⟩, RJD Δ(X6; X7) as ndarray⟨2,2⟩, RJD Δ(X7; X8) as ndarray⟨2,3⟩, RJD Δ(X8; X9) as ndarray⟨3,3⟩], value=-2.2235667253725938e-10)"
      ]
     },
     "execution_count": 535,
     "metadata": {},
     "output_type": "execute_result"
    }
   ],
   "source": [
    "ip.cvx_opt(M2, var_subsets)"
   ]
  },
  {
   "cell_type": "code",
   "execution_count": 538,
   "metadata": {},
   "outputs": [
    {
     "data": {
      "text/html": [
       "<div>\n",
       "<style scoped>\n",
       "    .dataframe tbody tr th:only-of-type {\n",
       "        vertical-align: middle;\n",
       "    }\n",
       "\n",
       "    .dataframe tbody tr th {\n",
       "        vertical-align: top;\n",
       "    }\n",
       "\n",
       "    .dataframe thead th {\n",
       "        text-align: right;\n",
       "    }\n",
       "</style>\n",
       "<table border=\"1\" class=\"dataframe\">\n",
       "  <thead>\n",
       "    <tr style=\"text-align: right;\">\n",
       "      <th></th>\n",
       "      <th>x10</th>\n",
       "      <th>x11</th>\n",
       "      <th>x12</th>\n",
       "    </tr>\n",
       "  </thead>\n",
       "  <tbody>\n",
       "    <tr>\n",
       "      <th>⋆</th>\n",
       "      <td>0.0</td>\n",
       "      <td>0.0</td>\n",
       "      <td>0.0</td>\n",
       "    </tr>\n",
       "  </tbody>\n",
       "</table>\n",
       "</div>"
      ],
      "text/plain": [
       "   x10  x11  x12\n",
       "⋆  0.0  0.0  0.0"
      ]
     },
     "execution_count": 538,
     "metadata": {},
     "output_type": "execute_result"
    }
   ],
   "source": [
    "_535.marginals[0][Xs[1]] - _535.marginals[1][Xs[1]] # this is a good sign."
   ]
  },
  {
   "cell_type": "code",
   "execution_count": 532,
   "metadata": {},
   "outputs": [
    {
     "data": {
      "text/plain": [
       "[Var X0 {'x00', 'x01', 'x02'},\n",
       " Var X1 {'x10', 'x11', 'x12'},\n",
       " Var X2 {'x20', 'x21', 'x22'},\n",
       " Var X3 {'x30', 'x31', 'x32'},\n",
       " Var X4 {'x40', 'x41', 'x42'},\n",
       " Var X5 {'x50', 'x51'},\n",
       " Var X6 {'x60', 'x61'},\n",
       " Var X7 {'x70', 'x71'},\n",
       " Var X8 {'x80', 'x81', 'x82'},\n",
       " Var X9 {'x90', 'x91', 'x92'}]"
      ]
     },
     "execution_count": 532,
     "metadata": {},
     "output_type": "execute_result"
    }
   ],
   "source": [
    "M2"
   ]
  },
  {
   "cell_type": "code",
   "execution_count": null,
   "metadata": {},
   "outputs": [],
   "source": []
  },
  {
   "cell_type": "markdown",
   "metadata": {},
   "source": [
    "# EXAMPLE: Using $\\alpha$ to ensure causal picture"
   ]
  },
  {
   "cell_type": "markdown",
   "metadata": {},
   "source": [
    "Let's start by doing something that requires $\\alpha$'s. The classic example is two coins + A & B, and a cpd $p(C|AB)$ that is unif when $A = B$ and deterministic otherwise. Then we need $\\alpha$'s to make sure that $A$ and $B$ are independent. "
   ]
  },
  {
   "cell_type": "code",
   "execution_count": 4,
   "metadata": {},
   "outputs": [
    {
     "data": {
      "text/html": [
       "<div>\n",
       "<style scoped>\n",
       "    .dataframe tbody tr th:only-of-type {\n",
       "        vertical-align: middle;\n",
       "    }\n",
       "\n",
       "    .dataframe tbody tr th {\n",
       "        vertical-align: top;\n",
       "    }\n",
       "\n",
       "    .dataframe thead th {\n",
       "        text-align: right;\n",
       "    }\n",
       "</style>\n",
       "<table border=\"1\" class=\"dataframe\">\n",
       "  <thead>\n",
       "    <tr style=\"text-align: right;\">\n",
       "      <th></th>\n",
       "      <th></th>\n",
       "      <th>c0</th>\n",
       "      <th>c1</th>\n",
       "      <th>c2</th>\n",
       "      <th>c3</th>\n",
       "      <th>c4</th>\n",
       "      <th>c5</th>\n",
       "      <th>c6</th>\n",
       "      <th>c7</th>\n",
       "    </tr>\n",
       "  </thead>\n",
       "  <tbody>\n",
       "    <tr>\n",
       "      <th rowspan=\"2\" valign=\"top\">a0</th>\n",
       "      <th>b0</th>\n",
       "      <td>0.125</td>\n",
       "      <td>0.125</td>\n",
       "      <td>0.125</td>\n",
       "      <td>0.125</td>\n",
       "      <td>0.125</td>\n",
       "      <td>0.125</td>\n",
       "      <td>0.125</td>\n",
       "      <td>0.125</td>\n",
       "    </tr>\n",
       "    <tr>\n",
       "      <th>b1</th>\n",
       "      <td>1.000</td>\n",
       "      <td>0.000</td>\n",
       "      <td>0.000</td>\n",
       "      <td>0.000</td>\n",
       "      <td>0.000</td>\n",
       "      <td>0.000</td>\n",
       "      <td>0.000</td>\n",
       "      <td>0.000</td>\n",
       "    </tr>\n",
       "    <tr>\n",
       "      <th rowspan=\"2\" valign=\"top\">a1</th>\n",
       "      <th>b0</th>\n",
       "      <td>1.000</td>\n",
       "      <td>0.000</td>\n",
       "      <td>0.000</td>\n",
       "      <td>0.000</td>\n",
       "      <td>0.000</td>\n",
       "      <td>0.000</td>\n",
       "      <td>0.000</td>\n",
       "      <td>0.000</td>\n",
       "    </tr>\n",
       "    <tr>\n",
       "      <th>b1</th>\n",
       "      <td>0.125</td>\n",
       "      <td>0.125</td>\n",
       "      <td>0.125</td>\n",
       "      <td>0.125</td>\n",
       "      <td>0.125</td>\n",
       "      <td>0.125</td>\n",
       "      <td>0.125</td>\n",
       "      <td>0.125</td>\n",
       "    </tr>\n",
       "  </tbody>\n",
       "</table>\n",
       "</div>"
      ],
      "text/plain": [
       "          c0     c1     c2     c3     c4     c5     c6     c7\n",
       "a0 b0  0.125  0.125  0.125  0.125  0.125  0.125  0.125  0.125\n",
       "   b1  1.000  0.000  0.000  0.000  0.000  0.000  0.000  0.000\n",
       "a1 b0  1.000  0.000  0.000  0.000  0.000  0.000  0.000  0.000\n",
       "   b1  0.125  0.125  0.125  0.125  0.125  0.125  0.125  0.125"
      ]
     },
     "execution_count": 4,
     "metadata": {},
     "output_type": "execute_result"
    }
   ],
   "source": [
    "M = PDG()\n",
    "\n",
    "A = Var.alph(\"A\",2)\n",
    "B = Var.alph(\"B\",2)\n",
    "C = Var.alph(\"C\",8)\n",
    "\n",
    "M += A,B,C\n",
    "\n",
    "M += \"coin-A\", CPT.from_matrix(Unit, A, np.array([0.5, 0.5]).reshape(1,2))\n",
    "M += \"coin-B\", CPT.from_matrix(Unit, B, np.array([0.5, 0.5]).reshape(1,2))\n",
    "\n",
    "M += \"p\", CPT.from_ddict(A & B, C,  \n",
    "        { (a,b) : { c : 1/len(C) for c in C } if a[-1] == b[-1]\n",
    "                    else  1  for (a,b) in A&B })\n",
    "\n",
    "M['p']"
   ]
  },
  {
   "cell_type": "code",
   "execution_count": 5,
   "metadata": {},
   "outputs": [
    {
     "name": "stdout",
     "output_type": "stream",
     "text": [
      "\tmarginalizing :  32 (2, 2, 8) [0]\n",
      "\t[1 / 2] components\n",
      "\tmarginalizing :  32 (2, 2, 8) [1]\n",
      "\t[1 / 2] components\n",
      "\tmarginalizing :  32 (2, 2, 8) [0, 1, 2]\n",
      "\t[31 / 32] components\n",
      "\tmarginalizing :  32 (2, 2, 8) [0, 1]\n",
      "\t[3 / 4] components\n",
      "\tmarginalizing :  32 (2, 2, 8) [0]\n",
      "\t[1 / 2] components\n",
      "\tmarginalizing :  32 (2, 2, 8) [1]\n",
      "\t[1 / 2] components\n",
      "\tmarginalizing :  32 (2, 2, 8) [0, 1, 2]\n",
      "\t[31 / 32] components\n",
      "\tmarginalizing :  32 (2, 2, 8) [0, 1]\n",
      "\t[3 / 4] components\n",
      "\tmarginalizing :  32 (2, 2, 8) [0]\n",
      "\t[1 / 2] components\n",
      "\tmarginalizing :  32 (2, 2, 8) [1]\n",
      "\t[1 / 2] components\n",
      "\tmarginalizing :  32 (2, 2, 8) [0, 1, 2]\n",
      "\t[31 / 32] components\n",
      "\tmarginalizing :  32 (2, 2, 8) [0, 1]\n",
      "\t[3 / 4] components\n"
     ]
    },
    {
     "data": {
      "text/html": [
       "<div>\n",
       "<style scoped>\n",
       "    .dataframe tbody tr th:only-of-type {\n",
       "        vertical-align: middle;\n",
       "    }\n",
       "\n",
       "    .dataframe tbody tr th {\n",
       "        vertical-align: top;\n",
       "    }\n",
       "\n",
       "    .dataframe thead th {\n",
       "        text-align: right;\n",
       "    }\n",
       "</style>\n",
       "<table border=\"1\" class=\"dataframe\">\n",
       "  <thead>\n",
       "    <tr style=\"text-align: right;\">\n",
       "      <th></th>\n",
       "      <th>(a0, b0)</th>\n",
       "      <th>(a0, b1)</th>\n",
       "      <th>(a1, b0)</th>\n",
       "      <th>(a1, b1)</th>\n",
       "    </tr>\n",
       "  </thead>\n",
       "  <tbody>\n",
       "    <tr>\n",
       "      <th>⋆</th>\n",
       "      <td>0.382662</td>\n",
       "      <td>0.117338</td>\n",
       "      <td>0.117338</td>\n",
       "      <td>0.382662</td>\n",
       "    </tr>\n",
       "  </tbody>\n",
       "</table>\n",
       "</div>"
      ],
      "text/plain": [
       "   (a0, b0)  (a0, b1)  (a1, b0)  (a1, b1)\n",
       "⋆  0.382662  0.117338  0.117338  0.382662"
      ]
     },
     "execution_count": 5,
     "metadata": {},
     "output_type": "execute_result"
    }
   ],
   "source": [
    "from pdg.alg import interior_pt as ip\n",
    "\n",
    "# list(M.edges(\"XY\"))\n",
    "# M._idxs( A & B )\n",
    "# M.dshape\n",
    "\n",
    "mu1 = ip.cvx_opt_joint(M, False)\n",
    "mu2 = ip.cvx_opt_joint(M, True)\n",
    "mu1[A,B]\n"
   ]
  },
  {
   "cell_type": "code",
   "execution_count": 8,
   "metadata": {},
   "outputs": [
    {
     "data": {
      "text/html": [
       "<div>\n",
       "<style scoped>\n",
       "    .dataframe tbody tr th:only-of-type {\n",
       "        vertical-align: middle;\n",
       "    }\n",
       "\n",
       "    .dataframe tbody tr th {\n",
       "        vertical-align: top;\n",
       "    }\n",
       "\n",
       "    .dataframe thead th {\n",
       "        text-align: right;\n",
       "    }\n",
       "</style>\n",
       "<table border=\"1\" class=\"dataframe\">\n",
       "  <thead>\n",
       "    <tr style=\"text-align: right;\">\n",
       "      <th></th>\n",
       "      <th>(a0, b0)</th>\n",
       "      <th>(a0, b1)</th>\n",
       "      <th>(a1, b0)</th>\n",
       "      <th>(a1, b1)</th>\n",
       "    </tr>\n",
       "  </thead>\n",
       "  <tbody>\n",
       "    <tr>\n",
       "      <th>⋆</th>\n",
       "      <td>0.249998</td>\n",
       "      <td>0.250002</td>\n",
       "      <td>0.250002</td>\n",
       "      <td>0.249998</td>\n",
       "    </tr>\n",
       "  </tbody>\n",
       "</table>\n",
       "</div>"
      ],
      "text/plain": [
       "   (a0, b0)  (a0, b1)  (a1, b0)  (a1, b1)\n",
       "⋆  0.249998  0.250002  0.250002  0.249998"
      ]
     },
     "execution_count": 8,
     "metadata": {},
     "output_type": "execute_result"
    }
   ],
   "source": [
    "mu2 = ip.cvx_opt_joint(M)\n",
    "mu2[A,B]"
   ]
  },
  {
   "cell_type": "markdown",
   "metadata": {},
   "source": [
    "### Now, with clusters"
   ]
  },
  {
   "cell_type": "markdown",
   "metadata": {},
   "source": [
    "First litmus test: does it work if we just include one cluster? "
   ]
  },
  {
   "cell_type": "code",
   "execution_count": 9,
   "metadata": {},
   "outputs": [
    {
     "name": "stdout",
     "output_type": "stream",
     "text": [
      "-5.587178978454249e-09\n"
     ]
    },
    {
     "data": {
      "text/html": [
       "<div>\n",
       "<style scoped>\n",
       "    .dataframe tbody tr th:only-of-type {\n",
       "        vertical-align: middle;\n",
       "    }\n",
       "\n",
       "    .dataframe tbody tr th {\n",
       "        vertical-align: top;\n",
       "    }\n",
       "\n",
       "    .dataframe thead th {\n",
       "        text-align: right;\n",
       "    }\n",
       "</style>\n",
       "<table border=\"1\" class=\"dataframe\">\n",
       "  <thead>\n",
       "    <tr style=\"text-align: right;\">\n",
       "      <th></th>\n",
       "      <th>(a0, b0)</th>\n",
       "      <th>(a0, b1)</th>\n",
       "      <th>(a1, b0)</th>\n",
       "      <th>(a1, b1)</th>\n",
       "    </tr>\n",
       "  </thead>\n",
       "  <tbody>\n",
       "    <tr>\n",
       "      <th>⋆</th>\n",
       "      <td>0.249991</td>\n",
       "      <td>0.250009</td>\n",
       "      <td>0.250009</td>\n",
       "      <td>0.249991</td>\n",
       "    </tr>\n",
       "  </tbody>\n",
       "</table>\n",
       "</div>"
      ],
      "text/plain": [
       "   (a0, b0)  (a0, b1)  (a1, b0)  (a1, b1)\n",
       "⋆  0.249991  0.250009  0.250009  0.249991"
      ]
     },
     "execution_count": 9,
     "metadata": {},
     "output_type": "execute_result"
    }
   ],
   "source": [
    "mu3 = ip.cvx_opt_clusters(M, [[V.name for V in M.varlist]], True).marginals[0]\n",
    "mu3[A,B]"
   ]
  },
  {
   "cell_type": "markdown",
   "metadata": {},
   "source": [
    "Now, what if there are two clusters?"
   ]
  },
  {
   "cell_type": "code",
   "execution_count": 8,
   "metadata": {},
   "outputs": [],
   "source": [
    "M2 = M.copy()\n",
    "\n",
    "D = Var.alph(\"D\", 3)\n",
    "M2 += D\n",
    "M2 += CPT.make_random(C,D)"
   ]
  },
  {
   "cell_type": "code",
   "execution_count": 10,
   "metadata": {},
   "outputs": [
    {
     "ename": "TypeError",
     "evalue": "unhashable type: 'list'",
     "output_type": "error",
     "traceback": [
      "\u001b[0;31m---------------------------------------------------------------------------\u001b[0m",
      "\u001b[0;31mTypeError\u001b[0m                                 Traceback (most recent call last)",
      "\u001b[0;32m<ipython-input-10-4466ec214459>\u001b[0m in \u001b[0;36m<module>\u001b[0;34m\u001b[0m\n\u001b[1;32m     10\u001b[0m )\n\u001b[1;32m     11\u001b[0m \u001b[0;34m\u001b[0m\u001b[0m\n\u001b[0;32m---> 12\u001b[0;31m \u001b[0mmu4F\u001b[0m \u001b[0;34m=\u001b[0m \u001b[0mip\u001b[0m\u001b[0;34m.\u001b[0m\u001b[0mcvx_opt_clusters\u001b[0m\u001b[0;34m(\u001b[0m\u001b[0mM2\u001b[0m\u001b[0;34m,\u001b[0m \u001b[0;32mFalse\u001b[0m\u001b[0;34m,\u001b[0m \u001b[0;34m[\u001b[0m\u001b[0;34m[\u001b[0m\u001b[0;34m\"A\"\u001b[0m\u001b[0;34m,\u001b[0m\u001b[0;34m\"B\"\u001b[0m\u001b[0;34m,\u001b[0m\u001b[0;34m\"C\"\u001b[0m\u001b[0;34m]\u001b[0m\u001b[0;34m,\u001b[0m \u001b[0;34m[\u001b[0m\u001b[0;34m\"C\"\u001b[0m\u001b[0;34m,\u001b[0m \u001b[0;34m\"D\"\u001b[0m\u001b[0;34m]\u001b[0m\u001b[0;34m]\u001b[0m\u001b[0;34m,\u001b[0m\u001b[0;34m**\u001b[0m\u001b[0msolverparams\u001b[0m\u001b[0;34m)\u001b[0m\u001b[0;34m.\u001b[0m\u001b[0mmarginals\u001b[0m\u001b[0;34m\u001b[0m\u001b[0;34m\u001b[0m\u001b[0m\n\u001b[0m\u001b[1;32m     13\u001b[0m \u001b[0mmu4T\u001b[0m \u001b[0;34m=\u001b[0m \u001b[0mip\u001b[0m\u001b[0;34m.\u001b[0m\u001b[0mcvx_opt_clusters\u001b[0m\u001b[0;34m(\u001b[0m\u001b[0mM2\u001b[0m\u001b[0;34m,\u001b[0m \u001b[0;32mTrue\u001b[0m\u001b[0;34m,\u001b[0m \u001b[0;34m[\u001b[0m\u001b[0;34m[\u001b[0m\u001b[0;34m\"A\"\u001b[0m\u001b[0;34m,\u001b[0m\u001b[0;34m\"B\"\u001b[0m\u001b[0;34m,\u001b[0m\u001b[0;34m\"C\"\u001b[0m\u001b[0;34m]\u001b[0m\u001b[0;34m,\u001b[0m \u001b[0;34m[\u001b[0m\u001b[0;34m\"C\"\u001b[0m\u001b[0;34m,\u001b[0m \u001b[0;34m\"D\"\u001b[0m\u001b[0;34m]\u001b[0m\u001b[0;34m]\u001b[0m\u001b[0;34m,\u001b[0m\u001b[0;34m**\u001b[0m\u001b[0msolverparams\u001b[0m\u001b[0;34m)\u001b[0m\u001b[0;34m.\u001b[0m\u001b[0mmarginals\u001b[0m\u001b[0;34m\u001b[0m\u001b[0;34m\u001b[0m\u001b[0m\n\u001b[1;32m     14\u001b[0m \u001b[0;34m\u001b[0m\u001b[0m\n",
      "\u001b[0;32m~/Research/Joe/agent-goals/code/pdg/alg/interior_pt.py\u001b[0m in \u001b[0;36mcvx_opt_clusters\u001b[0;34m(M, also_idef, varname_clusters, cluster_edges, dry_run, **solver_kwargs)\u001b[0m\n\u001b[1;32m    179\u001b[0m                                 \u001b[0mnum_sepset_params\u001b[0m \u001b[0;34m=\u001b[0m \u001b[0mnp\u001b[0m\u001b[0;34m.\u001b[0m\u001b[0mprod\u001b[0m\u001b[0;34m(\u001b[0m\u001b[0;34m[\u001b[0m\u001b[0mlen\u001b[0m\u001b[0;34m(\u001b[0m\u001b[0mM\u001b[0m\u001b[0;34m.\u001b[0m\u001b[0mvars\u001b[0m\u001b[0;34m[\u001b[0m\u001b[0mX\u001b[0m\u001b[0;34m]\u001b[0m\u001b[0;34m)\u001b[0m \u001b[0;32mfor\u001b[0m \u001b[0mX\u001b[0m \u001b[0;32min\u001b[0m \u001b[0mcommon\u001b[0m\u001b[0;34m]\u001b[0m\u001b[0;34m)\u001b[0m\u001b[0;34m\u001b[0m\u001b[0;34m\u001b[0m\u001b[0m\n\u001b[1;32m    180\u001b[0m \u001b[0;34m\u001b[0m\u001b[0m\n\u001b[0;32m--> 181\u001b[0;31m                                 \u001b[0mcomplete_graph\u001b[0m\u001b[0;34m.\u001b[0m\u001b[0madd_edge\u001b[0m\u001b[0;34m(\u001b[0m\u001b[0mCs\u001b[0m\u001b[0;34m[\u001b[0m\u001b[0mi\u001b[0m\u001b[0;34m]\u001b[0m\u001b[0;34m,\u001b[0m \u001b[0mCs\u001b[0m\u001b[0;34m[\u001b[0m\u001b[0mj\u001b[0m\u001b[0;34m]\u001b[0m\u001b[0;34m,\u001b[0m \u001b[0mweight\u001b[0m\u001b[0;34m=\u001b[0m\u001b[0;34m-\u001b[0m\u001b[0mlen\u001b[0m\u001b[0;34m(\u001b[0m\u001b[0mcommon\u001b[0m\u001b[0;34m)\u001b[0m\u001b[0;34m)\u001b[0m\u001b[0;34m\u001b[0m\u001b[0;34m\u001b[0m\u001b[0m\n\u001b[0m\u001b[1;32m    182\u001b[0m                                 \u001b[0;31m# complete_graph.add_edge(Cs[i], Cs[j], weight=-num_sepset_params)\u001b[0m\u001b[0;34m\u001b[0m\u001b[0;34m\u001b[0m\u001b[0;34m\u001b[0m\u001b[0m\n\u001b[1;32m    183\u001b[0m                                 \u001b[0;31m# complete_graph.add_edge(i, j, weight=-num_sepset_params)\u001b[0m\u001b[0;34m\u001b[0m\u001b[0;34m\u001b[0m\u001b[0;34m\u001b[0m\u001b[0m\n",
      "\u001b[0;32m~/.local/lib/python3.8/site-packages/networkx/classes/graph.py\u001b[0m in \u001b[0;36madd_edge\u001b[0;34m(self, u_of_edge, v_of_edge, **attr)\u001b[0m\n\u001b[1;32m    870\u001b[0m         \u001b[0mu\u001b[0m\u001b[0;34m,\u001b[0m \u001b[0mv\u001b[0m \u001b[0;34m=\u001b[0m \u001b[0mu_of_edge\u001b[0m\u001b[0;34m,\u001b[0m \u001b[0mv_of_edge\u001b[0m\u001b[0;34m\u001b[0m\u001b[0;34m\u001b[0m\u001b[0m\n\u001b[1;32m    871\u001b[0m         \u001b[0;31m# add nodes\u001b[0m\u001b[0;34m\u001b[0m\u001b[0;34m\u001b[0m\u001b[0;34m\u001b[0m\u001b[0m\n\u001b[0;32m--> 872\u001b[0;31m         \u001b[0;32mif\u001b[0m \u001b[0mu\u001b[0m \u001b[0;32mnot\u001b[0m \u001b[0;32min\u001b[0m \u001b[0mself\u001b[0m\u001b[0;34m.\u001b[0m\u001b[0m_node\u001b[0m\u001b[0;34m:\u001b[0m\u001b[0;34m\u001b[0m\u001b[0;34m\u001b[0m\u001b[0m\n\u001b[0m\u001b[1;32m    873\u001b[0m             \u001b[0mself\u001b[0m\u001b[0;34m.\u001b[0m\u001b[0m_adj\u001b[0m\u001b[0;34m[\u001b[0m\u001b[0mu\u001b[0m\u001b[0;34m]\u001b[0m \u001b[0;34m=\u001b[0m \u001b[0mself\u001b[0m\u001b[0;34m.\u001b[0m\u001b[0madjlist_inner_dict_factory\u001b[0m\u001b[0;34m(\u001b[0m\u001b[0;34m)\u001b[0m\u001b[0;34m\u001b[0m\u001b[0;34m\u001b[0m\u001b[0m\n\u001b[1;32m    874\u001b[0m             \u001b[0mself\u001b[0m\u001b[0;34m.\u001b[0m\u001b[0m_node\u001b[0m\u001b[0;34m[\u001b[0m\u001b[0mu\u001b[0m\u001b[0;34m]\u001b[0m \u001b[0;34m=\u001b[0m \u001b[0mself\u001b[0m\u001b[0;34m.\u001b[0m\u001b[0mnode_attr_dict_factory\u001b[0m\u001b[0;34m(\u001b[0m\u001b[0;34m)\u001b[0m\u001b[0;34m\u001b[0m\u001b[0;34m\u001b[0m\u001b[0m\n",
      "\u001b[0;31mTypeError\u001b[0m: unhashable type: 'list'"
     ]
    }
   ],
   "source": [
    "# mu4 = ip.cvx_opt_clusters(M2, [[\"A\",\"B\",\"C\"], [\"C\", \"D\"]], True).marginals\n",
    "\n",
    "import cvxpy as cp\n",
    "solverparams = dict(\n",
    "    # solver = cp.SCS,\n",
    "    # mosek_params = {\n",
    "    #     'MSK_DPAR_BASIS_TOL_X' : 1e-9,\n",
    "    #     'MSK_DPAR_BASIS_TOL_S' : 1e-9\n",
    "    # }\n",
    ")\n",
    "\n",
    "mu4F = ip.cvx_opt_clusters(M2, False, [(\"A\",\"B\",\"C\"), (\"C\", \"D\")],**solverparams).marginals\n",
    "mu4T = ip.cvx_opt_clusters(M2, True, [(\"A\",\"B\",\"C\"), (\"C\", \"D\")],**solverparams).marginals\n",
    "\n",
    "\n",
    "mu5T = ip.cvx_opt_clusters(M2, False,  [(\"A\",\"B\",\"C\",\"D\")], **solverparams).marginals\n",
    "mu5F = ip.cvx_opt_clusters(M2, True, [(\"A\",\"B\",\"C\",\"D\")], **solverparams).marginals\n",
    "\n"
   ]
  },
  {
   "cell_type": "code",
   "execution_count": 21,
   "metadata": {},
   "outputs": [
    {
     "name": "stdout",
     "output_type": "stream",
     "text": [
      "no clusters given; using pgmpy junction tree to find some.\n",
      "FOUND:  [('C', 'A', 'B'), ('C', 'D')]\n",
      "-1.6537615376582568e-09\n"
     ]
    }
   ],
   "source": [
    "\n",
    "mu6 = ip.cvx_opt_clusters(M2)"
   ]
  },
  {
   "cell_type": "code",
   "execution_count": 6,
   "metadata": {},
   "outputs": [],
   "source": [
    "from IPython.display import display_html\n",
    "from itertools import chain,cycle\n",
    "def display_side_by_side(*args,titles=cycle([''])):\n",
    "    html_str=''\n",
    "    for df,title in zip(args, chain(titles,cycle([''])) ):\n",
    "        html_str+='<th style=\"text-align:center\"><td style=\"vertical-align:top\">'\n",
    "        # html_str+=f'<h2 style=\"text-align: center;\">{title}</h2>'\n",
    "        html_str+=df.to_html(float_format='{:.3f}'.format).replace('table','table style=\"display:inline\"')\n",
    "        html_str+='</td></th>'\n",
    "    display_html(html_str,raw=True)"
   ]
  },
  {
   "cell_type": "code",
   "execution_count": 34,
   "metadata": {},
   "outputs": [
    {
     "data": {
      "text/html": [
       "<th style=\"text-align:center\"><td style=\"vertical-align:top\"><table style=\"display:inline\" border=\"1\" class=\"dataframe\">\n",
       "  <thead>\n",
       "    <tr style=\"text-align: right;\">\n",
       "      <th></th>\n",
       "      <th>(a0, b0)</th>\n",
       "      <th>(a0, b1)</th>\n",
       "      <th>(a1, b0)</th>\n",
       "      <th>(a1, b1)</th>\n",
       "    </tr>\n",
       "  </thead>\n",
       "  <tbody>\n",
       "    <tr>\n",
       "      <th>⋆</th>\n",
       "      <td>0.320</td>\n",
       "      <td>0.180</td>\n",
       "      <td>0.180</td>\n",
       "      <td>0.320</td>\n",
       "    </tr>\n",
       "  </tbody>\n",
       "</table style=\"display:inline\"></td></th><th style=\"text-align:center\"><td style=\"vertical-align:top\"><table style=\"display:inline\" border=\"1\" class=\"dataframe\">\n",
       "  <thead>\n",
       "    <tr style=\"text-align: right;\">\n",
       "      <th></th>\n",
       "      <th>(a0, b0)</th>\n",
       "      <th>(a0, b1)</th>\n",
       "      <th>(a1, b0)</th>\n",
       "      <th>(a1, b1)</th>\n",
       "    </tr>\n",
       "  </thead>\n",
       "  <tbody>\n",
       "    <tr>\n",
       "      <th>⋆</th>\n",
       "      <td>0.250</td>\n",
       "      <td>0.250</td>\n",
       "      <td>0.250</td>\n",
       "      <td>0.250</td>\n",
       "    </tr>\n",
       "  </tbody>\n",
       "</table style=\"display:inline\"></td></th>"
      ]
     },
     "metadata": {},
     "output_type": "display_data"
    },
    {
     "data": {
      "text/html": [
       "<th style=\"text-align:center\"><td style=\"vertical-align:top\"><table style=\"display:inline\" border=\"1\" class=\"dataframe\">\n",
       "  <thead>\n",
       "    <tr style=\"text-align: right;\">\n",
       "      <th></th>\n",
       "      <th>(a0, b0)</th>\n",
       "      <th>(a0, b1)</th>\n",
       "      <th>(a1, b0)</th>\n",
       "      <th>(a1, b1)</th>\n",
       "    </tr>\n",
       "  </thead>\n",
       "  <tbody>\n",
       "    <tr>\n",
       "      <th>⋆</th>\n",
       "      <td>0.352</td>\n",
       "      <td>0.148</td>\n",
       "      <td>0.148</td>\n",
       "      <td>0.352</td>\n",
       "    </tr>\n",
       "  </tbody>\n",
       "</table style=\"display:inline\"></td></th><th style=\"text-align:center\"><td style=\"vertical-align:top\"><table style=\"display:inline\" border=\"1\" class=\"dataframe\">\n",
       "  <thead>\n",
       "    <tr style=\"text-align: right;\">\n",
       "      <th></th>\n",
       "      <th>(a0, b0)</th>\n",
       "      <th>(a0, b1)</th>\n",
       "      <th>(a1, b0)</th>\n",
       "      <th>(a1, b1)</th>\n",
       "    </tr>\n",
       "  </thead>\n",
       "  <tbody>\n",
       "    <tr>\n",
       "      <th>⋆</th>\n",
       "      <td>0.250</td>\n",
       "      <td>0.250</td>\n",
       "      <td>0.250</td>\n",
       "      <td>0.250</td>\n",
       "    </tr>\n",
       "  </tbody>\n",
       "</table style=\"display:inline\"></td></th>"
      ]
     },
     "metadata": {},
     "output_type": "display_data"
    },
    {
     "data": {
      "text/html": [
       "<div>\n",
       "<style scoped>\n",
       "    .dataframe tbody tr th:only-of-type {\n",
       "        vertical-align: middle;\n",
       "    }\n",
       "\n",
       "    .dataframe tbody tr th {\n",
       "        vertical-align: top;\n",
       "    }\n",
       "\n",
       "    .dataframe thead th {\n",
       "        text-align: right;\n",
       "    }\n",
       "</style>\n",
       "<table border=\"1\" class=\"dataframe\">\n",
       "  <thead>\n",
       "    <tr style=\"text-align: right;\">\n",
       "      <th></th>\n",
       "      <th>(a0, b0)</th>\n",
       "      <th>(a0, b1)</th>\n",
       "      <th>(a1, b0)</th>\n",
       "      <th>(a1, b1)</th>\n",
       "    </tr>\n",
       "  </thead>\n",
       "  <tbody>\n",
       "    <tr>\n",
       "      <th>⋆</th>\n",
       "      <td>0.249995</td>\n",
       "      <td>0.250005</td>\n",
       "      <td>0.250005</td>\n",
       "      <td>0.249995</td>\n",
       "    </tr>\n",
       "  </tbody>\n",
       "</table>\n",
       "</div>"
      ],
      "text/plain": [
       "   (a0, b0)  (a0, b1)  (a1, b0)  (a1, b1)\n",
       "⋆  0.249995  0.250005  0.250005  0.249995"
      ]
     },
     "execution_count": 34,
     "metadata": {},
     "output_type": "execute_result"
    }
   ],
   "source": [
    "# M['p']\n",
    "# display_side_by_side( mu4F[0][A], mu4T[0][A], titles=[\"A1\", \"A2\"])\n",
    "\n",
    "display_side_by_side( mu4F[0][A,B], mu4T[0][A,B])\n",
    "display_side_by_side( mu5F[0][A,B], mu5T[0][A,B])\n",
    "# mu4T[0][B]\n",
    "# \n",
    "\n",
    "mu6.marginals[0][A,B]\n"
   ]
  },
  {
   "cell_type": "markdown",
   "metadata": {},
   "source": [
    "Some debugging below..."
   ]
  },
  {
   "cell_type": "code",
   "execution_count": 269,
   "metadata": {},
   "outputs": [
    {
     "name": "stdout",
     "output_type": "stream",
     "text": [
      "0.20960794772974634 1.5525070118371787e-09\n",
      "entropies { 1.0,1.0,2.2859,1.2303 } sum to 5.5161999999999995  compared to H(...) = 5.3066\n",
      "H(D|A,B,C) =  1.228926658305019\n",
      "H(D|A&B&C) =  1.228926658305019\n",
      "H(D|C) =  1.2302790210382883\n",
      "\n"
     ]
    },
    {
     "data": {
      "image/png": "[encoded data removed]",
      "text/plain": [
       "<Figure size 432x288 with 1 Axes>"
      ]
     },
     "metadata": {},
     "output_type": "display_data"
    }
   ],
   "source": [
    "# Let's print some stuff... how is the IDef objective between the two?\n",
    "print(M2.IDef(mu5F[0]), M2.IDef(mu5T[0]))\n",
    "# wait why is the first thing negative? IDef has to be positive for BN shapes!!\n",
    "\n",
    "M2.draw()\n",
    "\n",
    "assert(np.allclose(mu5F[0].data.sum(), 1)) # The distribution is normalized.\n",
    "H = mu5F[0].H\n",
    "\n",
    "ents = [round(v, 4) for v in [H(A), H(B), H(C|A&B), H(D|C)]]\n",
    "print(\"entropies {\", \",\".join(map(str,ents)), \"} sum to\", sum(ents), \" compared to H(...) =\", round(H(...),4))\n",
    "# print(H(A,B) + H(C|A,B) + H(D|A,B,C))\n",
    "print(\"H(D|A,B,C) = \", H(D|A,B,C))\n",
    "print(\"H(D|A&B&C) = \", H(D|A&B&C))\n",
    "print(\"H(D|C) = \", H(D|C))\n",
    "print()\n",
    "\n",
    "# print(mu5F[0]._process_vars([D|A,B,C]))\n",
    "# print(mu5F[0]._process_vars([D|A&B&C]))\n",
    "\n"
   ]
  },
  {
   "cell_type": "code",
   "execution_count": 272,
   "metadata": {},
   "outputs": [
    {
     "name": "stdout",
     "output_type": "stream",
     "text": [
      "5.429508704788615\n"
     ]
    }
   ],
   "source": [
    "print(mu4F[0].H(...) + mu4F[1].H(...) - mu4F[0].H(C))\n"
   ]
  },
  {
   "cell_type": "code",
   "execution_count": 41,
   "metadata": {},
   "outputs": [
    {
     "name": "stdout",
     "output_type": "stream",
     "text": [
      "[348/350]  loss:  -4.267e+01;  lr: 1.000e-03; \t graient magnitude: 1.335e-01 \t "
     ]
    }
   ],
   "source": [
    "\n",
    "best = M2.optimize_score(1E-8)\n",
    "M.score(best, gamma=1E-8)\n",
    "\n",
    "from pdg.alg.torch_opt import opt_dist\n",
    "\n",
    "mu7 = opt_dist(M2, 0).npify()"
   ]
  },
  {
   "cell_type": "code",
   "execution_count": 53,
   "metadata": {},
   "outputs": [
    {
     "data": {
      "text/plain": [
       "(0.12620822202578363+20.197730572445487j)"
      ]
     },
     "execution_count": 53,
     "metadata": {},
     "output_type": "execute_result"
    }
   ],
   "source": [
    "M2.score(mu7)\n",
    "# M2.score(mu6.marginals[0])\n",
    "M2.score(mu5F[0])\n",
    "\n",
    "import pandas as pd\n",
    "df = pd.DataFrame([[M2.Inc(m), M2.IDef(m)] for m in [mu7,]])\n",
    "df"
   ]
  }
 ],
 "metadata": {
  "kernelspec": {
   "display_name": "Python 3.8.10 64-bit",
   "language": "python",
   "name": "python3"
  },
  "language_info": {
   "codemirror_mode": {
    "name": "ipython",
    "version": 3
   },
   "file_extension": ".py",
   "mimetype": "text/x-python",
   "name": "python",
   "nbconvert_exporter": "python",
   "pygments_lexer": "ipython3",
   "version": "3.8.10"
  },
  "vscode": {
   "interpreter": {
    "hash": "31f2aee4e71d21fbe5cf8b01ff0e069b9275f58929596ceb00d14d90e3e16cd6"
   }
  }
 },
 "nbformat": 4,
 "nbformat_minor": 4
}
