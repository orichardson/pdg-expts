{
 "cells": [
  {
   "cell_type": "code",
   "execution_count": 13,
   "metadata": {},
   "outputs": [
    {
     "name": "stdout",
     "output_type": "stream",
     "text": [
      "The autoreload extension is already loaded. To reload it, use:\n",
      "  %reload_ext autoreload\n"
     ]
    }
   ],
   "source": [
    "%load_ext autoreload\n",
    "%autoreload 2"
   ]
  },
  {
   "cell_type": "code",
   "execution_count": 35,
   "metadata": {},
   "outputs": [],
   "source": [
    "import numpy as np\n",
    "\n",
    "from pdg.pdg import PDG\n",
    "from pdg.rv import Variable as Var\n",
    "from pdg.dist import RawJointDist as RJD, CPT"
   ]
  },
  {
   "cell_type": "code",
   "execution_count": 375,
   "metadata": {},
   "outputs": [
    {
     "data": {
      "image/png": "[encoded data removed]",
      "text/plain": [
       "<Figure size 432x288 with 1 Axes>"
      ]
     },
     "metadata": {},
     "output_type": "display_data"
    }
   ],
   "source": [
    "A = Var.alph(\"A\", 3)\n",
    "B = Var.alph(\"B\", 2)\n",
    "C = Var.alph(\"C\", 3)\n",
    "\n",
    "M = PDG()\n",
    "M += A,B,C\n",
    "\n",
    "M += CPT.make_random(A&B, C)\n",
    "M += CPT.make_random(C, A)\n",
    "\n",
    "M.draw()"
   ]
  },
  {
   "cell_type": "code",
   "execution_count": 376,
   "metadata": {},
   "outputs": [
    {
     "data": {
      "text/plain": [
       "0.022373576118623357"
      ]
     },
     "execution_count": 376,
     "metadata": {},
     "output_type": "execute_result"
    }
   ],
   "source": [
    "best = M.optimize_score(0)\n",
    "M.score(best, gamma=0)"
   ]
  },
  {
   "cell_type": "markdown",
   "metadata": {},
   "source": [
    "### **Warmup:** no marginalization or conditioning; $p$ same shape as $\\mu$."
   ]
  },
  {
   "cell_type": "code",
   "execution_count": 292,
   "metadata": {},
   "outputs": [],
   "source": [
    "M.dshape\n",
    "n = np.prod(M.dshape)\n",
    "\n",
    "mu = cp.Variable(n, nonneg=True)\n",
    "p_special = best.data.reshape(-1)\n",
    "t = cp.Variable(n)\n",
    "        -1\n",
    "\n",
    "tol_constraints = [\n",
    "#         cp.constraints.exponential.ExpCone(-t[L], mu, fix(p).reshape(-1)) \n",
    "        cp.constraints.exponential.ExpCone(-t, mu, p_special) \n",
    "    ]\n",
    "\n",
    "\n",
    "prob = cp.Problem( cp.Minimize( sum(t) ), \n",
    "                  [ sum(mu) == 1 ] + tol_constraints )\n"
   ]
  },
  {
   "cell_type": "code",
   "execution_count": 293,
   "metadata": {},
   "outputs": [
    {
     "data": {
      "text/plain": [
       "2.269466271616548e-09"
      ]
     },
     "execution_count": 293,
     "metadata": {},
     "output_type": "execute_result"
    }
   ],
   "source": [
    "prob.solve()"
   ]
  },
  {
   "cell_type": "code",
   "execution_count": 287,
   "metadata": {
    "scrolled": true
   },
   "outputs": [
    {
     "name": "stdout",
     "output_type": "stream",
     "text": [
      "(3, 2, 3) [0, 1, 2]\n",
      "(3, 2, 3) [2, 0]\n"
     ]
    }
   ],
   "source": [
    "## Printing stuff for debugging\n",
    "# for L,X,Y,p in M.edges(\"l,X,Y,P\"):\n",
    "#     if 'π' not in L: \n",
    "#         print(X.name, Y.name, L, p.shape,  μ._idxs(X), μ._idxs(Y))\n",
    "#         print(p.to_numpy().size)\n",
    "#         print('yo', mk_projector(M.dshape, μ._idxs(X,Y)).shape)\n",
    "\n",
    "mu = cp.Variable(np.prod(M.dshape), nonneg=True)\n",
    "p_special = best.data.reshape(-1)\n",
    "\n",
    "t = { L : cp.Variable(p.to_numpy().size) for (L,p) in M.edges(\"l,P\") if 'π' not in L }\n",
    "        \n",
    "        \n",
    "tol_constraints = [\n",
    "#         cp.constraints.exponential.ExpCone(-t[L], mu, fix(p).reshape(-1)) \n",
    "        cp.constraints.exponential.ExpCone(-t[L],\n",
    "#                                            mk_projector(M.dshape, μ._idxs(X,Y))@mu,\n",
    "                                           mu.T @ mk_projector(M.dshape, μ._idxs(X,Y)),\n",
    "                                           p.to_numpy().reshape(-1))\n",
    "            for L,X,Y,p in M.edges(\"l,X,Y,P\") if 'π' not in L\n",
    "    ]\n"
   ]
  },
  {
   "cell_type": "code",
   "execution_count": 288,
   "metadata": {},
   "outputs": [],
   "source": [
    "prob = cp.Problem( cp.Minimize( sum(sum(t[L])*βL for (βL,L) in M.edges('β,L') if 'π' not in L) ), \n",
    "                  [ sum(mu) == 1 ] + tol_constraints )\n"
   ]
  },
  {
   "cell_type": "markdown",
   "metadata": {},
   "source": [
    "## Marginalization\n",
    "### Expanding P (doesn't work)"
   ]
  },
  {
   "cell_type": "code",
   "execution_count": 300,
   "metadata": {},
   "outputs": [],
   "source": [
    "μ = M.genΔ(kind=RJD.unif)\n",
    "\n",
    "def fix(cpt):\n",
    "    p = μ.broadcast(cpt)\n",
    "    for i,d in enumerate(M.dshape):\n",
    "        if p.shape[i] == 1 and M.dshape[i] > 1:\n",
    "            p = p.repeat(d, axis=i)\n",
    "    return p"
   ]
  },
  {
   "cell_type": "code",
   "execution_count": 163,
   "metadata": {},
   "outputs": [
    {
     "data": {
      "text/plain": [
       "array([[15, 18, 21, 24, 27],\n",
       "       [60, 63, 66, 69, 72]])"
      ]
     },
     "execution_count": 163,
     "metadata": {},
     "output_type": "execute_result"
    }
   ],
   "source": [
    "# A = np.ones((2,3,5))\n",
    "# A[]\n",
    "A = np.arange(2*3*5)\n",
    "Ashaped = A.reshape(2,3,5)\n",
    "V = cp.Variable(2*3*5)\n",
    "\n",
    "Ashaped.sum(axis=1)"
   ]
  },
  {
   "cell_type": "markdown",
   "metadata": {},
   "source": [
    "### Fancy Roll Strategy (abandoned)"
   ]
  },
  {
   "cell_type": "code",
   "execution_count": 178,
   "metadata": {},
   "outputs": [
    {
     "data": {
      "text/plain": [
       "Expression(AFFINE, UNKNOWN, (5, 2))"
      ]
     },
     "execution_count": 178,
     "metadata": {},
     "output_type": "execute_result"
    }
   ],
   "source": [
    "# For Numpy Arrays\n",
    "A.reshape(2, 3*5).T.reshape(3,5*2).sum(axis=0).reshape(5,2)\n",
    "# For cp.Variables.\n",
    "cp.reshape(cp.sum(cp.reshape(cp.reshape(V,(2, 3*5)).T,(3,5*2)),axis=0), (5,2))"
   ]
  },
  {
   "cell_type": "code",
   "execution_count": 183,
   "metadata": {},
   "outputs": [
    {
     "ename": "SyntaxError",
     "evalue": "unexpected EOF while parsing (<ipython-input-183-2e6b218dff22>, line 8)",
     "output_type": "error",
     "traceback": [
      "\u001b[0;36m  File \u001b[0;32m\"<ipython-input-183-2e6b218dff22>\"\u001b[0;36m, line \u001b[0;32m8\u001b[0m\n\u001b[0;31m    if sumbits[0] == 0:\u001b[0m\n\u001b[0m                        ^\u001b[0m\n\u001b[0;31mSyntaxError\u001b[0m\u001b[0;31m:\u001b[0m unexpected EOF while parsing\n"
     ]
    }
   ],
   "source": [
    "nvars = 5\n",
    "joint_array = np.arange(2*3*5*7*2)\n",
    "IDXs = [1,3]\n",
    "sumbits = [ (0 if i in IDXs else 1) for i in range(nvars)]\n",
    "\n",
    "# nfinished = 0\n",
    "# while nfinished < nvars:\n",
    "while 1 in sumbits:\n",
    "    next_zero_idx = sumbits.find(0)\n",
    "    cp.reshape( cp.reshape )"
   ]
  },
  {
   "cell_type": "markdown",
   "metadata": {},
   "source": [
    "### This  works, at least ...\n",
    "Form $A_{XY} \\in \\mathbb R^{N \\times M}$ where $N = \\prod_{X \\in \\mathcal N} {|\\mathcal V(X)|}$ is the total number of worlds and $M = |X| \\times |Y|$ is the total number of values of $X \\times Y$."
   ]
  },
  {
   "cell_type": "code",
   "execution_count": 280,
   "metadata": {},
   "outputs": [
    {
     "data": {
      "text/plain": [
       "array([2670., 2710., 2750., 2790., 2830., 2870., 2910., 4070., 4110.,\n",
       "       4150., 4190., 4230., 4270., 4310., 5470., 5510., 5550., 5590.,\n",
       "       5630., 5670., 5710.])"
      ]
     },
     "execution_count": 280,
     "metadata": {},
     "output_type": "execute_result"
    }
   ],
   "source": [
    "dshape = [2,3,5,7,2]\n",
    "nvars = len(dshape)\n",
    "joint_array = np.arange(np.prod(dshape))\n",
    "IDXs = [1,3]\n",
    "\n",
    "# IDXto = list(i for i in range(nvars) if i not in IDXs)\n",
    "allIDXs = list(i for i in range(nvars))\n",
    "\n",
    "# A_proj_IDXs = np.zeros((np.prod(dshape), np.prod(idxTO)))\n",
    "# A_proj_IDXs = np.zeros(dshape+ tuple(dshape[i] for i in IDXto))\n",
    "A_proj_IDXs = np.zeros(dshape+ [dshape[i] for i in IDXs])\n",
    "np.einsum(A_proj_IDXs, allIDXs+IDXs, allIDXs)[:] = 1\n",
    "# allIDXs+IDXto\n",
    "# A_proj_IDXs.sum()\n",
    "\n",
    "# A_proj_IDXs.reshape(np.prod(dshape), np.prod([dshape[i] for i in IDXs])).T @ joint_array\n",
    "joint_array.T @ A_proj_IDXs.reshape(np.prod(dshape), np.prod([dshape[i] for i in IDXs]))"
   ]
  },
  {
   "cell_type": "markdown",
   "metadata": {},
   "source": [
    "Here's directly summing over the indices. Note that we still get the wrong answer if we do the transpose the other way."
   ]
  },
  {
   "cell_type": "code",
   "execution_count": 281,
   "metadata": {},
   "outputs": [
    {
     "data": {
      "text/plain": [
       "array([2670, 2710, 2750, 2790, 2830, 2870, 2910, 4070, 4110, 4150, 4190,\n",
       "       4230, 4270, 4310, 5470, 5510, 5550, 5590, 5630, 5670, 5710])"
      ]
     },
     "execution_count": 281,
     "metadata": {},
     "output_type": "execute_result"
    }
   ],
   "source": [
    "joint_array.reshape(dshape).sum(axis=(0,2,4)).reshape(-1)"
   ]
  },
  {
   "cell_type": "code",
   "execution_count": 282,
   "metadata": {},
   "outputs": [],
   "source": [
    "def mk_projector(dshape, IDXs):\n",
    "    print(dshape, IDXs)\n",
    "    nvars = len(dshape)\n",
    "    IDXs = list(IDXs)\n",
    "    allIDXs = [i for i in range(nvars)]\n",
    "    A_proj_IDXs = np.zeros(list(dshape) + [dshape[i] for i in IDXs])\n",
    "    np.einsum(A_proj_IDXs, allIDXs+IDXs, allIDXs)[:] = 1\n",
    "    return A_proj_IDXs.reshape(np.prod(dshape), np.prod([dshape[i] for i in IDXs]))\n"
   ]
  },
  {
   "cell_type": "markdown",
   "metadata": {},
   "source": [
    "# Back to CVXPY"
   ]
  },
  {
   "cell_type": "markdown",
   "metadata": {},
   "source": [
    "But first I'll need to solve the following problem. How to effectively multiply an $m \\times n$ by an $n$-dimensional vector, of CVX vars?"
   ]
  },
  {
   "cell_type": "code",
   "execution_count": 364,
   "metadata": {},
   "outputs": [
    {
     "name": "stdout",
     "output_type": "stream",
     "text": [
      "P shape:  (6, 3) \t μ_X shape :  (6,)\n"
     ]
    },
    {
     "data": {
      "text/plain": [
       "6"
      ]
     },
     "execution_count": 364,
     "metadata": {},
     "output_type": "execute_result"
    }
   ],
   "source": [
    "A = np.random.rand(6,3)\n",
    "b = cp.Variable(6)\n",
    "\n",
    "print(\"P shape: \", A.shape, \"\\t μ_X shape : \", b.shape)\n",
    "# This gives the right matrix\n",
    "cp.vstack([ A[i,:] * b[i] for i in range(A.shape[0]) ])\n",
    "# [*M.edges(\"p\")][2].to_numpy().shape, len([*M.edges(\"p\")][2].nfrom)\n",
    "b.shape[0]"
   ]
  },
  {
   "cell_type": "code",
   "execution_count": 365,
   "metadata": {},
   "outputs": [],
   "source": [
    "def cpd2joint(cpt, mu_X):\n",
    "    P = cpt.to_numpy()\n",
    "    print(\"P shape: \", P.shape, \"\\t μ_X shape : \", mu_X.shape)\n",
    "    return cp.vstack([ P[i,:] * mu_X[i] for i in range(mu_X.shape[0])] ).T"
   ]
  },
  {
   "cell_type": "code",
   "execution_count": 377,
   "metadata": {
    "scrolled": true
   },
   "outputs": [
    {
     "name": "stdout",
     "output_type": "stream",
     "text": [
      "(3, 2, 3) [0, 1, 2]\n",
      "(3, 2, 3) [0, 1]\n",
      "P shape:  (6, 3) \t μ_X shape :  (6,)\n",
      "(3, 2, 3) [2, 0]\n",
      "(3, 2, 3) [2]\n",
      "P shape:  (3, 3) \t μ_X shape :  (3,)\n"
     ]
    }
   ],
   "source": [
    "mu = cp.Variable(np.prod(M.dshape), nonneg=True)\n",
    "p_special = best.data.reshape(-1)\n",
    "\n",
    "t = { L : cp.Variable(p.to_numpy().size) for (L,p) in M.edges(\"l,P\") if 'π' not in L }\n",
    "\n",
    "\n",
    "# ## Printing stuff for debugging\n",
    "# for L,X,Y,p in M.edges(\"l,X,Y,P\"):\n",
    "#     if 'π' not in L: \n",
    "#         print(X.name, Y.name, L, p.shape,  μ._idxs(X), μ._idxs(Y))\n",
    "#         print(p.to_numpy().size)\n",
    "#         print('yo', mk_projector(M.dshape, μ._idxs(X,Y)).shape)\n",
    "#         cp.constraints.exponential.ExpCone(-t[L],\n",
    "#                mu.T @ mk_projector(M.dshape, μ._idxs(X,Y)),\n",
    "#                finalVar)\n",
    "\n",
    "        \n",
    "        \n",
    "tol_constraints = [\n",
    "#         cp.constraints.exponential.ExpCone(-t[L], mu, fix(p).reshape(-1)) \n",
    "        cp.constraints.exponential.ExpCone(-t[L],\n",
    "#                                            mk_projector(M.dshape, μ._idxs(X,Y))@mu,\n",
    "                                           mu.T @ mk_projector(M.dshape, μ._idxs(X,Y)),\n",
    "#                                            cp.multiply(p.to_numpy().reshape(-1, np.prod([M.dshape[i] for i in μ._idxs(X)]) ),\n",
    "#                                                        mu.T @ mk_projector(M.dshape, μ._idxs(X)) ))\n",
    "                                           cp.vec(\n",
    "                                               cpd2joint(p, mu.T @ mk_projector(M.dshape, μ._idxs(X))) )  )\n",
    "            for L,X,Y,p in M.edges(\"l,X,Y,P\") if 'π' not in L\n",
    "    ]\n"
   ]
  },
  {
   "cell_type": "code",
   "execution_count": 378,
   "metadata": {},
   "outputs": [],
   "source": [
    "prob = cp.Problem( cp.Minimize( sum(sum(t[L])*βL for (βL,L) in M.edges('β,L') if 'π' not in L) ), \n",
    "                  [ sum(mu) == 1 ] + tol_constraints )\n"
   ]
  },
  {
   "cell_type": "code",
   "execution_count": 412,
   "metadata": {},
   "outputs": [
    {
     "data": {
      "text/plain": [
       "0.01550818045997671"
      ]
     },
     "execution_count": 412,
     "metadata": {},
     "output_type": "execute_result"
    }
   ],
   "source": [
    "prob.solve()"
   ]
  },
  {
   "cell_type": "code",
   "execution_count": 413,
   "metadata": {},
   "outputs": [
    {
     "data": {
      "text/plain": [
       "0.01550818045997671"
      ]
     },
     "execution_count": 413,
     "metadata": {},
     "output_type": "execute_result"
    }
   ],
   "source": [
    "prob.value"
   ]
  },
  {
   "cell_type": "code",
   "execution_count": 295,
   "metadata": {},
   "outputs": [
    {
     "data": {
      "text/plain": [
       "[1, 1, 1, 1]"
      ]
     },
     "execution_count": 295,
     "metadata": {},
     "output_type": "execute_result"
    }
   ],
   "source": [
    "[*M.edges(\"β\")]"
   ]
  },
  {
   "cell_type": "code",
   "execution_count": 382,
   "metadata": {},
   "outputs": [
    {
     "data": {
      "text/plain": [
       "array([5.50868125e-09, 1.49921397e-08, 5.28418519e-09, 8.20900422e-02,\n",
       "       3.29237759e-01, 1.99041283e-01, 9.84729097e-02, 7.08383120e-02,\n",
       "       5.72004154e-02, 1.71685371e-09, 2.72323027e-09, 2.91748398e-09,\n",
       "       1.95227651e-02, 3.00323091e-02, 7.47542645e-02, 1.37721316e-02,\n",
       "       2.30246105e-02, 2.01316418e-03])"
      ]
     },
     "execution_count": 382,
     "metadata": {},
     "output_type": "execute_result"
    }
   ],
   "source": [
    "mu.value"
   ]
  },
  {
   "cell_type": "code",
   "execution_count": 414,
   "metadata": {},
   "outputs": [
    {
     "data": {
      "text/plain": [
       "(0.022373577633513338, 0.022373576118623357)"
      ]
     },
     "execution_count": 414,
     "metadata": {},
     "output_type": "execute_result"
    }
   ],
   "source": [
    "M.score(RJD(mu.value,M.varlist), gamma=0), M.score(best, gamma=0)"
   ]
  },
  {
   "cell_type": "code",
   "execution_count": 388,
   "metadata": {},
   "outputs": [
    {
     "data": {
      "text/plain": [
       "3.266765898927833e-07"
      ]
     },
     "execution_count": 388,
     "metadata": {},
     "output_type": "execute_result"
    }
   ],
   "source": [
    "RJD(mu.value, M.varlist) // best"
   ]
  },
  {
   "cell_type": "markdown",
   "metadata": {},
   "source": [
    "### Question: Are the marginals computed properly?"
   ]
  },
  {
   "cell_type": "code",
   "execution_count": 410,
   "metadata": {},
   "outputs": [
    {
     "data": {
      "text/plain": [
       "array([4.75660119e-11, 1.42027464e-10, 4.65594225e-11, 8.20901414e-02,\n",
       "       3.29237119e-01, 1.99042393e-01, 9.84727334e-02, 7.08382450e-02,\n",
       "       5.72000029e-02, 6.52697202e-25, 7.30245384e-25, 3.57191836e-21,\n",
       "       1.95228726e-02, 3.00319484e-02, 7.47541032e-02, 1.37727306e-02,\n",
       "       2.30243425e-02, 2.01336750e-03])"
      ]
     },
     "execution_count": 410,
     "metadata": {},
     "output_type": "execute_result"
    }
   ],
   "source": [
    "best.data.reshape(-1)"
   ]
  },
  {
   "cell_type": "code",
   "execution_count": 411,
   "metadata": {},
   "outputs": [
    {
     "name": "stdout",
     "output_type": "stream",
     "text": [
      "(3, 2, 3) [0, 1, 2]\n"
     ]
    },
    {
     "data": {
      "text/plain": [
       "array([5.50868125e-09, 1.49921397e-08, 5.28418519e-09, 8.20900422e-02,\n",
       "       3.29237759e-01, 1.99041283e-01, 9.84729097e-02, 7.08383120e-02,\n",
       "       5.72004154e-02, 1.71685371e-09, 2.72323027e-09, 2.91748398e-09,\n",
       "       1.95227651e-02, 3.00323091e-02, 7.47542645e-02, 1.37721316e-02,\n",
       "       2.30246105e-02, 2.01316418e-03])"
      ]
     },
     "execution_count": 411,
     "metadata": {},
     "output_type": "execute_result"
    }
   ],
   "source": [
    "mu.value.T @ mk_projector(M.dshape, μ._idxs(X,Y))"
   ]
  },
  {
   "cell_type": "code",
   "execution_count": 298,
   "metadata": {},
   "outputs": [
    {
     "data": {
      "text/plain": [
       "array([0.08149747, 0.07659602, 0.06228829, 0.12190053, 0.31331135,\n",
       "       0.00675353, 0.18371061, 0.13126737, 0.02267482])"
      ]
     },
     "execution_count": 298,
     "metadata": {},
     "output_type": "execute_result"
    }
   ],
   "source": [
    "np.array(mu.value).reshape(3,2,3).sum(axis=1).reshape(-1)"
   ]
  },
  {
   "cell_type": "markdown",
   "metadata": {},
   "source": [
    "**No.**\n",
    "\n",
    "One issue: the indices could be reversed `[2,0]` instead of `[0,2]`. Indeed, they are in this case."
   ]
  },
  {
   "cell_type": "code",
   "execution_count": 394,
   "metadata": {},
   "outputs": [],
   "source": [
    "M._idxs = μ._idxs"
   ]
  },
  {
   "cell_type": "code",
   "execution_count": 396,
   "metadata": {},
   "outputs": [],
   "source": [
    "from pdg.alg import interior_pt as ip"
   ]
  },
  {
   "cell_type": "code",
   "execution_count": 404,
   "metadata": {},
   "outputs": [
    {
     "data": {
      "text/plain": [
       "3.266765898927833e-07"
      ]
     },
     "execution_count": 404,
     "metadata": {},
     "output_type": "execute_result"
    }
   ],
   "source": [
    "ip.cvx_opt_component(M) // best"
   ]
  },
  {
   "cell_type": "code",
   "execution_count": 405,
   "metadata": {},
   "outputs": [],
   "source": [
    "%timeit"
   ]
  },
  {
   "cell_type": "code",
   "execution_count": 406,
   "metadata": {},
   "outputs": [
    {
     "name": "stdout",
     "output_type": "stream",
     "text": [
      "24.6 ms ± 479 µs per loop (mean ± std. dev. of 7 runs, 10 loops each)\n"
     ]
    }
   ],
   "source": [
    "%%timeit\n",
    "ip.cvx_opt_component(M)"
   ]
  },
  {
   "cell_type": "code",
   "execution_count": 407,
   "metadata": {},
   "outputs": [
    {
     "name": "stdout",
     "output_type": "stream",
     "text": [
      "[348/350]  loss:  -1.043e+00;  lr: 1.000e-03; \t graient magnitude: 5.265e-02 \t 1.98 s ± 44.2 ms per loop (mean ± std. dev. of 7 runs, 1 loop each)\n"
     ]
    }
   ],
   "source": [
    "%%timeit\n",
    "M._torch_opt_inc()"
   ]
  },
  {
   "cell_type": "code",
   "execution_count": 409,
   "metadata": {},
   "outputs": [
    {
     "name": "stdout",
     "output_type": "stream",
     "text": [
      "1.07 s ± 230 ms per loop (mean ± std. dev. of 7 runs, 1 loop each)\n"
     ]
    }
   ],
   "source": [
    "%%timeit\n",
    "M.optimize_score(0)"
   ]
  },
  {
   "cell_type": "code",
   "execution_count": null,
   "metadata": {},
   "outputs": [],
   "source": []
  }
 ],
 "metadata": {
  "kernelspec": {
   "display_name": "Python 3",
   "language": "python",
   "name": "python3"
  },
  "language_info": {
   "codemirror_mode": {
    "name": "ipython",
    "version": 3
   },
   "file_extension": ".py",
   "mimetype": "text/x-python",
   "name": "python",
   "nbconvert_exporter": "python",
   "pygments_lexer": "ipython3",
   "version": "3.8.10"
  }
 },
 "nbformat": 4,
 "nbformat_minor": 4
}
