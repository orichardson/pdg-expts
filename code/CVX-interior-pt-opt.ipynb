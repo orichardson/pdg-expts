{
 "cells": [
  {
   "cell_type": "code",
   "execution_count": 13,
   "metadata": {},
   "outputs": [
    {
     "name": "stdout",
     "output_type": "stream",
     "text": [
      "The autoreload extension is already loaded. To reload it, use:\n",
      "  %reload_ext autoreload\n"
     ]
    }
   ],
   "source": [
    "%load_ext autoreload\n",
    "%autoreload 2"
   ]
  },
  {
   "cell_type": "code",
   "execution_count": 35,
   "metadata": {},
   "outputs": [],
   "source": [
    "import numpy as np\n",
    "\n",
    "from pdg.pdg import PDG\n",
    "from pdg.rv import Variable as Var\n",
    "from pdg.dist import RawJointDist as RJD, CPT"
   ]
  },
  {
   "cell_type": "code",
   "execution_count": 299,
   "metadata": {},
   "outputs": [
    {
     "data": {
      "image/png": "[encoded data removed]",
      "text/plain": [
       "<Figure size 432x288 with 1 Axes>"
      ]
     },
     "metadata": {},
     "output_type": "display_data"
    }
   ],
   "source": [
    "A = Var.alph(\"A\", 3)\n",
    "B = Var.alph(\"B\", 2)\n",
    "C = Var.alph(\"C\", 3)\n",
    "\n",
    "M = PDG()\n",
    "M += A,B,C\n",
    "\n",
    "M += CPT.make_random(A&B, C)\n",
    "M += CPT.make_random(C, A)\n",
    "\n",
    "M.draw()"
   ]
  },
  {
   "cell_type": "code",
   "execution_count": 38,
   "metadata": {},
   "outputs": [
    {
     "data": {
      "text/plain": [
       "0.09430601763027362"
      ]
     },
     "execution_count": 38,
     "metadata": {},
     "output_type": "execute_result"
    }
   ],
   "source": [
    "best = M.optimize_score(0)\n",
    "M.score(best, gamma=0)"
   ]
  },
  {
   "cell_type": "markdown",
   "metadata": {},
   "source": [
    "### **Warmup:** no marginalization or conditioning; $p$ same shape as $\\mu$."
   ]
  },
  {
   "cell_type": "code",
   "execution_count": 292,
   "metadata": {},
   "outputs": [],
   "source": [
    "M.dshape\n",
    "n = np.prod(M.dshape)\n",
    "\n",
    "mu = cp.Variable(n, nonneg=True)\n",
    "p_special = best.data.reshape(-1)\n",
    "t = cp.Variable(n)\n",
    "        \n",
    "\n",
    "tol_constraints = [\n",
    "#         cp.constraints.exponential.ExpCone(-t[L], mu, fix(p).reshape(-1)) \n",
    "        cp.constraints.exponential.ExpCone(-t, mu, p_special) \n",
    "    ]\n",
    "\n",
    "\n",
    "prob = cp.Problem( cp.Minimize( sum(t) ), \n",
    "                  [ sum(mu) == 1 ] + tol_constraints )\n"
   ]
  },
  {
   "cell_type": "code",
   "execution_count": 293,
   "metadata": {},
   "outputs": [
    {
     "data": {
      "text/plain": [
       "2.269466271616548e-09"
      ]
     },
     "execution_count": 293,
     "metadata": {},
     "output_type": "execute_result"
    }
   ],
   "source": [
    "prob.solve()"
   ]
  },
  {
   "cell_type": "code",
   "execution_count": 287,
   "metadata": {
    "scrolled": true
   },
   "outputs": [
    {
     "name": "stdout",
     "output_type": "stream",
     "text": [
      "(3, 2, 3) [0, 1, 2]\n",
      "(3, 2, 3) [2, 0]\n"
     ]
    }
   ],
   "source": [
    "## Printing stuff for debugging\n",
    "# for L,X,Y,p in M.edges(\"l,X,Y,P\"):\n",
    "#     if 'π' not in L: \n",
    "#         print(X.name, Y.name, L, p.shape,  μ._idxs(X), μ._idxs(Y))\n",
    "#         print(p.to_numpy().size)\n",
    "#         print('yo', mk_projector(M.dshape, μ._idxs(X,Y)).shape)\n",
    "\n",
    "mu = cp.Variable(np.prod(M.dshape), nonneg=True)\n",
    "p_special = best.data.reshape(-1)\n",
    "\n",
    "t = { L : cp.Variable(p.to_numpy().size) for (L,p) in M.edges(\"l,P\") if 'π' not in L }\n",
    "        \n",
    "        \n",
    "tol_constraints = [\n",
    "#         cp.constraints.exponential.ExpCone(-t[L], mu, fix(p).reshape(-1)) \n",
    "        cp.constraints.exponential.ExpCone(-t[L],\n",
    "#                                            mk_projector(M.dshape, μ._idxs(X,Y))@mu,\n",
    "                                           mu.T @ mk_projector(M.dshape, μ._idxs(X,Y)),\n",
    "                                           p.to_numpy().reshape(-1))\n",
    "            for L,X,Y,p in M.edges(\"l,X,Y,P\") if 'π' not in L\n",
    "    ]\n"
   ]
  },
  {
   "cell_type": "code",
   "execution_count": 288,
   "metadata": {},
   "outputs": [],
   "source": [
    "prob = cp.Problem( cp.Minimize( sum(sum(t[L])*βL for (βL,L) in M.edges('β,L') if 'π' not in L) ), \n",
    "                  [ sum(mu) == 1 ] + tol_constraints )\n"
   ]
  },
  {
   "cell_type": "markdown",
   "metadata": {},
   "source": [
    "## Marginalization\n",
    "### Expanding P (doesn't work)"
   ]
  },
  {
   "cell_type": "code",
   "execution_count": 300,
   "metadata": {},
   "outputs": [],
   "source": [
    "μ = M.genΔ(kind=RJD.unif)\n",
    "\n",
    "def fix(cpt):\n",
    "    p = μ.broadcast(cpt)\n",
    "    for i,d in enumerate(M.dshape):\n",
    "        if p.shape[i] == 1 and M.dshape[i] > 1:\n",
    "            p = p.repeat(d, axis=i)\n",
    "    return p"
   ]
  },
  {
   "cell_type": "code",
   "execution_count": 163,
   "metadata": {},
   "outputs": [
    {
     "data": {
      "text/plain": [
       "array([[15, 18, 21, 24, 27],\n",
       "       [60, 63, 66, 69, 72]])"
      ]
     },
     "execution_count": 163,
     "metadata": {},
     "output_type": "execute_result"
    }
   ],
   "source": [
    "# A = np.ones((2,3,5))\n",
    "# A[]\n",
    "A = np.arange(2*3*5)\n",
    "Ashaped = A.reshape(2,3,5)\n",
    "V = cp.Variable(2*3*5)\n",
    "\n",
    "Ashaped.sum(axis=1)"
   ]
  },
  {
   "cell_type": "markdown",
   "metadata": {},
   "source": [
    "### Fancy Roll Strategy (abandoned)"
   ]
  },
  {
   "cell_type": "code",
   "execution_count": 178,
   "metadata": {},
   "outputs": [
    {
     "data": {
      "text/plain": [
       "Expression(AFFINE, UNKNOWN, (5, 2))"
      ]
     },
     "execution_count": 178,
     "metadata": {},
     "output_type": "execute_result"
    }
   ],
   "source": [
    "# For Numpy Arrays\n",
    "A.reshape(2, 3*5).T.reshape(3,5*2).sum(axis=0).reshape(5,2)\n",
    "# For cp.Variables.\n",
    "cp.reshape(cp.sum(cp.reshape(cp.reshape(V,(2, 3*5)).T,(3,5*2)),axis=0), (5,2))"
   ]
  },
  {
   "cell_type": "code",
   "execution_count": 183,
   "metadata": {},
   "outputs": [
    {
     "ename": "SyntaxError",
     "evalue": "unexpected EOF while parsing (<ipython-input-183-2e6b218dff22>, line 8)",
     "output_type": "error",
     "traceback": [
      "\u001b[0;36m  File \u001b[0;32m\"<ipython-input-183-2e6b218dff22>\"\u001b[0;36m, line \u001b[0;32m8\u001b[0m\n\u001b[0;31m    if sumbits[0] == 0:\u001b[0m\n\u001b[0m                        ^\u001b[0m\n\u001b[0;31mSyntaxError\u001b[0m\u001b[0;31m:\u001b[0m unexpected EOF while parsing\n"
     ]
    }
   ],
   "source": [
    "nvars = 5\n",
    "joint_array = np.arange(2*3*5*7*2)\n",
    "IDXs = [1,3]\n",
    "sumbits = [ (0 if i in IDXs else 1) for i in range(nvars)]\n",
    "\n",
    "# nfinished = 0\n",
    "# while nfinished < nvars:\n",
    "while 1 in sumbits:\n",
    "    next_zero_idx = sumbits.find(0)\n",
    "    cp.reshape( cp.reshape )"
   ]
  },
  {
   "cell_type": "markdown",
   "metadata": {},
   "source": [
    "### This  works, at least ...\n",
    "Form $A_{XY} \\in \\mathbb R^{N \\times M}$ where $N = \\prod_{X \\in \\mathcal N} {|\\mathcal V(X)|}$ is the total number of worlds and $M = |X| \\times |Y|$ is the total number of values of $X \\times Y$."
   ]
  },
  {
   "cell_type": "code",
   "execution_count": 280,
   "metadata": {},
   "outputs": [
    {
     "data": {
      "text/plain": [
       "array([2670., 2710., 2750., 2790., 2830., 2870., 2910., 4070., 4110.,\n",
       "       4150., 4190., 4230., 4270., 4310., 5470., 5510., 5550., 5590.,\n",
       "       5630., 5670., 5710.])"
      ]
     },
     "execution_count": 280,
     "metadata": {},
     "output_type": "execute_result"
    }
   ],
   "source": [
    "dshape = [2,3,5,7,2]\n",
    "nvars = len(dshape)\n",
    "joint_array = np.arange(np.prod(dshape))\n",
    "IDXs = [1,3]\n",
    "\n",
    "# IDXto = list(i for i in range(nvars) if i not in IDXs)\n",
    "allIDXs = list(i for i in range(nvars))\n",
    "\n",
    "# A_proj_IDXs = np.zeros((np.prod(dshape), np.prod(idxTO)))\n",
    "# A_proj_IDXs = np.zeros(dshape+ tuple(dshape[i] for i in IDXto))\n",
    "A_proj_IDXs = np.zeros(dshape+ [dshape[i] for i in IDXs])\n",
    "np.einsum(A_proj_IDXs, allIDXs+IDXs, allIDXs)[:] = 1\n",
    "# allIDXs+IDXto\n",
    "# A_proj_IDXs.sum()\n",
    "\n",
    "# A_proj_IDXs.reshape(np.prod(dshape), np.prod([dshape[i] for i in IDXs])).T @ joint_array\n",
    "joint_array.T @ A_proj_IDXs.reshape(np.prod(dshape), np.prod([dshape[i] for i in IDXs]))"
   ]
  },
  {
   "cell_type": "markdown",
   "metadata": {},
   "source": [
    "Here's directly summing over the indices. "
   ]
  },
  {
   "cell_type": "code",
   "execution_count": 281,
   "metadata": {},
   "outputs": [
    {
     "data": {
      "text/plain": [
       "array([2670, 2710, 2750, 2790, 2830, 2870, 2910, 4070, 4110, 4150, 4190,\n",
       "       4230, 4270, 4310, 5470, 5510, 5550, 5590, 5630, 5670, 5710])"
      ]
     },
     "execution_count": 281,
     "metadata": {},
     "output_type": "execute_result"
    }
   ],
   "source": [
    "joint_array.reshape(dshape).sum(axis=(0,2,4)).reshape(-1)"
   ]
  },
  {
   "cell_type": "code",
   "execution_count": 282,
   "metadata": {},
   "outputs": [],
   "source": [
    "def mk_projector(dshape, IDXs):\n",
    "    print(dshape, IDXs)\n",
    "    nvars = len(dshape)\n",
    "    IDXs = list(IDXs)\n",
    "    allIDXs = [i for i in range(nvars)]\n",
    "    A_proj_IDXs = np.zeros(list(dshape) + [dshape[i] for i in IDXs])\n",
    "    np.einsum(A_proj_IDXs, allIDXs+IDXs, allIDXs)[:] = 1\n",
    "    return A_proj_IDXs.reshape(np.prod(dshape), np.prod([dshape[i] for i in IDXs]))\n"
   ]
  },
  {
   "cell_type": "markdown",
   "metadata": {},
   "source": [
    "# Back to CVXPY"
   ]
  },
  {
   "cell_type": "code",
   "execution_count": 309,
   "metadata": {
    "scrolled": true
   },
   "outputs": [
    {
     "name": "stdout",
     "output_type": "stream",
     "text": [
      "A×B C p3 (6, 3) [0, 1] [2]\n",
      "18\n",
      "(3, 2, 3) [0, 1, 2]\n",
      "yo (18, 18)\n",
      "(3, 2, 3) [0, 1, 2]\n",
      "(3, 2, 3) [0, 1]\n"
     ]
    },
    {
     "ename": "ValueError",
     "evalue": "Cannot broadcast dimensions  (6, 3) (6,)",
     "output_type": "error",
     "traceback": [
      "\u001b[0;31m---------------------------------------------------------------------------\u001b[0m",
      "\u001b[0;31mValueError\u001b[0m                                Traceback (most recent call last)",
      "\u001b[0;32m<ipython-input-309-8fd192d4a511>\u001b[0m in \u001b[0;36m<module>\u001b[0;34m\u001b[0m\n\u001b[1;32m     14\u001b[0m         cp.constraints.exponential.ExpCone(-t[L],\n\u001b[1;32m     15\u001b[0m                \u001b[0mmu\u001b[0m\u001b[0;34m.\u001b[0m\u001b[0mT\u001b[0m \u001b[0;34m@\u001b[0m \u001b[0mmk_projector\u001b[0m\u001b[0;34m(\u001b[0m\u001b[0mM\u001b[0m\u001b[0;34m.\u001b[0m\u001b[0mdshape\u001b[0m\u001b[0;34m,\u001b[0m \u001b[0mμ\u001b[0m\u001b[0;34m.\u001b[0m\u001b[0m_idxs\u001b[0m\u001b[0;34m(\u001b[0m\u001b[0mX\u001b[0m\u001b[0;34m,\u001b[0m\u001b[0mY\u001b[0m\u001b[0;34m)\u001b[0m\u001b[0;34m)\u001b[0m\u001b[0;34m,\u001b[0m\u001b[0;34m\u001b[0m\u001b[0;34m\u001b[0m\u001b[0m\n\u001b[0;32m---> 16\u001b[0;31m                cp.multiply(p.to_numpy(),\n\u001b[0m\u001b[1;32m     17\u001b[0m                    mu.T @ mk_projector(M.dshape, μ._idxs(X)) ))\n\u001b[1;32m     18\u001b[0m \u001b[0;34m\u001b[0m\u001b[0m\n",
      "\u001b[0;32m~/.local/lib/python3.8/site-packages/cvxpy/atoms/affine/binary_operators.py\u001b[0m in \u001b[0;36m__init__\u001b[0;34m(self, lh_expr, rh_expr)\u001b[0m\n\u001b[1;32m    239\u001b[0m     \u001b[0;32mdef\u001b[0m \u001b[0m__init__\u001b[0m\u001b[0;34m(\u001b[0m\u001b[0mself\u001b[0m\u001b[0;34m,\u001b[0m \u001b[0mlh_expr\u001b[0m\u001b[0;34m,\u001b[0m \u001b[0mrh_expr\u001b[0m\u001b[0;34m)\u001b[0m \u001b[0;34m->\u001b[0m \u001b[0;32mNone\u001b[0m\u001b[0;34m:\u001b[0m\u001b[0;34m\u001b[0m\u001b[0;34m\u001b[0m\u001b[0m\n\u001b[1;32m    240\u001b[0m         \u001b[0mlh_expr\u001b[0m\u001b[0;34m,\u001b[0m \u001b[0mrh_expr\u001b[0m \u001b[0;34m=\u001b[0m \u001b[0mself\u001b[0m\u001b[0;34m.\u001b[0m\u001b[0mbroadcast\u001b[0m\u001b[0;34m(\u001b[0m\u001b[0mlh_expr\u001b[0m\u001b[0;34m,\u001b[0m \u001b[0mrh_expr\u001b[0m\u001b[0;34m)\u001b[0m\u001b[0;34m\u001b[0m\u001b[0;34m\u001b[0m\u001b[0m\n\u001b[0;32m--> 241\u001b[0;31m         \u001b[0msuper\u001b[0m\u001b[0;34m(\u001b[0m\u001b[0mmultiply\u001b[0m\u001b[0;34m,\u001b[0m \u001b[0mself\u001b[0m\u001b[0;34m)\u001b[0m\u001b[0;34m.\u001b[0m\u001b[0m__init__\u001b[0m\u001b[0;34m(\u001b[0m\u001b[0mlh_expr\u001b[0m\u001b[0;34m,\u001b[0m \u001b[0mrh_expr\u001b[0m\u001b[0;34m)\u001b[0m\u001b[0;34m\u001b[0m\u001b[0;34m\u001b[0m\u001b[0m\n\u001b[0m\u001b[1;32m    242\u001b[0m \u001b[0;34m\u001b[0m\u001b[0m\n\u001b[1;32m    243\u001b[0m     \u001b[0;32mdef\u001b[0m \u001b[0mis_atom_log_log_convex\u001b[0m\u001b[0;34m(\u001b[0m\u001b[0mself\u001b[0m\u001b[0;34m)\u001b[0m \u001b[0;34m->\u001b[0m \u001b[0mbool\u001b[0m\u001b[0;34m:\u001b[0m\u001b[0;34m\u001b[0m\u001b[0;34m\u001b[0m\u001b[0m\n",
      "\u001b[0;32m~/.local/lib/python3.8/site-packages/cvxpy/atoms/affine/binary_operators.py\u001b[0m in \u001b[0;36m__init__\u001b[0;34m(self, lh_exp, rh_exp)\u001b[0m\n\u001b[1;32m     48\u001b[0m \u001b[0;34m\u001b[0m\u001b[0m\n\u001b[1;32m     49\u001b[0m     \u001b[0;32mdef\u001b[0m \u001b[0m__init__\u001b[0m\u001b[0;34m(\u001b[0m\u001b[0mself\u001b[0m\u001b[0;34m,\u001b[0m \u001b[0mlh_exp\u001b[0m\u001b[0;34m,\u001b[0m \u001b[0mrh_exp\u001b[0m\u001b[0;34m)\u001b[0m \u001b[0;34m->\u001b[0m \u001b[0;32mNone\u001b[0m\u001b[0;34m:\u001b[0m\u001b[0;34m\u001b[0m\u001b[0;34m\u001b[0m\u001b[0m\n\u001b[0;32m---> 50\u001b[0;31m         \u001b[0msuper\u001b[0m\u001b[0;34m(\u001b[0m\u001b[0mBinaryOperator\u001b[0m\u001b[0;34m,\u001b[0m \u001b[0mself\u001b[0m\u001b[0;34m)\u001b[0m\u001b[0;34m.\u001b[0m\u001b[0m__init__\u001b[0m\u001b[0;34m(\u001b[0m\u001b[0mlh_exp\u001b[0m\u001b[0;34m,\u001b[0m \u001b[0mrh_exp\u001b[0m\u001b[0;34m)\u001b[0m\u001b[0;34m\u001b[0m\u001b[0;34m\u001b[0m\u001b[0m\n\u001b[0m\u001b[1;32m     51\u001b[0m \u001b[0;34m\u001b[0m\u001b[0m\n\u001b[1;32m     52\u001b[0m     \u001b[0;32mdef\u001b[0m \u001b[0mname\u001b[0m\u001b[0;34m(\u001b[0m\u001b[0mself\u001b[0m\u001b[0;34m)\u001b[0m\u001b[0;34m:\u001b[0m\u001b[0;34m\u001b[0m\u001b[0;34m\u001b[0m\u001b[0m\n",
      "\u001b[0;32m~/.local/lib/python3.8/site-packages/cvxpy/atoms/atom.py\u001b[0m in \u001b[0;36m__init__\u001b[0;34m(self, *args)\u001b[0m\n\u001b[1;32m     49\u001b[0m         \u001b[0mself\u001b[0m\u001b[0;34m.\u001b[0m\u001b[0margs\u001b[0m \u001b[0;34m=\u001b[0m \u001b[0;34m[\u001b[0m\u001b[0mAtom\u001b[0m\u001b[0;34m.\u001b[0m\u001b[0mcast_to_const\u001b[0m\u001b[0;34m(\u001b[0m\u001b[0marg\u001b[0m\u001b[0;34m)\u001b[0m \u001b[0;32mfor\u001b[0m \u001b[0marg\u001b[0m \u001b[0;32min\u001b[0m \u001b[0margs\u001b[0m\u001b[0;34m]\u001b[0m\u001b[0;34m\u001b[0m\u001b[0;34m\u001b[0m\u001b[0m\n\u001b[1;32m     50\u001b[0m         \u001b[0mself\u001b[0m\u001b[0;34m.\u001b[0m\u001b[0mvalidate_arguments\u001b[0m\u001b[0;34m(\u001b[0m\u001b[0;34m)\u001b[0m\u001b[0;34m\u001b[0m\u001b[0;34m\u001b[0m\u001b[0m\n\u001b[0;32m---> 51\u001b[0;31m         \u001b[0mself\u001b[0m\u001b[0;34m.\u001b[0m\u001b[0m_shape\u001b[0m \u001b[0;34m=\u001b[0m \u001b[0mself\u001b[0m\u001b[0;34m.\u001b[0m\u001b[0mshape_from_args\u001b[0m\u001b[0;34m(\u001b[0m\u001b[0;34m)\u001b[0m\u001b[0;34m\u001b[0m\u001b[0;34m\u001b[0m\u001b[0m\n\u001b[0m\u001b[1;32m     52\u001b[0m         \u001b[0;32mif\u001b[0m \u001b[0mlen\u001b[0m\u001b[0;34m(\u001b[0m\u001b[0mself\u001b[0m\u001b[0;34m.\u001b[0m\u001b[0m_shape\u001b[0m\u001b[0;34m)\u001b[0m \u001b[0;34m>\u001b[0m \u001b[0;36m2\u001b[0m\u001b[0;34m:\u001b[0m\u001b[0;34m\u001b[0m\u001b[0;34m\u001b[0m\u001b[0m\n\u001b[1;32m     53\u001b[0m             \u001b[0;32mraise\u001b[0m \u001b[0mValueError\u001b[0m\u001b[0;34m(\u001b[0m\u001b[0;34m\"Atoms must be at most 2D.\"\u001b[0m\u001b[0;34m)\u001b[0m\u001b[0;34m\u001b[0m\u001b[0;34m\u001b[0m\u001b[0m\n",
      "\u001b[0;32m~/.local/lib/python3.8/site-packages/cvxpy/atoms/affine/binary_operators.py\u001b[0m in \u001b[0;36mshape_from_args\u001b[0;34m(self)\u001b[0m\n\u001b[1;32m    276\u001b[0m         \"\"\"The sum of the argument dimensions - 1.\n\u001b[1;32m    277\u001b[0m         \"\"\"\n\u001b[0;32m--> 278\u001b[0;31m         \u001b[0;32mreturn\u001b[0m \u001b[0mu\u001b[0m\u001b[0;34m.\u001b[0m\u001b[0mshape\u001b[0m\u001b[0;34m.\u001b[0m\u001b[0msum_shapes\u001b[0m\u001b[0;34m(\u001b[0m\u001b[0;34m[\u001b[0m\u001b[0marg\u001b[0m\u001b[0;34m.\u001b[0m\u001b[0mshape\u001b[0m \u001b[0;32mfor\u001b[0m \u001b[0marg\u001b[0m \u001b[0;32min\u001b[0m \u001b[0mself\u001b[0m\u001b[0;34m.\u001b[0m\u001b[0margs\u001b[0m\u001b[0;34m]\u001b[0m\u001b[0;34m)\u001b[0m\u001b[0;34m\u001b[0m\u001b[0;34m\u001b[0m\u001b[0m\n\u001b[0m\u001b[1;32m    279\u001b[0m \u001b[0;34m\u001b[0m\u001b[0m\n\u001b[1;32m    280\u001b[0m     \u001b[0;32mdef\u001b[0m \u001b[0mis_psd\u001b[0m\u001b[0;34m(\u001b[0m\u001b[0mself\u001b[0m\u001b[0;34m)\u001b[0m \u001b[0;34m->\u001b[0m \u001b[0mbool\u001b[0m\u001b[0;34m:\u001b[0m\u001b[0;34m\u001b[0m\u001b[0;34m\u001b[0m\u001b[0m\n",
      "\u001b[0;32m~/.local/lib/python3.8/site-packages/cvxpy/utilities/shape.py\u001b[0m in \u001b[0;36msum_shapes\u001b[0;34m(shapes)\u001b[0m\n\u001b[1;32m     46\u001b[0m         \u001b[0;31m# Only allow broadcasting for 0D arrays or summation of scalars.\u001b[0m\u001b[0;34m\u001b[0m\u001b[0;34m\u001b[0m\u001b[0;34m\u001b[0m\u001b[0m\n\u001b[1;32m     47\u001b[0m         \u001b[0;32mif\u001b[0m \u001b[0mshape\u001b[0m \u001b[0;34m!=\u001b[0m \u001b[0mt\u001b[0m \u001b[0;32mand\u001b[0m \u001b[0mlen\u001b[0m\u001b[0;34m(\u001b[0m\u001b[0msqueezed\u001b[0m\u001b[0;34m(\u001b[0m\u001b[0mshape\u001b[0m\u001b[0;34m)\u001b[0m\u001b[0;34m)\u001b[0m \u001b[0;34m!=\u001b[0m \u001b[0;36m0\u001b[0m \u001b[0;32mand\u001b[0m \u001b[0mlen\u001b[0m\u001b[0;34m(\u001b[0m\u001b[0msqueezed\u001b[0m\u001b[0;34m(\u001b[0m\u001b[0mt\u001b[0m\u001b[0;34m)\u001b[0m\u001b[0;34m)\u001b[0m \u001b[0;34m!=\u001b[0m \u001b[0;36m0\u001b[0m\u001b[0;34m:\u001b[0m\u001b[0;34m\u001b[0m\u001b[0;34m\u001b[0m\u001b[0m\n\u001b[0;32m---> 48\u001b[0;31m             raise ValueError(\n\u001b[0m\u001b[1;32m     49\u001b[0m                 \u001b[0;34m\"Cannot broadcast dimensions \"\u001b[0m \u001b[0;34m+\u001b[0m\u001b[0;34m\u001b[0m\u001b[0;34m\u001b[0m\u001b[0m\n\u001b[1;32m     50\u001b[0m                 len(shapes)*\" %s\" % tuple(shapes))\n",
      "\u001b[0;31mValueError\u001b[0m: Cannot broadcast dimensions  (6, 3) (6,)"
     ]
    }
   ],
   "source": [
    "mu = cp.Variable(np.prod(M.dshape), nonneg=True)\n",
    "p_special = best.data.reshape(-1)\n",
    "\n",
    "t = { L : cp.Variable(p.to_numpy().size) for (L,p) in M.edges(\"l,P\") if 'π' not in L }\n",
    "\n",
    "\n",
    "## Printing stuff for debugging\n",
    "for L,X,Y,p in M.edges(\"l,X,Y,P\"):\n",
    "    if 'π' not in L: \n",
    "        print(X.name, Y.name, L, p.shape,  μ._idxs(X), μ._idxs(Y))\n",
    "        print(p.to_numpy().size)\n",
    "        print('yo', mk_projector(M.dshape, μ._idxs(X,Y)).shape)\n",
    "        \n",
    "        nYs = len(Y)\n",
    "        finalVar = cp.multiply(p.to_numpy(),\n",
    "                               mu.T @ mk_projector(M.dshape, μ._idxs(X)) )\n",
    "        \n",
    "        cp.constraints.exponential.ExpCone(-t[L],\n",
    "               mu.T @ mk_projector(M.dshape, μ._idxs(X,Y)),\n",
    "               finalVar)\n",
    "\n",
    "        \n",
    "        \n",
    "tol_constraints = [\n",
    "#         cp.constraints.exponential.ExpCone(-t[L], mu, fix(p).reshape(-1)) \n",
    "        cp.constraints.exponential.ExpCone(-t[L],\n",
    "#                                            mk_projector(M.dshape, μ._idxs(X,Y))@mu,\n",
    "                                           mu.T @ mk_projector(M.dshape, μ._idxs(X,Y)),\n",
    "#                                            cp.multiply(p.to_numpy().reshape(-1, np.prod([M.dshape[i] for i in μ._idxs(X)]) ),\n",
    "#                                                        mu.T @ mk_projector(M.dshape, μ._idxs(X)) ))\n",
    "                                           cp.multiply(p.to_numpy().reshape(-1),\n",
    "                                                       mu.T @ mk_projector(M.dshape, μ._idxs(X)) ))\n",
    "            for L,X,Y,p in M.edges(\"l,X,Y,P\") if 'π' not in L\n",
    "    ]\n"
   ]
  },
  {
   "cell_type": "code",
   "execution_count": 288,
   "metadata": {},
   "outputs": [],
   "source": [
    "prob = cp.Problem( cp.Minimize( sum(sum(t[L])*βL for (βL,L) in M.edges('β,L') if 'π' not in L) ), \n",
    "                  [ sum(mu) == 1 ] + tol_constraints )\n"
   ]
  },
  {
   "cell_type": "code",
   "execution_count": 289,
   "metadata": {},
   "outputs": [
    {
     "data": {
      "text/plain": [
       "-2.7503419501346107"
      ]
     },
     "execution_count": 289,
     "metadata": {},
     "output_type": "execute_result"
    }
   ],
   "source": [
    "prob.solve()"
   ]
  },
  {
   "cell_type": "code",
   "execution_count": 290,
   "metadata": {},
   "outputs": [
    {
     "data": {
      "text/plain": [
       "-2.7503419501346107"
      ]
     },
     "execution_count": 290,
     "metadata": {},
     "output_type": "execute_result"
    }
   ],
   "source": [
    "prob.value"
   ]
  },
  {
   "cell_type": "code",
   "execution_count": 295,
   "metadata": {},
   "outputs": [
    {
     "data": {
      "text/plain": [
       "[1, 1, 1, 1]"
      ]
     },
     "execution_count": 295,
     "metadata": {},
     "output_type": "execute_result"
    }
   ],
   "source": [
    "[*M.edges(\"β\")]"
   ]
  },
  {
   "cell_type": "code",
   "execution_count": 268,
   "metadata": {},
   "outputs": [
    {
     "data": {
      "text/plain": [
       "array([0.08519548, 0.04033512, 0.01058134, 0.00345296, 0.03759192,\n",
       "       0.15644575, 0.06062896, 0.1125548 , 0.00342138, 0.02512437,\n",
       "       0.11410183, 0.01626444, 0.12374882, 0.05193494, 0.00717821,\n",
       "       0.00704882, 0.06008963, 0.08430123])"
      ]
     },
     "execution_count": 268,
     "metadata": {},
     "output_type": "execute_result"
    }
   ],
   "source": [
    "mu.value"
   ]
  },
  {
   "cell_type": "markdown",
   "metadata": {},
   "source": [
    "### Question: Are the marginals computed properly?"
   ]
  },
  {
   "cell_type": "code",
   "execution_count": 271,
   "metadata": {},
   "outputs": [
    {
     "data": {
      "text/plain": [
       "array([7.93623151e-02, 4.73117048e-02, 5.75654196e-03, 2.13585381e-03,\n",
       "       2.92845978e-02, 5.65321738e-02, 1.21899924e-01, 3.13312571e-01,\n",
       "       6.75377667e-03, 6.17248811e-16, 3.26219385e-17, 2.51405848e-16,\n",
       "       1.83184520e-01, 1.24059624e-01, 1.42633979e-02, 5.23834019e-04,\n",
       "       7.20717882e-03, 8.41198712e-03])"
      ]
     },
     "execution_count": 271,
     "metadata": {},
     "output_type": "execute_result"
    }
   ],
   "source": [
    "best.data.reshape(-1)"
   ]
  },
  {
   "cell_type": "code",
   "execution_count": 297,
   "metadata": {},
   "outputs": [
    {
     "name": "stdout",
     "output_type": "stream",
     "text": [
      "(3, 2, 3) [2, 0]\n"
     ]
    },
    {
     "data": {
      "text/plain": [
       "array([0.08149747, 0.12190053, 0.18371061, 0.07659602, 0.31331135,\n",
       "       0.13126737, 0.06228829, 0.00675353, 0.02267482])"
      ]
     },
     "execution_count": 297,
     "metadata": {},
     "output_type": "execute_result"
    }
   ],
   "source": [
    "mu.value.T @ mk_projector(M.dshape, μ._idxs(X,Y))"
   ]
  },
  {
   "cell_type": "code",
   "execution_count": 298,
   "metadata": {},
   "outputs": [
    {
     "data": {
      "text/plain": [
       "array([0.08149747, 0.07659602, 0.06228829, 0.12190053, 0.31331135,\n",
       "       0.00675353, 0.18371061, 0.13126737, 0.02267482])"
      ]
     },
     "execution_count": 298,
     "metadata": {},
     "output_type": "execute_result"
    }
   ],
   "source": [
    "np.array(mu.value).reshape(3,2,3).sum(axis=1).reshape(-1)"
   ]
  },
  {
   "cell_type": "markdown",
   "metadata": {},
   "source": [
    "**No.**\n",
    "\n",
    "One issue: the indices could be reversed `[2,0]` instead of `[0,2]`. Indeed, they are in this case."
   ]
  },
  {
   "cell_type": "code",
   "execution_count": null,
   "metadata": {
    "collapsed": true,
    "scrolled": true
   },
   "outputs": [],
   "source": []
  }
 ],
 "metadata": {
  "kernelspec": {
   "display_name": "Python 3",
   "language": "python",
   "name": "python3"
  },
  "language_info": {
   "codemirror_mode": {
    "name": "ipython",
    "version": 3
   },
   "file_extension": ".py",
   "mimetype": "text/x-python",
   "name": "python",
   "nbconvert_exporter": "python",
   "pygments_lexer": "ipython3",
   "version": "3.8.10"
  }
 },
 "nbformat": 4,
 "nbformat_minor": 4
}
