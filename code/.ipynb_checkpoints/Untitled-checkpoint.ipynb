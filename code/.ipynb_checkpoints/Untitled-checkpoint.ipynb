{
 "cells": [
  {
   "cell_type": "code",
   "execution_count": 1,
   "metadata": {},
   "outputs": [],
   "source": [
    "%load_ext autoreload\n",
    "%autoreload 2\n",
    "%matplotlib widget\n",
    "\n",
    "import matplotlib.pyplot as plt\n",
    "import seaborn as sns"
   ]
  },
  {
   "cell_type": "code",
   "execution_count": 2,
   "metadata": {},
   "outputs": [],
   "source": [
    "import numpy as np\n",
    "\n",
    "from pdg import PDG\n",
    "from dist import RawJointDist as RJD\n",
    "from lib import A,B,C,D\n",
    "from lib.square import with_indeps, consist_with_P, P"
   ]
  },
  {
   "cell_type": "code",
   "execution_count": 23,
   "metadata": {},
   "outputs": [],
   "source": [
    "# μ_opt = with_indeps.optimize_score(gamma=0.001, tol=1E-30)\n",
    "φ = consist_with_P.factor_product(repr='atomic')\n",
    "μCP_opt1, μCP_iter1 = consist_with_P.optimize_score(gamma=1, store_iters=True)\n",
    "μCP_opt0, μCP_iter0 = consist_with_P.optimize_score(gamma=0, store_iters=True)"
   ]
  },
  {
   "cell_type": "code",
   "execution_count": 24,
   "metadata": {},
   "outputs": [],
   "source": [
    "μCP_GS_ord, μCP_iterGSo = consist_with_P.iter_GS_ordered(store_iters=True)\n",
    "μCP_GS_β, μCP_iterGSβ = consist_with_P.iter_GS_beta(store_iters=True)"
   ]
  },
  {
   "cell_type": "markdown",
   "metadata": {},
   "source": [
    "It should be the case that any unweighted PDG $M$ will have the same distribution $q_{\\gamma=0}$ that minimizes its semantics $ [[ M ]]$ at $\\gamma=1$, which is equal to its factor product $\\Pr_{\\varphi_{M}}$."
   ]
  },
  {
   "cell_type": "markdown",
   "metadata": {},
   "source": [
    "What GIbbs sampling do to $\\mathit{Inc}$ and $\\mathit{IDef}$?"
   ]
  },
  {
   "cell_type": "markdown",
   "metadata": {},
   "source": [
    "So... let's set up a PCA to visualize what's happening. with both optimizations, $P$, and $\\varphi$"
   ]
  },
  {
   "cell_type": "code",
   "execution_count": 25,
   "metadata": {},
   "outputs": [
    {
     "data": {
      "application/vnd.jupyter.widget-view+json": {
       "model_id": "2270d8358f1849229dd2038d28088a85",
       "version_major": 2,
       "version_minor": 0
      },
      "text/plain": [
       "Canvas(toolbar=Toolbar(toolitems=[('Home', 'Reset original view', 'home', 'home'), ('Back', 'Back to previous …"
      ]
     },
     "metadata": {},
     "output_type": "display_data"
    }
   ],
   "source": [
    "SHAPE = φ.data.reshape(-1).shape\n",
    "\n",
    "Ppt = np.array([P.data.reshape(*SHAPE)])\n",
    "φpt = np.array([φ.data.reshape(*SHAPE)])\n",
    "idx0pt = np.linspace(0, 1, len(μCP_iter0))\n",
    "idx1pt = np.linspace(0, 1, len(μCP_iter1))\n",
    "\n",
    "iter0pt = np.array(μCP_iter0)\n",
    "iter1pt = np.array(μCP_iter1)\n",
    "bigmatrix = np.vstack([Ppt, φpt, iter0pt, iter1pt])\n",
    "\n",
    "def iitransform(M, μflatmat):\n",
    "    return [(M.Inc(μ).real,M.IDef(μ).real) for μ in map(lambda d : RJD(d.reshape(*M.dshape), M.varlist), μflatmat)]\n",
    "\n",
    "%matplotlib widget\n",
    "\n",
    "# Do for γ=0 (P)\n",
    "plt.plot(*zip(*iitransform(consist_with_P, iter0pt[0:])), 'b', alpha=0.1)\n",
    "plt.scatter(*zip(*iitransform(consist_with_P, iter0pt)), cmap='Purples', c=idx0pt, alpha=0.3)\n",
    "Xs,Ys = zip(*iitransform(consist_with_P, [Ppt])); plt.plot(Xs,Ys, '*w', markersize=15,alpha=0.8)\n",
    "Xs,Ys = zip(*iitransform(consist_with_P, [μCP_opt0.data])); plt.plot(Xs,Ys, 'xb', markersize=15,alpha=0.8)\n",
    "plt.annotate\n",
    "\n",
    "# Do for γ=1 (φ)\n",
    "plt.plot(*zip(*iitransform(consist_with_P, iter1pt[0:])), 'r', alpha=0.1)\n",
    "plt.scatter(*zip(*iitransform(consist_with_P, iter1pt)), cmap='Oranges', c=idx1pt, alpha=0.3)\n",
    "Xs,Ys = zip(*iitransform(consist_with_P, [φpt])); plt.plot(Xs,Ys, 'or', markersize=15,alpha=0.8)\n",
    "Xs,Ys = zip(*iitransform(consist_with_P, [μCP_opt1.data])); plt.plot(Xs,Ys, 'xr', markersize=15,alpha=0.8)\n",
    "\n",
    "#now for GS\n",
    "plt.plot(*zip(*iitransform(consist_with_P, μCP_iterGSo)), 'g', alpha=0.1)\n",
    "plt.scatter(*zip(*iitransform(consist_with_P, μCP_iterGSo)), cmap='Greens', c=np.linspace(0,1,len(μCP_iterGSo)), alpha=0.3)\n",
    "Xs,Ys = zip(*iitransform(consist_with_P, [μCP_GS_ord.data])); plt.plot(Xs,Ys, '+g', markersize=15,alpha=0.8)\n",
    "\n",
    "plt.plot(*zip(*iitransform(consist_with_P, μCP_iterGSβ)), 'k', alpha=0.1)\n",
    "plt.scatter(*zip(*iitransform(consist_with_P, μCP_iterGSβ)), cmap='Greys', c=np.linspace(0,1,len(μCP_iterGSβ)), alpha=0.3)\n",
    "Xs,Ys = zip(*iitransform(consist_with_P, [μCP_GS_β.data])); plt.plot(Xs,Ys, 'xk', markersize=15,alpha=0.8)\n",
    "\n",
    "plt.show()"
   ]
  },
  {
   "cell_type": "markdown",
   "metadata": {},
   "source": [
    "Weirld, that the optimziation does not quite get either the oange dot (the distribution $P$ which is supposed to be the # of factors), and also that the blue one does not minimize Inc. I need to make sure the gradient is correct.... and then implement accelerated gradient descent properly?"
   ]
  },
  {
   "cell_type": "markdown",
   "metadata": {},
   "source": [
    "# Debugging the Gradient for $\\gamma=0$"
   ]
  },
  {
   "cell_type": "code",
   "execution_count": 10,
   "metadata": {},
   "outputs": [
    {
     "data": {
      "text/plain": [
       "(0.0, -3.2034265038149176e-16)"
      ]
     },
     "execution_count": 10,
     "metadata": {},
     "output_type": "execute_result"
    }
   ],
   "source": [
    "M = consist_with_P\n",
    "mscore = M._build_fast_scorer(gamma=0)\n",
    "\n",
    "mscore(μCP_GS_β.data)[0], mscore(μCP_opt0.data)[0] # uh-oh..."
   ]
  },
  {
   "cell_type": "markdown",
   "metadata": {},
   "source": [
    "Clearly the optimization isn't working properly. But this should be a convex function... let's look at the supposed gradients."
   ]
  },
  {
   "cell_type": "code",
   "execution_count": 11,
   "metadata": {},
   "outputs": [
    {
     "data": {
      "text/plain": [
       "(9.33914424106988e-25, 1.8314354197026343e-14)"
      ]
     },
     "execution_count": 11,
     "metadata": {},
     "output_type": "execute_result"
    }
   ],
   "source": [
    "(mscore(μCP_GS_β.data)[1]**2).sum(), (mscore(μCP_opt0.data)[1]**2).sum()"
   ]
  },
  {
   "cell_type": "markdown",
   "metadata": {},
   "source": [
    "So the gradient of the optimal is much larger... does it point towards the optimum?"
   ]
  },
  {
   "cell_type": "code",
   "execution_count": 12,
   "metadata": {},
   "outputs": [
    {
     "name": "stdout",
     "output_type": "stream",
     "text": [
      "score @ x: -0.0000000;\t score @ x + ϵ·grad: 0.0000061;\t  score @x + ϵ·v: -0.0000000\n"
     ]
    }
   ],
   "source": [
    "xopt = μCP_GS_β.data.reshape(-1)\n",
    "x = μCP_opt0.data.reshape(-1)\n",
    "gradx = mscore(x)[1]\n",
    "gradx /=  np.sqrt((gradx*gradx).sum())\n",
    "\n",
    "vec = (xopt - x)\n",
    "vec /= np.sqrt((vec*vec).sum())\n",
    "ϵ = 0.00001\n",
    "\n",
    "# np.allclose(vec.reshape(-1).dot(vec.reshape(-1)), (vec*vec).sum().reshape(-1))  #True\n",
    "print(\"score @ x: %.7f;\\t score @ x + ϵ·grad: %.7f;\\t  score @x + ϵ·v: %.7f\"%\n",
    "      (mscore(x)[0], mscore(x + gradx*ϵ)[0], mscore(x + vec * ϵ)[0]))"
   ]
  },
  {
   "cell_type": "markdown",
   "metadata": {},
   "source": [
    "# Debugging the Gradient for $\\gamma=1$"
   ]
  },
  {
   "cell_type": "code",
   "execution_count": 18,
   "metadata": {},
   "outputs": [
    {
     "data": {
      "text/plain": [
       "(-0.6095564755212859, 2.253147918557464)"
      ]
     },
     "execution_count": 18,
     "metadata": {},
     "output_type": "execute_result"
    }
   ],
   "source": [
    "M = consist_with_P\n",
    "mscore = M._build_fast_scorer(gamma=1)\n",
    "\n",
    "mscore(φ.data)[0], mscore(μCP_opt1.data)[0] # uh oh"
   ]
  },
  {
   "cell_type": "markdown",
   "metadata": {},
   "source": [
    "What are the debug messages?"
   ]
  },
  {
   "cell_type": "code",
   "execution_count": 19,
   "metadata": {},
   "outputs": [],
   "source": [
    "np.set_printoptions(precision=2)\n",
    "# mscore(μCP_opt1.data, debug=True)"
   ]
  },
  {
   "cell_type": "code",
   "execution_count": 20,
   "metadata": {},
   "outputs": [
    {
     "name": "stdout",
     "output_type": "stream",
     "text": [
      "     fun: -0.6095564755212868\n",
      "     jac: array([-2.56e-07, -1.26e-07, -1.78e-07,  1.51e-07,  7.51e-09,  1.34e-08,\n",
      "        3.12e-09,  1.45e-06,  6.32e-09, -1.09e-07, -1.00e-08,  3.96e-09,\n",
      "        4.50e-09, -1.90e-08, -3.12e-07,  1.12e-08, -2.43e-06, -2.57e-09,\n",
      "       -5.73e-08,  2.70e-09, -2.90e-08, -3.26e-07,  5.52e-08,  6.68e-07,\n",
      "       -8.40e-08,  2.69e-07, -2.95e-07,  5.89e-08,  2.81e-06,  7.23e-07,\n",
      "        4.42e-06, -2.84e-06,  1.25e-07, -3.84e-07, -3.35e-07, -6.35e-08,\n",
      "       -1.90e-08,  6.71e-07,  9.95e-07,  1.27e-08,  4.56e-07,  5.76e-08,\n",
      "       -5.07e-08,  2.96e-08, -3.35e-07, -1.07e-07,  1.10e-09, -2.46e-08,\n",
      "        5.48e-08, -2.88e-08, -5.45e-08, -1.70e-06, -5.64e-08, -2.64e-08,\n",
      "       -1.45e-08,  1.23e-08,  9.17e-09, -1.57e-07, -1.12e-05,  3.24e-07,\n",
      "       -1.18e-07, -9.70e-07,  1.19e-08,  5.89e-07,  7.41e-07,  2.90e-06,\n",
      "        4.65e-08,  4.65e-08,  2.45e-06,  1.34e-07, -5.25e-08,  4.10e-08,\n",
      "        6.89e-09,  6.81e-07,  3.98e-08,  5.18e-08, -1.63e-08, -1.13e-07,\n",
      "       -9.54e-09,  9.50e-10, -8.74e-09, -2.69e-09,  5.24e-09,  8.36e-09,\n",
      "        1.82e-08,  1.95e-08,  4.10e-08,  5.60e-09, -2.66e-08,  1.92e-08,\n",
      "       -1.00e-08, -1.07e-07,  1.62e-08, -1.29e-07, -1.07e-07,  5.90e-08,\n",
      "       -3.41e-07,  3.89e-08, -3.32e-07,  3.22e-07,  1.39e-08, -2.56e-07,\n",
      "        4.15e-08, -3.70e-08, -2.29e-07,  8.80e-08,  3.12e-07,  1.13e-06,\n",
      "        1.59e-06,  3.55e-07, -2.92e-08, -3.33e-08,  1.90e-07, -1.84e-08,\n",
      "       -2.58e-07,  4.03e-08, -1.82e-08, -1.97e-09,  1.55e-08, -3.46e-08,\n",
      "       -1.96e-08, -4.25e-07, -2.77e-08,  4.91e-08, -7.57e-09, -1.40e-08,\n",
      "        7.31e-07,  4.17e-07,  1.49e-06,  6.49e-08,  2.45e-07, -3.28e-07,\n",
      "        2.64e-08, -3.04e-07,  4.02e-09, -2.46e-08,  1.32e-08,  1.97e-09,\n",
      "        2.53e-08,  1.96e-08,  3.04e-07, -2.47e-07,  7.52e-07, -1.77e-06,\n",
      "       -3.85e-08,  3.46e-07,  3.19e-07,  5.20e-07,  4.05e-08,  5.85e-07,\n",
      "       -2.36e-08,  2.04e-08,  3.56e-07, -2.39e-08,  2.11e-09,  6.50e-08,\n",
      "       -1.05e-07, -6.64e-08, -2.73e-08, -8.97e-08,  2.78e-08,  2.53e-08,\n",
      "       -3.21e-07, -8.92e-07,  2.59e-07, -1.08e-07, -1.17e-07, -2.80e-07,\n",
      "        4.17e-09, -1.25e-08,  4.20e-07, -1.14e-07,  1.40e-09, -3.98e-08,\n",
      "        3.94e-08,  5.37e-08,  4.99e-07,  1.85e-08, -9.64e-07,  2.99e-07,\n",
      "        5.36e-07, -2.51e-07,  4.07e-07,  2.28e-09,  2.32e-10, -3.36e-08,\n",
      "        2.04e-09, -5.70e-08,  6.65e-08,  7.33e-09,  1.73e-09,  3.93e-07,\n",
      "       -1.02e-09, -4.28e-09,  4.20e-09, -2.70e-08, -3.15e-07,  4.73e-07,\n",
      "       -2.86e-06, -3.43e-08,  1.40e-08,  1.44e-07,  7.06e-09,  7.19e-09,\n",
      "        2.20e-08,  6.32e-10, -5.81e-08,  3.82e-09,  2.32e-09,  3.36e-10])\n",
      " message: 'Optimization terminated successfully.'\n",
      "    nfev: 1157\n",
      "     nit: 323\n",
      "    njev: 323\n",
      "  status: 0\n",
      " success: True\n",
      "       x: array([5.71e-05, 9.95e-04, 2.38e-05, 1.34e-05, 5.69e-04, 3.63e-03,\n",
      "       4.52e-03, 2.31e-06, 7.95e-03, 7.26e-05, 4.06e-03, 5.79e-03,\n",
      "       8.48e-03, 6.85e-03, 3.65e-04, 3.60e-03, 6.34e-07, 6.55e-03,\n",
      "       1.89e-03, 1.41e-02, 1.43e-02, 1.91e-05, 1.31e-04, 3.33e-08,\n",
      "       9.30e-04, 1.49e-04, 2.61e-05, 1.48e-03, 7.57e-07, 3.31e-05,\n",
      "       9.01e-07, 1.13e-05, 1.44e-05, 4.73e-05, 3.85e-05, 2.11e-03,\n",
      "       4.16e-04, 1.97e-05, 4.70e-06, 4.86e-03, 2.11e-04, 1.48e-03,\n",
      "       7.91e-05, 3.09e-03, 5.57e-05, 1.33e-03, 4.59e-02, 4.56e-04,\n",
      "       2.07e-03, 1.50e-02, 1.68e-03, 5.84e-07, 2.57e-03, 1.80e-02,\n",
      "       9.13e-04, 5.21e-03, 6.80e-04, 5.30e-05, 2.65e-08, 3.15e-04,\n",
      "       1.22e-03, 1.46e-06, 4.67e-04, 3.27e-05, 1.62e-05, 8.71e-07,\n",
      "       4.64e-06, 1.44e-04, 3.21e-06, 1.47e-05, 2.05e-03, 3.34e-03,\n",
      "       1.29e-02, 1.69e-05, 3.79e-03, 3.91e-03, 5.25e-03, 8.82e-05,\n",
      "       2.84e-02, 4.20e-02, 5.47e-03, 4.10e-02, 9.69e-03, 8.44e-03,\n",
      "       1.83e-02, 1.69e-02, 4.81e-04, 1.16e-02, 1.76e-02, 2.12e-02,\n",
      "       2.32e-02, 9.17e-04, 5.90e-04, 2.42e-05, 1.57e-03, 1.32e-03,\n",
      "       3.75e-05, 2.29e-03, 3.93e-05, 1.61e-04, 7.07e-04, 2.06e-05,\n",
      "       1.39e-04, 7.34e-05, 6.44e-05, 1.56e-05, 2.77e-04, 6.02e-06,\n",
      "       3.69e-06, 1.70e-04, 9.57e-04, 1.23e-03, 1.78e-06, 6.27e-03,\n",
      "       5.20e-05, 3.18e-03, 4.91e-03, 6.33e-03, 5.26e-03, 6.95e-04,\n",
      "       7.00e-03, 1.12e-06, 1.26e-02, 3.96e-03, 2.60e-02, 2.72e-02,\n",
      "       2.97e-05, 2.09e-04, 4.81e-08, 1.47e-03, 2.54e-04, 3.93e-05,\n",
      "       2.29e-03, 3.65e-04, 1.63e-02, 4.03e-04, 5.52e-03, 7.65e-03,\n",
      "       2.21e-02, 1.85e-02, 2.85e-04, 5.74e-05, 2.47e-06, 6.43e-07,\n",
      "       7.20e-04, 2.75e-05, 1.99e-04, 3.02e-05, 1.20e-03, 1.98e-05,\n",
      "       5.13e-04, 1.93e-02, 1.69e-04, 7.89e-04, 1.42e-02, 1.62e-03,\n",
      "       5.12e-07, 2.45e-03, 1.86e-02, 8.33e-04, 4.89e-03, 5.24e-04,\n",
      "       4.18e-05, 1.90e-08, 2.46e-04, 1.04e-03, 1.09e-06, 3.58e-04,\n",
      "       7.82e-03, 3.96e-03, 1.93e-04, 1.12e-03, 3.78e-02, 7.41e-04,\n",
      "       3.50e-03, 1.35e-04, 2.25e-04, 7.91e-04, 1.13e-06, 2.74e-04,\n",
      "       2.49e-04, 3.44e-04, 1.64e-05, 5.41e-03, 7.26e-03, 1.03e-03,\n",
      "       8.39e-03, 1.75e-03, 1.56e-03, 8.42e-03, 7.92e-03, 2.05e-04,\n",
      "       5.39e-03, 8.88e-03, 9.43e-03, 1.06e-02, 3.45e-04, 2.27e-04,\n",
      "       8.44e-06, 5.98e-04, 5.46e-04, 1.36e-05, 8.58e-04, 4.58e-03,\n",
      "       1.91e-02, 7.65e-02, 2.43e-03, 1.78e-02, 8.27e-03, 7.47e-03])\n"
     ]
    }
   ],
   "source": [
    "μCP_opt1, μCP_iter1 = consist_with_P.optimize_score(gamma=1, store_iters=True)\n",
    "print(consist_with_P._opt_rslt)"
   ]
  },
  {
   "cell_type": "code",
   "execution_count": 22,
   "metadata": {},
   "outputs": [
    {
     "name": "stdout",
     "output_type": "stream",
     "text": [
      "score @ x: -0.6095565;\t score @ x + ϵ·grad: -0.5828957;\t  score @x + ϵ·v: -0.6092460\n"
     ]
    }
   ],
   "source": [
    "xopt = φ.data.reshape(-1)\n",
    "x = μCP_opt1.data.reshape(-1)\n",
    "gradx = mscore(x)[1]\n",
    "gradx /=  np.sqrt((gradx*gradx).sum())\n",
    "\n",
    "vec = (xopt - x)\n",
    "vec /= np.sqrt((vec*vec).sum())\n",
    "ϵ = 0.001\n",
    "\n",
    "# np.allclose(vec.reshape(-1).dot(vec.reshape(-1)), (vec*vec).sum().reshape(-1))  #True\n",
    "print(\"score @ x: %.7f;\\t score @ x + ϵ·grad: %.7f;\\t  score @x + ϵ·v: %.7f\"%\n",
    "      (mscore(x)[0], mscore(x + gradx*ϵ)[0], mscore(x + vec * ϵ)[0]))"
   ]
  },
  {
   "cell_type": "markdown",
   "metadata": {},
   "source": [
    "## Now, a function to do this for a `DistLibrary`"
   ]
  },
  {
   "cell_type": "code",
   "execution_count": 68,
   "metadata": {},
   "outputs": [],
   "source": [
    "\"\"\"\n",
    "Usage:\n",
    " convergence_plot(lib.opt, along=\"γ\", cmap='Blues', marker='X', lines=False)\n",
    "Semantics:\n",
    " (1) scatter all distributions in view\n",
    " (2) special marker on smallest dist if exists\n",
    " (3) if along + cmap specified, \n",
    "\"\"\"\n",
    "def convergence_plot(dlibview, along=None, lines=None, **kwargs):\n",
    "    def iitransform(μs):\n",
    "        return zip(*((M.Inc(μ).real,M.IDef(μ).real) for μ in μs))\n",
    "\n",
    "    M = dlibview._lib.M\n",
    "    X,Y = iitransform(dlibview.μs if along is None else dlibview.along(along))\n",
    "    \n",
    "    if lines:\n",
    "        if type(lines) is str:\n",
    "            plt.plot(X,Y, lines, alpha=0.2)\n",
    "        else:\n",
    "            linedict = {'color' : '#999999', 'alpha': 0.3 }\n",
    "            if 'cmap' in kwargs:\n",
    "                linedict['color'] = plt.get_cmap(kwargs['cmap'])(0.5)\n",
    "\n",
    "            if isinstance(lines,dict):\n",
    "                linedict.update(**lines)\n",
    "\n",
    "            plt.plot(X,Y, **linedict)\n",
    "        \n",
    "    \n",
    "    plt.scatter(X,Y, c=np.linspace(0,1,len(X)), **kwargs)\n",
    "\n",
    "    x = None; y = None\n",
    "    try:\n",
    "        x,y = iitransform([+dlibview])\n",
    "    except ValueError:\n",
    "        # not a unique natural special distribution\n",
    "        if along is not None:\n",
    "            x,y = X[-1], Y[-1]\n",
    "    \n",
    "    if not (x is None or y is None):\n",
    "        plt.scatter(x,y,marker='x',s=130,alpha=1) "
   ]
  },
  {
   "cell_type": "code",
   "execution_count": 34,
   "metadata": {
    "jupyter": {
     "source_hidden": true
    }
   },
   "outputs": [],
   "source": [
    "# def convergence_plot(initM, precomputed = None, *distfmtpairs, lines=False):\n",
    "#     Γ = StandardDists(M)  if precomputed is None else precomputed\n",
    "#     M = Γ.M\n",
    "\n",
    "#     SHAPE = Γ.φ.data.reshape(-1).shape\n",
    "\n",
    "#     φpt = np.array([Γ.φ.data.reshape(*SHAPE)])\n",
    "#     idx0pt = np.linspace(0, 1, len(Γ.μiter0))\n",
    "#     idx1pt = np.linspace(0, 1, len(Γ.μiter1))\n",
    "    \n",
    "#     bigmatrix = np.vstack([φpt, Γ.μiter0, Γ.μiter1])\n",
    "\n",
    "#     def iitransform(μflatmat):\n",
    "#         return [(M.Inc(μ),M.IDef(μ)) for μ in map(lambda d : RJD(d.reshape(*M.dshape), M.varlist), μflatmat)]\n",
    "\n",
    "\n",
    "#     # Do for γ=0 (P)\n",
    "#     if lines: plt.plot(*zip(*iitransform( Γ.μiter0)), 'b', alpha=0.1)\n",
    "#     plt.scatter(*zip(*iitransform( Γ.μiter0)), cmap='Blues', c=idx0pt, alpha=0.3)\n",
    "#     Xs,Ys = zip(*iitransform( [Γ.μopt0.data])); plt.plot(Xs,Ys, 'xb', markersize=15,alpha=0.8)\n",
    "\n",
    "#     # Do for γ=1 (φ)\n",
    "#     if lines: plt.plot(*zip(*iitransform( Γ.μiter1)), 'r', alpha=0.1)\n",
    "#     plt.scatter(*zip(*iitransform(Γ.μiter1)), cmap='Reds', c=idx1pt, alpha=0.3)\n",
    "#     Xs,Ys = zip(*iitransform( [φpt])); plt.plot(Xs,Ys, '>r', markersize=15,alpha=0.8)\n",
    "#     Xs,Ys = zip(*iitransform( [Γ.μopt1.data])); plt.plot(Xs,Ys, 'xr', markersize=15,alpha=0.8)\n",
    "    \n",
    "#     # Do for γ=ϵ \n",
    "#     if lines: plt.plot(*zip(*iitransform( Γ.μiterϵ)), 'k', alpha=0.1)\n",
    "#     plt.scatter(*zip(*iitransform(Γ.μiterϵ)), cmap='Purples', c=np.linspace(0,1,len(Γ.μiterϵ)), alpha=1)\n",
    "#     Xs,Ys = zip(*iitransform( [Γ.μoptϵ.data])); plt.plot(Xs,Ys, 'Xk', markersize=17,alpha=0.8)\n",
    "\n",
    "#     #now for GS\n",
    "#     if lines: plt.plot(*zip(*iitransform( Γ.iterGSo)), 'g', alpha=0.1)\n",
    "#     plt.scatter(*zip(*iitransform( Γ.iterGSo)), cmap='Greens', c=np.linspace(0,1,len(Γ.iterGSo)), alpha=0.3)\n",
    "#     Xs,Ys = zip(*iitransform( [Γ.μord.data])); plt.plot(Xs,Ys, 'xg',\n",
    "#                                                         markeredgecolor='k', markersize=15,alpha=0.8)\n",
    "\n",
    "#     if lines: plt.plot(*zip(*iitransform( Γ.iterGSβ)), 'y', alpha=0.2)\n",
    "#     plt.scatter(*zip(*iitransform( Γ.iterGSβ)), cmap='Wistia', c=np.linspace(0,1,len(Γ.iterGSβ)), alpha=0.3)\n",
    "#     Xs,Ys = zip(*iitransform([Γ.μGS_β.data])); plt.plot(Xs,Ys, marker='+y',\n",
    "#                                                         markeredgecolor='k', markersize=15,alpha=0.8)\n",
    "    \n",
    "#     for d,f in distfmtpairs:\n",
    "#         plt.plot(*zip(*iitransform( [d.data] )), f)\n",
    "        \n",
    "\n",
    "#     plt.show()"
   ]
  },
  {
   "cell_type": "code",
   "execution_count": 26,
   "metadata": {},
   "outputs": [],
   "source": [
    "from lib import smoking\n",
    "CP_lib = consist_with_P.standard_library()\n",
    "smoking_lib = smoking.M.standard_library()"
   ]
  },
  {
   "cell_type": "code",
   "execution_count": null,
   "metadata": {},
   "outputs": [],
   "source": [
    "from lib.square import with_rand_cpts, missing_parents\n",
    "wrc = with_rand_cpts.standard_library"
   ]
  },
  {
   "cell_type": "code",
   "execution_count": 27,
   "metadata": {},
   "outputs": [],
   "source": [
    "import pickle\n",
    "with open(\"CP_lib.pkl\", 'wb') as f:\n",
    "    pickle.dump(CP_lib.dists, f)\n",
    "with open(\"smoking_lib.pkl\", 'wb') as f:\n",
    "    pickle.dump(smoking_lib.dists, f)"
   ]
  },
  {
   "cell_type": "code",
   "execution_count": 281,
   "metadata": {},
   "outputs": [
    {
     "data": {
      "application/vnd.jupyter.widget-view+json": {
       "model_id": "9c4094537bfc4d75a72ba790ef946d6f",
       "version_major": 2,
       "version_minor": 0
      },
      "text/plain": [
       "Canvas(toolbar=Toolbar(toolitems=[('Home', 'Reset original view', 'home', 'home'), ('Back', 'Back to previous …"
      ]
     },
     "metadata": {},
     "output_type": "display_data"
    },
    {
     "data": {
      "image/png": "[encoded data removed]",
      "text/plain": [
       "<Figure size 432x288 with 1 Axes>"
      ]
     },
     "metadata": {},
     "output_type": "display_data"
    }
   ],
   "source": [
    "%matplotlib widget\n",
    "smoking_lib.M.draw()"
   ]
  },
  {
   "cell_type": "code",
   "execution_count": 251,
   "metadata": {},
   "outputs": [],
   "source": [
    "for k,d in CP_lib.dists.items():\n",
    "    if not isinstance(d, np.ndarray):\n",
    "        CP_lib.dists[k] = d.data.reshape(-1)"
   ]
  },
  {
   "cell_type": "code",
   "execution_count": 35,
   "metadata": {},
   "outputs": [
    {
     "data": {
      "application/vnd.jupyter.widget-view+json": {
       "model_id": "5eba3572e662464f9cb801eb0af37232",
       "version_major": 2,
       "version_minor": 0
      },
      "text/plain": [
       "Canvas(toolbar=Toolbar(toolitems=[('Home', 'Reset original view', 'home', 'home'), ('Back', 'Back to previous …"
      ]
     },
     "metadata": {},
     "output_type": "display_data"
    }
   ],
   "source": [
    "%matplotlib widget\n",
    "# plt.figure(figsize=(10,4))\n",
    "convergence_plot(CP_lib.GS.β, along='i', cmap='Oranges',linecolor=...)\n",
    "convergence_plot(CP_lib.GS(\"≺\"), along='i', cmap='Blues',linecolor=...)\n",
    "\n",
    "# convergence_plot(smoking_lib.opt, along=\"γ\",cmap='Blues')#,linecolor=\"#aaaaff\"\n"
   ]
  },
  {
   "cell_type": "code",
   "execution_count": 151,
   "metadata": {},
   "outputs": [
    {
     "data": {
      "image/png": "[encoded data removed]",
      "text/plain": [
       "<Figure size 864x432 with 1 Axes>"
      ]
     },
     "metadata": {
      "needs_background": "light"
     },
     "output_type": "display_data"
    }
   ],
   "source": [
    "%matplotlib inline\n",
    "plt.figure(figsize=(12,6))\n",
    "convergence_plot(CP_lib.opt.γ(lambda γ: γ < 1), along=\"-γ\",cmap='Blues', lines={'alpha':0.1})#\n",
    "convergence_plot(CP_lib.opt.γ(lambda γ: γ > 1), along=\"-γ\",cmap='Oranges', lines={'alpha':0.1})#"
   ]
  },
  {
   "cell_type": "code",
   "execution_count": 156,
   "metadata": {},
   "outputs": [
    {
     "ename": "AttributeError",
     "evalue": "'PathCollection' object has no property 'xmax'",
     "output_type": "error",
     "traceback": [
      "\u001b[0;31m---------------------------------------------------------------------------\u001b[0m",
      "\u001b[0;31mAttributeError\u001b[0m                            Traceback (most recent call last)",
      "\u001b[0;32m<ipython-input-156-0d60461c619b>\u001b[0m in \u001b[0;36m<module>\u001b[0;34m\u001b[0m\n\u001b[1;32m      1\u001b[0m \u001b[0mget_ipython\u001b[0m\u001b[0;34m(\u001b[0m\u001b[0;34m)\u001b[0m\u001b[0;34m.\u001b[0m\u001b[0mrun_line_magic\u001b[0m\u001b[0;34m(\u001b[0m\u001b[0;34m'matplotlib'\u001b[0m\u001b[0;34m,\u001b[0m \u001b[0;34m'inline'\u001b[0m\u001b[0;34m)\u001b[0m\u001b[0;34m\u001b[0m\u001b[0;34m\u001b[0m\u001b[0m\n\u001b[1;32m      2\u001b[0m \u001b[0mplt\u001b[0m\u001b[0;34m.\u001b[0m\u001b[0mfigure\u001b[0m\u001b[0;34m(\u001b[0m\u001b[0mfigsize\u001b[0m\u001b[0;34m=\u001b[0m\u001b[0;34m(\u001b[0m\u001b[0;36m10\u001b[0m\u001b[0;34m,\u001b[0m\u001b[0;36m4\u001b[0m\u001b[0;34m)\u001b[0m\u001b[0;34m)\u001b[0m\u001b[0;34m\u001b[0m\u001b[0;34m\u001b[0m\u001b[0m\n\u001b[0;32m----> 3\u001b[0;31m \u001b[0mconvergence_plot\u001b[0m\u001b[0;34m(\u001b[0m\u001b[0msmoking_lib\u001b[0m\u001b[0;34m.\u001b[0m\u001b[0mopt\u001b[0m\u001b[0;34m.\u001b[0m\u001b[0mwithout\u001b[0m\u001b[0;34m(\u001b[0m\u001b[0;34m\"i\"\u001b[0m\u001b[0;34m)\u001b[0m\u001b[0;34m,\u001b[0m \u001b[0malong\u001b[0m\u001b[0;34m=\u001b[0m\u001b[0;34m\"-γ\"\u001b[0m\u001b[0;34m,\u001b[0m\u001b[0mcmap\u001b[0m\u001b[0;34m=\u001b[0m\u001b[0;34m'Blues'\u001b[0m\u001b[0;34m,\u001b[0m \u001b[0mlines\u001b[0m\u001b[0;34m=\u001b[0m\u001b[0;34m{\u001b[0m\u001b[0;34m'alpha'\u001b[0m\u001b[0;34m:\u001b[0m\u001b[0;36m0.1\u001b[0m\u001b[0;34m}\u001b[0m\u001b[0;34m,\u001b[0m \u001b[0mxmax\u001b[0m\u001b[0;34m=\u001b[0m\u001b[0;36m1\u001b[0m\u001b[0;34m)\u001b[0m\u001b[0;31m#\u001b[0m\u001b[0;34m\u001b[0m\u001b[0;34m\u001b[0m\u001b[0m\n\u001b[0m",
      "\u001b[0;32m<ipython-input-68-1c83d443afc5>\u001b[0m in \u001b[0;36mconvergence_plot\u001b[0;34m(dlibview, along, lines, **kwargs)\u001b[0m\n\u001b[1;32m     28\u001b[0m \u001b[0;34m\u001b[0m\u001b[0m\n\u001b[1;32m     29\u001b[0m \u001b[0;34m\u001b[0m\u001b[0m\n\u001b[0;32m---> 30\u001b[0;31m     \u001b[0mplt\u001b[0m\u001b[0;34m.\u001b[0m\u001b[0mscatter\u001b[0m\u001b[0;34m(\u001b[0m\u001b[0mX\u001b[0m\u001b[0;34m,\u001b[0m\u001b[0mY\u001b[0m\u001b[0;34m,\u001b[0m \u001b[0mc\u001b[0m\u001b[0;34m=\u001b[0m\u001b[0mnp\u001b[0m\u001b[0;34m.\u001b[0m\u001b[0mlinspace\u001b[0m\u001b[0;34m(\u001b[0m\u001b[0;36m0\u001b[0m\u001b[0;34m,\u001b[0m\u001b[0;36m1\u001b[0m\u001b[0;34m,\u001b[0m\u001b[0mlen\u001b[0m\u001b[0;34m(\u001b[0m\u001b[0mX\u001b[0m\u001b[0;34m)\u001b[0m\u001b[0;34m)\u001b[0m\u001b[0;34m,\u001b[0m \u001b[0;34m**\u001b[0m\u001b[0mkwargs\u001b[0m\u001b[0;34m)\u001b[0m\u001b[0;34m\u001b[0m\u001b[0;34m\u001b[0m\u001b[0m\n\u001b[0m\u001b[1;32m     31\u001b[0m \u001b[0;34m\u001b[0m\u001b[0m\n\u001b[1;32m     32\u001b[0m     \u001b[0mx\u001b[0m \u001b[0;34m=\u001b[0m \u001b[0;32mNone\u001b[0m\u001b[0;34m;\u001b[0m \u001b[0my\u001b[0m \u001b[0;34m=\u001b[0m \u001b[0;32mNone\u001b[0m\u001b[0;34m\u001b[0m\u001b[0;34m\u001b[0m\u001b[0m\n",
      "\u001b[0;32m/usr/lib/python3/dist-packages/matplotlib/pyplot.py\u001b[0m in \u001b[0;36mscatter\u001b[0;34m(x, y, s, c, marker, cmap, norm, vmin, vmax, alpha, linewidths, verts, edgecolors, plotnonfinite, data, **kwargs)\u001b[0m\n\u001b[1;32m   2834\u001b[0m         \u001b[0mvmin\u001b[0m\u001b[0;34m=\u001b[0m\u001b[0;32mNone\u001b[0m\u001b[0;34m,\u001b[0m \u001b[0mvmax\u001b[0m\u001b[0;34m=\u001b[0m\u001b[0;32mNone\u001b[0m\u001b[0;34m,\u001b[0m \u001b[0malpha\u001b[0m\u001b[0;34m=\u001b[0m\u001b[0;32mNone\u001b[0m\u001b[0;34m,\u001b[0m \u001b[0mlinewidths\u001b[0m\u001b[0;34m=\u001b[0m\u001b[0;32mNone\u001b[0m\u001b[0;34m,\u001b[0m \u001b[0mverts\u001b[0m\u001b[0;34m=\u001b[0m\u001b[0;32mNone\u001b[0m\u001b[0;34m,\u001b[0m\u001b[0;34m\u001b[0m\u001b[0;34m\u001b[0m\u001b[0m\n\u001b[1;32m   2835\u001b[0m         edgecolors=None, *, plotnonfinite=False, data=None, **kwargs):\n\u001b[0;32m-> 2836\u001b[0;31m     __ret = gca().scatter(\n\u001b[0m\u001b[1;32m   2837\u001b[0m         \u001b[0mx\u001b[0m\u001b[0;34m,\u001b[0m \u001b[0my\u001b[0m\u001b[0;34m,\u001b[0m \u001b[0ms\u001b[0m\u001b[0;34m=\u001b[0m\u001b[0ms\u001b[0m\u001b[0;34m,\u001b[0m \u001b[0mc\u001b[0m\u001b[0;34m=\u001b[0m\u001b[0mc\u001b[0m\u001b[0;34m,\u001b[0m \u001b[0mmarker\u001b[0m\u001b[0;34m=\u001b[0m\u001b[0mmarker\u001b[0m\u001b[0;34m,\u001b[0m \u001b[0mcmap\u001b[0m\u001b[0;34m=\u001b[0m\u001b[0mcmap\u001b[0m\u001b[0;34m,\u001b[0m \u001b[0mnorm\u001b[0m\u001b[0;34m=\u001b[0m\u001b[0mnorm\u001b[0m\u001b[0;34m,\u001b[0m\u001b[0;34m\u001b[0m\u001b[0;34m\u001b[0m\u001b[0m\n\u001b[1;32m   2838\u001b[0m         \u001b[0mvmin\u001b[0m\u001b[0;34m=\u001b[0m\u001b[0mvmin\u001b[0m\u001b[0;34m,\u001b[0m \u001b[0mvmax\u001b[0m\u001b[0;34m=\u001b[0m\u001b[0mvmax\u001b[0m\u001b[0;34m,\u001b[0m \u001b[0malpha\u001b[0m\u001b[0;34m=\u001b[0m\u001b[0malpha\u001b[0m\u001b[0;34m,\u001b[0m \u001b[0mlinewidths\u001b[0m\u001b[0;34m=\u001b[0m\u001b[0mlinewidths\u001b[0m\u001b[0;34m,\u001b[0m\u001b[0;34m\u001b[0m\u001b[0;34m\u001b[0m\u001b[0m\n",
      "\u001b[0;32m/usr/lib/python3/dist-packages/matplotlib/__init__.py\u001b[0m in \u001b[0;36minner\u001b[0;34m(ax, data, *args, **kwargs)\u001b[0m\n\u001b[1;32m   1599\u001b[0m     \u001b[0;32mdef\u001b[0m \u001b[0minner\u001b[0m\u001b[0;34m(\u001b[0m\u001b[0max\u001b[0m\u001b[0;34m,\u001b[0m \u001b[0;34m*\u001b[0m\u001b[0margs\u001b[0m\u001b[0;34m,\u001b[0m \u001b[0mdata\u001b[0m\u001b[0;34m=\u001b[0m\u001b[0;32mNone\u001b[0m\u001b[0;34m,\u001b[0m \u001b[0;34m**\u001b[0m\u001b[0mkwargs\u001b[0m\u001b[0;34m)\u001b[0m\u001b[0;34m:\u001b[0m\u001b[0;34m\u001b[0m\u001b[0;34m\u001b[0m\u001b[0m\n\u001b[1;32m   1600\u001b[0m         \u001b[0;32mif\u001b[0m \u001b[0mdata\u001b[0m \u001b[0;32mis\u001b[0m \u001b[0;32mNone\u001b[0m\u001b[0;34m:\u001b[0m\u001b[0;34m\u001b[0m\u001b[0;34m\u001b[0m\u001b[0m\n\u001b[0;32m-> 1601\u001b[0;31m             \u001b[0;32mreturn\u001b[0m \u001b[0mfunc\u001b[0m\u001b[0;34m(\u001b[0m\u001b[0max\u001b[0m\u001b[0;34m,\u001b[0m \u001b[0;34m*\u001b[0m\u001b[0mmap\u001b[0m\u001b[0;34m(\u001b[0m\u001b[0msanitize_sequence\u001b[0m\u001b[0;34m,\u001b[0m \u001b[0margs\u001b[0m\u001b[0;34m)\u001b[0m\u001b[0;34m,\u001b[0m \u001b[0;34m**\u001b[0m\u001b[0mkwargs\u001b[0m\u001b[0;34m)\u001b[0m\u001b[0;34m\u001b[0m\u001b[0;34m\u001b[0m\u001b[0m\n\u001b[0m\u001b[1;32m   1602\u001b[0m \u001b[0;34m\u001b[0m\u001b[0m\n\u001b[1;32m   1603\u001b[0m         \u001b[0mbound\u001b[0m \u001b[0;34m=\u001b[0m \u001b[0mnew_sig\u001b[0m\u001b[0;34m.\u001b[0m\u001b[0mbind\u001b[0m\u001b[0;34m(\u001b[0m\u001b[0max\u001b[0m\u001b[0;34m,\u001b[0m \u001b[0;34m*\u001b[0m\u001b[0margs\u001b[0m\u001b[0;34m,\u001b[0m \u001b[0;34m**\u001b[0m\u001b[0mkwargs\u001b[0m\u001b[0;34m)\u001b[0m\u001b[0;34m\u001b[0m\u001b[0;34m\u001b[0m\u001b[0m\n",
      "\u001b[0;32m/usr/lib/python3/dist-packages/matplotlib/axes/_axes.py\u001b[0m in \u001b[0;36mscatter\u001b[0;34m(self, x, y, s, c, marker, cmap, norm, vmin, vmax, alpha, linewidths, verts, edgecolors, plotnonfinite, **kwargs)\u001b[0m\n\u001b[1;32m   4498\u001b[0m                 )\n\u001b[1;32m   4499\u001b[0m         \u001b[0mcollection\u001b[0m\u001b[0;34m.\u001b[0m\u001b[0mset_transform\u001b[0m\u001b[0;34m(\u001b[0m\u001b[0mmtransforms\u001b[0m\u001b[0;34m.\u001b[0m\u001b[0mIdentityTransform\u001b[0m\u001b[0;34m(\u001b[0m\u001b[0;34m)\u001b[0m\u001b[0;34m)\u001b[0m\u001b[0;34m\u001b[0m\u001b[0;34m\u001b[0m\u001b[0m\n\u001b[0;32m-> 4500\u001b[0;31m         \u001b[0mcollection\u001b[0m\u001b[0;34m.\u001b[0m\u001b[0mupdate\u001b[0m\u001b[0;34m(\u001b[0m\u001b[0mkwargs\u001b[0m\u001b[0;34m)\u001b[0m\u001b[0;34m\u001b[0m\u001b[0;34m\u001b[0m\u001b[0m\n\u001b[0m\u001b[1;32m   4501\u001b[0m \u001b[0;34m\u001b[0m\u001b[0m\n\u001b[1;32m   4502\u001b[0m         \u001b[0;32mif\u001b[0m \u001b[0mcolors\u001b[0m \u001b[0;32mis\u001b[0m \u001b[0;32mNone\u001b[0m\u001b[0;34m:\u001b[0m\u001b[0;34m\u001b[0m\u001b[0;34m\u001b[0m\u001b[0m\n",
      "\u001b[0;32m/usr/lib/python3/dist-packages/matplotlib/artist.py\u001b[0m in \u001b[0;36mupdate\u001b[0;34m(self, props)\u001b[0m\n\u001b[1;32m    972\u001b[0m \u001b[0;34m\u001b[0m\u001b[0m\n\u001b[1;32m    973\u001b[0m         \u001b[0;32mwith\u001b[0m \u001b[0mcbook\u001b[0m\u001b[0;34m.\u001b[0m\u001b[0m_setattr_cm\u001b[0m\u001b[0;34m(\u001b[0m\u001b[0mself\u001b[0m\u001b[0;34m,\u001b[0m \u001b[0meventson\u001b[0m\u001b[0;34m=\u001b[0m\u001b[0;32mFalse\u001b[0m\u001b[0;34m)\u001b[0m\u001b[0;34m:\u001b[0m\u001b[0;34m\u001b[0m\u001b[0;34m\u001b[0m\u001b[0m\n\u001b[0;32m--> 974\u001b[0;31m             \u001b[0mret\u001b[0m \u001b[0;34m=\u001b[0m \u001b[0;34m[\u001b[0m\u001b[0m_update_property\u001b[0m\u001b[0;34m(\u001b[0m\u001b[0mself\u001b[0m\u001b[0;34m,\u001b[0m \u001b[0mk\u001b[0m\u001b[0;34m,\u001b[0m \u001b[0mv\u001b[0m\u001b[0;34m)\u001b[0m \u001b[0;32mfor\u001b[0m \u001b[0mk\u001b[0m\u001b[0;34m,\u001b[0m \u001b[0mv\u001b[0m \u001b[0;32min\u001b[0m \u001b[0mprops\u001b[0m\u001b[0;34m.\u001b[0m\u001b[0mitems\u001b[0m\u001b[0;34m(\u001b[0m\u001b[0;34m)\u001b[0m\u001b[0;34m]\u001b[0m\u001b[0;34m\u001b[0m\u001b[0;34m\u001b[0m\u001b[0m\n\u001b[0m\u001b[1;32m    975\u001b[0m \u001b[0;34m\u001b[0m\u001b[0m\n\u001b[1;32m    976\u001b[0m         \u001b[0;32mif\u001b[0m \u001b[0mlen\u001b[0m\u001b[0;34m(\u001b[0m\u001b[0mret\u001b[0m\u001b[0;34m)\u001b[0m\u001b[0;34m:\u001b[0m\u001b[0;34m\u001b[0m\u001b[0;34m\u001b[0m\u001b[0m\n",
      "\u001b[0;32m/usr/lib/python3/dist-packages/matplotlib/artist.py\u001b[0m in \u001b[0;36m<listcomp>\u001b[0;34m(.0)\u001b[0m\n\u001b[1;32m    972\u001b[0m \u001b[0;34m\u001b[0m\u001b[0m\n\u001b[1;32m    973\u001b[0m         \u001b[0;32mwith\u001b[0m \u001b[0mcbook\u001b[0m\u001b[0;34m.\u001b[0m\u001b[0m_setattr_cm\u001b[0m\u001b[0;34m(\u001b[0m\u001b[0mself\u001b[0m\u001b[0;34m,\u001b[0m \u001b[0meventson\u001b[0m\u001b[0;34m=\u001b[0m\u001b[0;32mFalse\u001b[0m\u001b[0;34m)\u001b[0m\u001b[0;34m:\u001b[0m\u001b[0;34m\u001b[0m\u001b[0;34m\u001b[0m\u001b[0m\n\u001b[0;32m--> 974\u001b[0;31m             \u001b[0mret\u001b[0m \u001b[0;34m=\u001b[0m \u001b[0;34m[\u001b[0m\u001b[0m_update_property\u001b[0m\u001b[0;34m(\u001b[0m\u001b[0mself\u001b[0m\u001b[0;34m,\u001b[0m \u001b[0mk\u001b[0m\u001b[0;34m,\u001b[0m \u001b[0mv\u001b[0m\u001b[0;34m)\u001b[0m \u001b[0;32mfor\u001b[0m \u001b[0mk\u001b[0m\u001b[0;34m,\u001b[0m \u001b[0mv\u001b[0m \u001b[0;32min\u001b[0m \u001b[0mprops\u001b[0m\u001b[0;34m.\u001b[0m\u001b[0mitems\u001b[0m\u001b[0;34m(\u001b[0m\u001b[0;34m)\u001b[0m\u001b[0;34m]\u001b[0m\u001b[0;34m\u001b[0m\u001b[0;34m\u001b[0m\u001b[0m\n\u001b[0m\u001b[1;32m    975\u001b[0m \u001b[0;34m\u001b[0m\u001b[0m\n\u001b[1;32m    976\u001b[0m         \u001b[0;32mif\u001b[0m \u001b[0mlen\u001b[0m\u001b[0;34m(\u001b[0m\u001b[0mret\u001b[0m\u001b[0;34m)\u001b[0m\u001b[0;34m:\u001b[0m\u001b[0;34m\u001b[0m\u001b[0;34m\u001b[0m\u001b[0m\n",
      "\u001b[0;32m/usr/lib/python3/dist-packages/matplotlib/artist.py\u001b[0m in \u001b[0;36m_update_property\u001b[0;34m(self, k, v)\u001b[0m\n\u001b[1;32m    967\u001b[0m                 \u001b[0mfunc\u001b[0m \u001b[0;34m=\u001b[0m \u001b[0mgetattr\u001b[0m\u001b[0;34m(\u001b[0m\u001b[0mself\u001b[0m\u001b[0;34m,\u001b[0m \u001b[0;34m'set_'\u001b[0m \u001b[0;34m+\u001b[0m \u001b[0mk\u001b[0m\u001b[0;34m,\u001b[0m \u001b[0;32mNone\u001b[0m\u001b[0;34m)\u001b[0m\u001b[0;34m\u001b[0m\u001b[0;34m\u001b[0m\u001b[0m\n\u001b[1;32m    968\u001b[0m                 \u001b[0;32mif\u001b[0m \u001b[0;32mnot\u001b[0m \u001b[0mcallable\u001b[0m\u001b[0;34m(\u001b[0m\u001b[0mfunc\u001b[0m\u001b[0;34m)\u001b[0m\u001b[0;34m:\u001b[0m\u001b[0;34m\u001b[0m\u001b[0;34m\u001b[0m\u001b[0m\n\u001b[0;32m--> 969\u001b[0;31m                     raise AttributeError('{!r} object has no property {!r}'\n\u001b[0m\u001b[1;32m    970\u001b[0m                                          .format(type(self).__name__, k))\n\u001b[1;32m    971\u001b[0m                 \u001b[0;32mreturn\u001b[0m \u001b[0mfunc\u001b[0m\u001b[0;34m(\u001b[0m\u001b[0mv\u001b[0m\u001b[0;34m)\u001b[0m\u001b[0;34m\u001b[0m\u001b[0;34m\u001b[0m\u001b[0m\n",
      "\u001b[0;31mAttributeError\u001b[0m: 'PathCollection' object has no property 'xmax'"
     ]
    },
    {
     "data": {
      "image/png": "[encoded data removed]",
      "text/plain": [
       "<Figure size 720x288 with 1 Axes>"
      ]
     },
     "metadata": {
      "needs_background": "light"
     },
     "output_type": "display_data"
    }
   ],
   "source": [
    "%matplotlib inline\n",
    "plt.figure(figsize=(10,4))\n",
    "convergence_plot(smoking_lib.opt.without(\"i\"), along=\"-γ\",cmap='Blues', lines={'alpha':0.1}, xmax=1)#"
   ]
  },
  {
   "cell_type": "code",
   "execution_count": 86,
   "metadata": {},
   "outputs": [
    {
     "data": {
      "text/plain": [
       "LibView { opt } (43 matches)"
      ]
     },
     "execution_count": 86,
     "metadata": {},
     "output_type": "execute_result"
    }
   ],
   "source": [
    "smoking_lib.opt.γ"
   ]
  },
  {
   "cell_type": "code",
   "execution_count": 70,
   "metadata": {},
   "outputs": [],
   "source": [
    "from pdg import DistLibrary\n",
    "dl = DistLibrary(smoking.M)"
   ]
  },
  {
   "cell_type": "code",
   "execution_count": 139,
   "metadata": {},
   "outputs": [
    {
     "data": {
      "text/plain": [
       "LibraryView {  }"
      ]
     },
     "execution_count": 139,
     "metadata": {},
     "output_type": "execute_result"
    }
   ],
   "source": []
  },
  {
   "cell_type": "code",
   "execution_count": 282,
   "metadata": {},
   "outputs": [
    {
     "ename": "AttributeError",
     "evalue": "'ellipsis' object has no attribute '_lib'",
     "output_type": "error",
     "traceback": [
      "\u001b[0;31m---------------------------------------------------------------------------\u001b[0m",
      "\u001b[0;31mAttributeError\u001b[0m                            Traceback (most recent call last)",
      "\u001b[0;32m<ipython-input-282-12efa06befad>\u001b[0m in \u001b[0;36m<module>\u001b[0;34m\u001b[0m\n\u001b[1;32m      1\u001b[0m \u001b[0mget_ipython\u001b[0m\u001b[0;34m(\u001b[0m\u001b[0;34m)\u001b[0m\u001b[0;34m.\u001b[0m\u001b[0mrun_line_magic\u001b[0m\u001b[0;34m(\u001b[0m\u001b[0;34m'matplotlib'\u001b[0m\u001b[0;34m,\u001b[0m \u001b[0;34m'widget'\u001b[0m\u001b[0;34m)\u001b[0m\u001b[0;34m\u001b[0m\u001b[0;34m\u001b[0m\u001b[0m\n\u001b[0;32m----> 2\u001b[0;31m \u001b[0mconvergence_plot\u001b[0m\u001b[0;34m(\u001b[0m\u001b[0;34m...\u001b[0m\u001b[0;34m,\u001b[0m \u001b[0mCP_lib\u001b[0m\u001b[0;34m,\u001b[0m \u001b[0;34m(\u001b[0m\u001b[0mP\u001b[0m\u001b[0;34m,\u001b[0m \u001b[0;34m'*c'\u001b[0m\u001b[0;34m)\u001b[0m\u001b[0;34m)\u001b[0m\u001b[0;34m\u001b[0m\u001b[0;34m\u001b[0m\u001b[0m\n\u001b[0m",
      "\u001b[0;32m<ipython-input-276-2f89e0355ed3>\u001b[0m in \u001b[0;36mconvergence_plot\u001b[0;34m(dlibview, along, linecolor, **kwargs)\u001b[0m\n\u001b[1;32m     11\u001b[0m         \u001b[0;32mreturn\u001b[0m \u001b[0mzip\u001b[0m\u001b[0;34m(\u001b[0m\u001b[0;34m*\u001b[0m\u001b[0;34m(\u001b[0m\u001b[0;34m(\u001b[0m\u001b[0mM\u001b[0m\u001b[0;34m.\u001b[0m\u001b[0mInc\u001b[0m\u001b[0;34m(\u001b[0m\u001b[0mμ\u001b[0m\u001b[0;34m)\u001b[0m\u001b[0;34m.\u001b[0m\u001b[0mreal\u001b[0m\u001b[0;34m,\u001b[0m\u001b[0mM\u001b[0m\u001b[0;34m.\u001b[0m\u001b[0mIDef\u001b[0m\u001b[0;34m(\u001b[0m\u001b[0mμ\u001b[0m\u001b[0;34m)\u001b[0m\u001b[0;34m.\u001b[0m\u001b[0mreal\u001b[0m\u001b[0;34m)\u001b[0m \u001b[0;32mfor\u001b[0m \u001b[0mμ\u001b[0m \u001b[0;32min\u001b[0m \u001b[0mμs\u001b[0m\u001b[0;34m)\u001b[0m\u001b[0;34m)\u001b[0m\u001b[0;34m\u001b[0m\u001b[0;34m\u001b[0m\u001b[0m\n\u001b[1;32m     12\u001b[0m \u001b[0;34m\u001b[0m\u001b[0m\n\u001b[0;32m---> 13\u001b[0;31m     \u001b[0mM\u001b[0m \u001b[0;34m=\u001b[0m \u001b[0mdlibview\u001b[0m\u001b[0;34m.\u001b[0m\u001b[0m_lib\u001b[0m\u001b[0;34m.\u001b[0m\u001b[0mM\u001b[0m\u001b[0;34m\u001b[0m\u001b[0;34m\u001b[0m\u001b[0m\n\u001b[0m\u001b[1;32m     14\u001b[0m     \u001b[0mX\u001b[0m\u001b[0;34m,\u001b[0m\u001b[0mY\u001b[0m \u001b[0;34m=\u001b[0m \u001b[0miitransform\u001b[0m\u001b[0;34m(\u001b[0m\u001b[0mdlibview\u001b[0m\u001b[0;34m.\u001b[0m\u001b[0mμs\u001b[0m \u001b[0;32mif\u001b[0m \u001b[0malong\u001b[0m \u001b[0;32mis\u001b[0m \u001b[0;32mNone\u001b[0m \u001b[0;32melse\u001b[0m \u001b[0mdlibview\u001b[0m\u001b[0;34m.\u001b[0m\u001b[0malong\u001b[0m\u001b[0;34m(\u001b[0m\u001b[0malong\u001b[0m\u001b[0;34m)\u001b[0m\u001b[0;34m)\u001b[0m\u001b[0;34m\u001b[0m\u001b[0;34m\u001b[0m\u001b[0m\n\u001b[1;32m     15\u001b[0m \u001b[0;34m\u001b[0m\u001b[0m\n",
      "\u001b[0;31mAttributeError\u001b[0m: 'ellipsis' object has no attribute '_lib'"
     ]
    }
   ],
   "source": [
    "%matplotlib widget\n",
    "convergence_plot(..., CP_lib, (P, '*c'))"
   ]
  },
  {
   "cell_type": "code",
   "execution_count": 30,
   "metadata": {},
   "outputs": [
    {
     "data": {
      "application/vnd.jupyter.widget-view+json": {
       "model_id": "e7e540a41c7845a99fd1b71de14ce67d",
       "version_major": 2,
       "version_minor": 0
      },
      "text/plain": [
       "Canvas(toolbar=Toolbar(toolitems=[('Home', 'Reset original view', 'home', 'home'), ('Back', 'Back to previous …"
      ]
     },
     "metadata": {},
     "output_type": "display_data"
    }
   ],
   "source": [
    "%matplotlib widget\n",
    "convergence_plot(..., smoke_lib)"
   ]
  },
  {
   "cell_type": "code",
   "execution_count": null,
   "metadata": {},
   "outputs": [],
   "source": [
    "import pandas as pd\n",
    "print(consist_with_P.score(μCP_fact, gamma=1),\n",
    "          consist_with_P.score(μCP_opt1, gamma=1),\n",
    "          consist_with_P.score(RJD.unif(consist_with_P.varlist),gamma=1))\n",
    "pd.concat([μCP_fact[B | A], μCP_opt1[B | A]],axis=1)\n",
    "\n",
    "\n",
    "mscore = consist_with_P._build_fast_scorer(gamma=1)\n",
    "goodscore = consist_with_P.score\n",
    "\n",
    "unif = RJD.unif(consist_with_P.varlist)\n",
    "\n",
    "[ (mscore(μ.data)[0], goodscore(μ)) for μ in [μ_fact, P, unif]]\n"
   ]
  },
  {
   "cell_type": "markdown",
   "metadata": {},
   "source": [
    "# Convergence\n",
    "Does $p^*$ =\n"
   ]
  },
  {
   "cell_type": "code",
   "execution_count": null,
   "metadata": {},
   "outputs": [],
   "source": [
    "# Optimizing for Inc alone gives small Inc\n",
    "consist_with_P.Inc(μCP_opt0)"
   ]
  },
  {
   "cell_type": "code",
   "execution_count": null,
   "metadata": {},
   "outputs": [],
   "source": [
    "# And the original distribution P from which it was taken, is not SO far away.\n",
    "# Note: opt0 is more generic; easier to specialize  μ_fact_opt <- P  than vice versa\n",
    "P // μCP_opt0,    μCP_opt0 // P"
   ]
  },
  {
   "cell_type": "code",
   "execution_count": null,
   "metadata": {},
   "outputs": [],
   "source": [
    "\n",
    "μAB = RJD(np.zeros((2,3))+np.eye(2,3)/2 + np.random.random((2,3))/100, [A,B])\n",
    "μAB.info_diagram(A,B,B)"
   ]
  }
 ],
 "metadata": {
  "kernelspec": {
   "display_name": "Python 3",
   "language": "python",
   "name": "python3"
  },
  "language_info": {
   "codemirror_mode": {
    "name": "ipython",
    "version": 3
   },
   "file_extension": ".py",
   "mimetype": "text/x-python",
   "name": "python",
   "nbconvert_exporter": "python",
   "pygments_lexer": "ipython3",
   "version": "3.8.2"
  }
 },
 "nbformat": 4,
 "nbformat_minor": 4
}
