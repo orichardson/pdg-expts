{
 "cells": [
  {
   "cell_type": "code",
   "execution_count": 8,
   "metadata": {},
   "outputs": [
    {
     "data": {
      "text/plain": [
       "'/home/oli/Research/Joe/agent-goals/code'"
      ]
     },
     "execution_count": 8,
     "metadata": {},
     "output_type": "execute_result"
    }
   ],
   "source": [
    "# %cd ../\n",
    "%pwd\n",
    "# should be /code"
   ]
  },
  {
   "cell_type": "code",
   "execution_count": 6,
   "metadata": {},
   "outputs": [
    {
     "data": {
      "text/plain": [
       "'/home/oli/Research/Joe/agent-goals/code/scratch'"
      ]
     },
     "execution_count": 6,
     "metadata": {},
     "output_type": "execute_result"
    }
   ],
   "source": [
    "from pgmpy.models import BayesianNetwork,  FactorGraph\n"
   ]
  },
  {
   "cell_type": "code",
   "execution_count": 9,
   "metadata": {},
   "outputs": [
    {
     "data": {
      "text/plain": [
       "[['LVFAILURE', 'HISTORY'],\n",
       " ['LVEDVOLUME', 'CVP'],\n",
       " ['LVEDVOLUME', 'PCWP'],\n",
       " ['HYPOVOLEMIA', 'LVEDVOLUME'],\n",
       " ['LVFAILURE', 'LVEDVOLUME'],\n",
       " ['HYPOVOLEMIA', 'STROKEVOLUME'],\n",
       " ['LVFAILURE', 'STROKEVOLUME'],\n",
       " ['ERRLOWOUTPUT', 'HRBP'],\n",
       " ['HR', 'HRBP'],\n",
       " ['ERRCAUTER', 'HREKG'],\n",
       " ['HR', 'HREKG'],\n",
       " ['ERRCAUTER', 'HRSAT'],\n",
       " ['HR', 'HRSAT'],\n",
       " ['ANAPHYLAXIS', 'TPR'],\n",
       " ['ARTCO2', 'EXPCO2'],\n",
       " ['VENTLUNG', 'EXPCO2'],\n",
       " ['INTUBATION', 'MINVOL'],\n",
       " ['VENTLUNG', 'MINVOL'],\n",
       " ['FIO2', 'PVSAT'],\n",
       " ['VENTALV', 'PVSAT'],\n",
       " ['PVSAT', 'SAO2'],\n",
       " ['SHUNT', 'SAO2'],\n",
       " ['PULMEMBOLUS', 'PAP'],\n",
       " ['INTUBATION', 'SHUNT'],\n",
       " ['PULMEMBOLUS', 'SHUNT'],\n",
       " ['INTUBATION', 'PRESS'],\n",
       " ['KINKEDTUBE', 'PRESS'],\n",
       " ['VENTTUBE', 'PRESS'],\n",
       " ['MINVOLSET', 'VENTMACH'],\n",
       " ['DISCONNECT', 'VENTTUBE'],\n",
       " ['VENTMACH', 'VENTTUBE'],\n",
       " ['INTUBATION', 'VENTLUNG'],\n",
       " ['KINKEDTUBE', 'VENTLUNG'],\n",
       " ['VENTTUBE', 'VENTLUNG'],\n",
       " ['INTUBATION', 'VENTALV'],\n",
       " ['VENTLUNG', 'VENTALV'],\n",
       " ['VENTALV', 'ARTCO2'],\n",
       " ['ARTCO2', 'CATECHOL'],\n",
       " ['INSUFFANESTH', 'CATECHOL'],\n",
       " ['SAO2', 'CATECHOL'],\n",
       " ['TPR', 'CATECHOL'],\n",
       " ['CATECHOL', 'HR'],\n",
       " ['HR', 'CO'],\n",
       " ['STROKEVOLUME', 'CO'],\n",
       " ['CO', 'BP'],\n",
       " ['TPR', 'BP']]"
      ]
     },
     "execution_count": 9,
     "metadata": {},
     "output_type": "execute_result"
    }
   ],
   "source": [
    "from pgmpy.readwrite import BIFReader\n",
    "reader = BIFReader('pdg/data/alarm.bif')\n",
    "reader.get_edges()"
   ]
  },
  {
   "cell_type": "code",
   "execution_count": 11,
   "metadata": {},
   "outputs": [],
   "source": [
    "M = reader.get_model()"
   ]
  },
  {
   "cell_type": "code",
   "execution_count": 12,
   "metadata": {},
   "outputs": [
    {
     "data": {
      "text/plain": [
       "AdjacencyView({'HISTORY': {}, 'CVP': {}, 'PCWP': {}, 'HYPOVOLEMIA': {'LVEDVOLUME': {'weight': None}, 'STROKEVOLUME': {'weight': None}}, 'LVEDVOLUME': {'CVP': {'weight': None}, 'PCWP': {'weight': None}}, 'LVFAILURE': {'HISTORY': {'weight': None}, 'LVEDVOLUME': {'weight': None}, 'STROKEVOLUME': {'weight': None}}, 'STROKEVOLUME': {'CO': {'weight': None}}, 'ERRLOWOUTPUT': {'HRBP': {'weight': None}}, 'HRBP': {}, 'HREKG': {}, 'ERRCAUTER': {'HREKG': {'weight': None}, 'HRSAT': {'weight': None}}, 'HRSAT': {}, 'INSUFFANESTH': {'CATECHOL': {'weight': None}}, 'ANAPHYLAXIS': {'TPR': {'weight': None}}, 'TPR': {'CATECHOL': {'weight': None}, 'BP': {'weight': None}}, 'EXPCO2': {}, 'KINKEDTUBE': {'PRESS': {'weight': None}, 'VENTLUNG': {'weight': None}}, 'MINVOL': {}, 'FIO2': {'PVSAT': {'weight': None}}, 'PVSAT': {'SAO2': {'weight': None}}, 'SAO2': {'CATECHOL': {'weight': None}}, 'PAP': {}, 'PULMEMBOLUS': {'PAP': {'weight': None}, 'SHUNT': {'weight': None}}, 'SHUNT': {'SAO2': {'weight': None}}, 'INTUBATION': {'MINVOL': {'weight': None}, 'SHUNT': {'weight': None}, 'PRESS': {'weight': None}, 'VENTLUNG': {'weight': None}, 'VENTALV': {'weight': None}}, 'PRESS': {}, 'DISCONNECT': {'VENTTUBE': {'weight': None}}, 'MINVOLSET': {'VENTMACH': {'weight': None}}, 'VENTMACH': {'VENTTUBE': {'weight': None}}, 'VENTTUBE': {'PRESS': {'weight': None}, 'VENTLUNG': {'weight': None}}, 'VENTLUNG': {'EXPCO2': {'weight': None}, 'MINVOL': {'weight': None}, 'VENTALV': {'weight': None}}, 'VENTALV': {'PVSAT': {'weight': None}, 'ARTCO2': {'weight': None}}, 'ARTCO2': {'EXPCO2': {'weight': None}, 'CATECHOL': {'weight': None}}, 'CATECHOL': {'HR': {'weight': None}}, 'HR': {'HRBP': {'weight': None}, 'HREKG': {'weight': None}, 'HRSAT': {'weight': None}, 'CO': {'weight': None}}, 'CO': {'BP': {'weight': None}}, 'BP': {}})"
      ]
     },
     "execution_count": 12,
     "metadata": {},
     "output_type": "execute_result"
    }
   ],
   "source": [
    "M.adj"
   ]
  },
  {
   "cell_type": "code",
   "execution_count": 13,
   "metadata": {},
   "outputs": [
    {
     "data": {
      "text/plain": [
       "{'name': 'Unknown'}"
      ]
     },
     "execution_count": 13,
     "metadata": {},
     "output_type": "execute_result"
    }
   ],
   "source": [
    "M.graph"
   ]
  },
  {
   "cell_type": "code",
   "execution_count": 14,
   "metadata": {},
   "outputs": [
    {
     "data": {
      "text/plain": [
       "<bound method Graph.update of <pgmpy.models.BayesianNetwork.BayesianNetwork object at 0x7f73ebed9280>>"
      ]
     },
     "execution_count": 14,
     "metadata": {},
     "output_type": "execute_result"
    }
   ],
   "source": [
    "M.update"
   ]
  },
  {
   "cell_type": "code",
   "execution_count": 15,
   "metadata": {},
   "outputs": [
    {
     "ename": "NetworkXError",
     "evalue": "update needs nodes or edges input",
     "output_type": "error",
     "traceback": [
      "\u001b[0;31m---------------------------------------------------------------------------\u001b[0m",
      "\u001b[0;31mNetworkXError\u001b[0m                             Traceback (most recent call last)",
      "\u001b[0;32m<ipython-input-15-18d2a6f3e050>\u001b[0m in \u001b[0;36m<module>\u001b[0;34m\u001b[0m\n\u001b[0;32m----> 1\u001b[0;31m \u001b[0mM\u001b[0m\u001b[0;34m.\u001b[0m\u001b[0mupdate\u001b[0m\u001b[0;34m(\u001b[0m\u001b[0;34m)\u001b[0m\u001b[0;34m\u001b[0m\u001b[0;34m\u001b[0m\u001b[0m\n\u001b[0m",
      "\u001b[0;32m~/.local/lib/python3.8/site-packages/networkx/classes/graph.py\u001b[0m in \u001b[0;36mupdate\u001b[0;34m(self, edges, nodes)\u001b[0m\n\u001b[1;32m   1154\u001b[0m             \u001b[0mself\u001b[0m\u001b[0;34m.\u001b[0m\u001b[0madd_nodes_from\u001b[0m\u001b[0;34m(\u001b[0m\u001b[0mnodes\u001b[0m\u001b[0;34m)\u001b[0m\u001b[0;34m\u001b[0m\u001b[0;34m\u001b[0m\u001b[0m\n\u001b[1;32m   1155\u001b[0m         \u001b[0;32melse\u001b[0m\u001b[0;34m:\u001b[0m\u001b[0;34m\u001b[0m\u001b[0;34m\u001b[0m\u001b[0m\n\u001b[0;32m-> 1156\u001b[0;31m             \u001b[0;32mraise\u001b[0m \u001b[0mNetworkXError\u001b[0m\u001b[0;34m(\u001b[0m\u001b[0;34m\"update needs nodes or edges input\"\u001b[0m\u001b[0;34m)\u001b[0m\u001b[0;34m\u001b[0m\u001b[0;34m\u001b[0m\u001b[0m\n\u001b[0m\u001b[1;32m   1157\u001b[0m \u001b[0;34m\u001b[0m\u001b[0m\n\u001b[1;32m   1158\u001b[0m     \u001b[0;32mdef\u001b[0m \u001b[0mhas_edge\u001b[0m\u001b[0;34m(\u001b[0m\u001b[0mself\u001b[0m\u001b[0;34m,\u001b[0m \u001b[0mu\u001b[0m\u001b[0;34m,\u001b[0m \u001b[0mv\u001b[0m\u001b[0;34m)\u001b[0m\u001b[0;34m:\u001b[0m\u001b[0;34m\u001b[0m\u001b[0;34m\u001b[0m\u001b[0m\n",
      "\u001b[0;31mNetworkXError\u001b[0m: update needs nodes or edges input"
     ]
    }
   ],
   "source": [
    "M.update()"
   ]
  },
  {
   "cell_type": "code",
   "execution_count": 17,
   "metadata": {},
   "outputs": [
    {
     "ename": "KeyError",
     "evalue": "0",
     "output_type": "error",
     "traceback": [
      "\u001b[0;31m---------------------------------------------------------------------------\u001b[0m",
      "\u001b[0;31mKeyError\u001b[0m                                  Traceback (most recent call last)",
      "\u001b[0;32m<ipython-input-17-41e274848aab>\u001b[0m in \u001b[0;36m<module>\u001b[0;34m\u001b[0m\n\u001b[0;32m----> 1\u001b[0;31m \u001b[0mM\u001b[0m\u001b[0;34m.\u001b[0m\u001b[0mnodes\u001b[0m\u001b[0;34m[\u001b[0m\u001b[0;36m0\u001b[0m\u001b[0;34m]\u001b[0m\u001b[0;34m\u001b[0m\u001b[0;34m\u001b[0m\u001b[0m\n\u001b[0m",
      "\u001b[0;32m~/.local/lib/python3.8/site-packages/networkx/classes/reportviews.py\u001b[0m in \u001b[0;36m__getitem__\u001b[0;34m(self, n)\u001b[0m\n\u001b[1;32m    185\u001b[0m \u001b[0;34m\u001b[0m\u001b[0m\n\u001b[1;32m    186\u001b[0m     \u001b[0;32mdef\u001b[0m \u001b[0m__getitem__\u001b[0m\u001b[0;34m(\u001b[0m\u001b[0mself\u001b[0m\u001b[0;34m,\u001b[0m \u001b[0mn\u001b[0m\u001b[0;34m)\u001b[0m\u001b[0;34m:\u001b[0m\u001b[0;34m\u001b[0m\u001b[0;34m\u001b[0m\u001b[0m\n\u001b[0;32m--> 187\u001b[0;31m         \u001b[0;32mreturn\u001b[0m \u001b[0mself\u001b[0m\u001b[0;34m.\u001b[0m\u001b[0m_nodes\u001b[0m\u001b[0;34m[\u001b[0m\u001b[0mn\u001b[0m\u001b[0;34m]\u001b[0m\u001b[0;34m\u001b[0m\u001b[0;34m\u001b[0m\u001b[0m\n\u001b[0m\u001b[1;32m    188\u001b[0m \u001b[0;34m\u001b[0m\u001b[0m\n\u001b[1;32m    189\u001b[0m     \u001b[0;31m# Set methods\u001b[0m\u001b[0;34m\u001b[0m\u001b[0;34m\u001b[0m\u001b[0;34m\u001b[0m\u001b[0m\n",
      "\u001b[0;31mKeyError\u001b[0m: 0"
     ]
    }
   ],
   "source": [
    "M.nodes[0]"
   ]
  },
  {
   "cell_type": "code",
   "execution_count": 18,
   "metadata": {},
   "outputs": [
    {
     "ename": "TypeError",
     "evalue": "'NodeView' object is not an iterator",
     "output_type": "error",
     "traceback": [
      "\u001b[0;31m---------------------------------------------------------------------------\u001b[0m",
      "\u001b[0;31mTypeError\u001b[0m                                 Traceback (most recent call last)",
      "\u001b[0;32m<ipython-input-18-735f3864dd5e>\u001b[0m in \u001b[0;36m<module>\u001b[0;34m\u001b[0m\n\u001b[0;32m----> 1\u001b[0;31m \u001b[0mnext\u001b[0m\u001b[0;34m(\u001b[0m\u001b[0mM\u001b[0m\u001b[0;34m.\u001b[0m\u001b[0mnodes\u001b[0m\u001b[0;34m)\u001b[0m\u001b[0;34m\u001b[0m\u001b[0;34m\u001b[0m\u001b[0m\n\u001b[0m",
      "\u001b[0;31mTypeError\u001b[0m: 'NodeView' object is not an iterator"
     ]
    }
   ],
   "source": [
    "next(M.nodes)"
   ]
  },
  {
   "cell_type": "code",
   "execution_count": 19,
   "metadata": {},
   "outputs": [
    {
     "data": {
      "text/plain": [
       "'HISTORY'"
      ]
     },
     "execution_count": 19,
     "metadata": {},
     "output_type": "execute_result"
    }
   ],
   "source": [
    "next(iter(M.nodes))"
   ]
  },
  {
   "cell_type": "code",
   "execution_count": 20,
   "metadata": {},
   "outputs": [],
   "source": [
    "from pgmpy.factors.discrete import TabularCPD\n",
    "\n",
    "TabularCPD('grade', 3, )"
   ]
  },
  {
   "cell_type": "code",
   "execution_count": 28,
   "metadata": {},
   "outputs": [],
   "source": [
    "from pdg import PDG\n",
    "from pdg.rv import Variable as Var\n",
    "from pdg.dist import CPT\n",
    "\n",
    "M = PDG()\n",
    "A = Var.alph(\"A\",3);\n",
    "B = Var.alph(\"B\",2);\n",
    "M += A, B"
   ]
  },
  {
   "cell_type": "code",
   "execution_count": 74,
   "metadata": {},
   "outputs": [],
   "source": [
    "P = CPT.make_random(A, B); M += P"
   ]
  },
  {
   "cell_type": "code",
   "execution_count": 34,
   "metadata": {},
   "outputs": [
    {
     "data": {
      "text/plain": [
       "-8014057836864215516"
      ]
     },
     "execution_count": 34,
     "metadata": {},
     "output_type": "execute_result"
    }
   ],
   "source": [
    "P.nfrom.name\n",
    "hash(\"a\")"
   ]
  },
  {
   "cell_type": "code",
   "execution_count": 37,
   "metadata": {},
   "outputs": [
    {
     "data": {
      "text/plain": [
       "frozenset({'a0', 'a1', 'a2'})"
      ]
     },
     "execution_count": 37,
     "metadata": {},
     "output_type": "execute_result"
    }
   ],
   "source": [
    "frozenset(P.nfrom)"
   ]
  },
  {
   "cell_type": "code",
   "execution_count": 46,
   "metadata": {},
   "outputs": [
    {
     "data": {
      "text/html": [
       "<div>\n",
       "<style scoped>\n",
       "    .dataframe tbody tr th:only-of-type {\n",
       "        vertical-align: middle;\n",
       "    }\n",
       "\n",
       "    .dataframe tbody tr th {\n",
       "        vertical-align: top;\n",
       "    }\n",
       "\n",
       "    .dataframe thead th {\n",
       "        text-align: right;\n",
       "    }\n",
       "</style>\n",
       "<table border=\"1\" class=\"dataframe\">\n",
       "  <thead>\n",
       "    <tr style=\"text-align: right;\">\n",
       "      <th></th>\n",
       "      <th>b0</th>\n",
       "      <th>b1</th>\n",
       "    </tr>\n",
       "  </thead>\n",
       "  <tbody>\n",
       "    <tr>\n",
       "      <th>a0</th>\n",
       "      <td>0.858183</td>\n",
       "      <td>0.141817</td>\n",
       "    </tr>\n",
       "    <tr>\n",
       "      <th>a1</th>\n",
       "      <td>0.919454</td>\n",
       "      <td>0.080546</td>\n",
       "    </tr>\n",
       "    <tr>\n",
       "      <th>a2</th>\n",
       "      <td>0.556172</td>\n",
       "      <td>0.443828</td>\n",
       "    </tr>\n",
       "  </tbody>\n",
       "</table>\n",
       "</div>"
      ],
      "text/plain": [
       "          b0        b1\n",
       "a0  0.858183  0.141817\n",
       "a1  0.919454  0.080546\n",
       "a2  0.556172  0.443828"
      ]
     },
     "execution_count": 46,
     "metadata": {},
     "output_type": "execute_result"
    }
   ],
   "source": [
    "P"
   ]
  },
  {
   "cell_type": "code",
   "execution_count": 47,
   "metadata": {},
   "outputs": [
    {
     "data": {
      "text/plain": [
       "(3, 2)"
      ]
     },
     "execution_count": 47,
     "metadata": {},
     "output_type": "execute_result"
    }
   ],
   "source": [
    "P.to_numpy().shape"
   ]
  },
  {
   "cell_type": "code",
   "execution_count": 52,
   "metadata": {},
   "outputs": [
    {
     "data": {
      "text/plain": [
       "[Var A {'a0', 'a1', 'a2'}]"
      ]
     },
     "execution_count": 52,
     "metadata": {},
     "output_type": "execute_result"
    }
   ],
   "source": [
    "[a for a in P.nfrom.atoms]"
   ]
  },
  {
   "cell_type": "code",
   "execution_count": 63,
   "metadata": {},
   "outputs": [
    {
     "data": {
      "text/plain": [
       "0.8581831170498783"
      ]
     },
     "execution_count": 63,
     "metadata": {},
     "output_type": "execute_result"
    }
   ],
   "source": [
    "tcpd = TabularCPD(P.nto.name, len(P.nto), P.to_numpy().T, [a.name for a in P.nfrom.atoms], [len(v) for v in P.nfrom.atoms])\n",
    "tcpd.get_value(B=0, A=0)"
   ]
  },
  {
   "cell_type": "code",
   "execution_count": 68,
   "metadata": {},
   "outputs": [
    {
     "ename": "TypeError",
     "evalue": "unhashable type: 'Variable'",
     "output_type": "error",
     "traceback": [
      "\u001b[0;31m---------------------------------------------------------------------------\u001b[0m",
      "\u001b[0;31mTypeError\u001b[0m                                 Traceback (most recent call last)",
      "\u001b[0;32m<ipython-input-68-a626062434e5>\u001b[0m in \u001b[0;36m<module>\u001b[0;34m\u001b[0m\n\u001b[1;32m      1\u001b[0m \u001b[0;32mimport\u001b[0m \u001b[0mnumpy\u001b[0m \u001b[0;32mas\u001b[0m \u001b[0mnp\u001b[0m\u001b[0;34m\u001b[0m\u001b[0;34m\u001b[0m\u001b[0m\n\u001b[0;32m----> 2\u001b[0;31m \u001b[0mV\u001b[0m \u001b[0;34m=\u001b[0m \u001b[0;34m{\u001b[0m\u001b[0mP\u001b[0m\u001b[0;34m.\u001b[0m\u001b[0mnfrom\u001b[0m\u001b[0;34m,\u001b[0m \u001b[0mP\u001b[0m\u001b[0;34m.\u001b[0m\u001b[0mnto\u001b[0m\u001b[0;34m,\u001b[0m \u001b[0;34m*\u001b[0m\u001b[0mP\u001b[0m\u001b[0;34m.\u001b[0m\u001b[0mnfrom\u001b[0m\u001b[0;34m.\u001b[0m\u001b[0matoms\u001b[0m\u001b[0;34m}\u001b[0m\u001b[0;34m\u001b[0m\u001b[0;34m\u001b[0m\u001b[0m\n\u001b[0m\u001b[1;32m      3\u001b[0m \u001b[0mV\u001b[0m\u001b[0;34m[\u001b[0m\u001b[0;36m0\u001b[0m\u001b[0;34m]\u001b[0m \u001b[0;34m==\u001b[0m \u001b[0mV\u001b[0m\u001b[0;34m[\u001b[0m\u001b[0;36m2\u001b[0m\u001b[0;34m]\u001b[0m\u001b[0;34m\u001b[0m\u001b[0;34m\u001b[0m\u001b[0m\n",
      "\u001b[0;31mTypeError\u001b[0m: unhashable type: 'Variable'"
     ]
    }
   ],
   "source": [
    "import numpy as np\n",
    "V = {P.nfrom, P.nto, *P.nfrom.atoms}\n",
    "V[0] == V[2]"
   ]
  },
  {
   "cell_type": "code",
   "execution_count": 69,
   "metadata": {},
   "outputs": [],
   "source": [
    "%load_ext autoreload\n",
    "%autoreload 2"
   ]
  },
  {
   "cell_type": "code",
   "execution_count": 77,
   "metadata": {},
   "outputs": [
    {
     "name": "stdout",
     "output_type": "stream",
     "text": [
      "+-------+---------------------+--------------------+---------------------+\n",
      "| A     | A(a0)               | A(a1)              | A(a2)               |\n",
      "+-------+---------------------+--------------------+---------------------+\n",
      "| B(b0) | 0.09701251401987165 | 0.5779129965171199 | 0.19557075362866636 |\n",
      "+-------+---------------------+--------------------+---------------------+\n",
      "| B(b1) | 0.9029874859801283  | 0.4220870034828801 | 0.8044292463713336  |\n",
      "+-------+---------------------+--------------------+---------------------+\n"
     ]
    }
   ],
   "source": [
    "print(P.as_(TabularCPD))"
   ]
  },
  {
   "cell_type": "code",
   "execution_count": 78,
   "metadata": {},
   "outputs": [
    {
     "data": {
      "text/html": [
       "<div>\n",
       "<style scoped>\n",
       "    .dataframe tbody tr th:only-of-type {\n",
       "        vertical-align: middle;\n",
       "    }\n",
       "\n",
       "    .dataframe tbody tr th {\n",
       "        vertical-align: top;\n",
       "    }\n",
       "\n",
       "    .dataframe thead th {\n",
       "        text-align: right;\n",
       "    }\n",
       "</style>\n",
       "<table border=\"1\" class=\"dataframe\">\n",
       "  <thead>\n",
       "    <tr style=\"text-align: right;\">\n",
       "      <th></th>\n",
       "      <th>b0</th>\n",
       "      <th>b1</th>\n",
       "    </tr>\n",
       "  </thead>\n",
       "  <tbody>\n",
       "    <tr>\n",
       "      <th>a0</th>\n",
       "      <td>0.097013</td>\n",
       "      <td>0.902987</td>\n",
       "    </tr>\n",
       "    <tr>\n",
       "      <th>a1</th>\n",
       "      <td>0.577913</td>\n",
       "      <td>0.422087</td>\n",
       "    </tr>\n",
       "    <tr>\n",
       "      <th>a2</th>\n",
       "      <td>0.195571</td>\n",
       "      <td>0.804429</td>\n",
       "    </tr>\n",
       "  </tbody>\n",
       "</table>\n",
       "</div>"
      ],
      "text/plain": [
       "          b0        b1\n",
       "a0  0.097013  0.902987\n",
       "a1  0.577913  0.422087\n",
       "a2  0.195571  0.804429"
      ]
     },
     "execution_count": 78,
     "metadata": {},
     "output_type": "execute_result"
    }
   ],
   "source": [
    "P"
   ]
  },
  {
   "cell_type": "markdown",
   "metadata": {},
   "source": [
    "**Testing what happens if you add cycles / multiple cpds on same node**..."
   ]
  },
  {
   "cell_type": "code",
   "execution_count": 82,
   "metadata": {},
   "outputs": [],
   "source": [
    "from pgmpy.models import BayesianNetwork\n",
    "\n",
    "bn = BayesianNetwork([('A', 'B'), ('D','B')])\n"
   ]
  },
  {
   "cell_type": "code",
   "execution_count": null,
   "metadata": {},
   "outputs": [],
   "source": []
  }
 ],
 "metadata": {
  "kernelspec": {
   "display_name": "Python 3.8.10 64-bit",
   "language": "python",
   "name": "python3"
  },
  "language_info": {
   "codemirror_mode": {
    "name": "ipython",
    "version": 3
   },
   "file_extension": ".py",
   "mimetype": "text/x-python",
   "name": "python",
   "nbconvert_exporter": "python",
   "pygments_lexer": "ipython3",
   "version": "3.8.10"
  },
  "orig_nbformat": 4,
  "vscode": {
   "interpreter": {
    "hash": "31f2aee4e71d21fbe5cf8b01ff0e069b9275f58929596ceb00d14d90e3e16cd6"
   }
  }
 },
 "nbformat": 4,
 "nbformat_minor": 2
}
