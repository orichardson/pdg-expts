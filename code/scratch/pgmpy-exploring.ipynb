{
 "cells": [
  {
   "cell_type": "code",
   "execution_count": 8,
   "metadata": {},
   "outputs": [
    {
     "data": {
      "text/plain": [
       "'/home/oli/Research/Joe/agent-goals/code'"
      ]
     },
     "execution_count": 8,
     "metadata": {},
     "output_type": "execute_result"
    }
   ],
   "source": [
    "# %cd ../\n",
    "%pwd\n",
    "# should be /code"
   ]
  },
  {
   "cell_type": "code",
   "execution_count": 6,
   "metadata": {},
   "outputs": [
    {
     "data": {
      "text/plain": [
       "'/home/oli/Research/Joe/agent-goals/code/scratch'"
      ]
     },
     "execution_count": 6,
     "metadata": {},
     "output_type": "execute_result"
    }
   ],
   "source": [
    "from pgmpy.models import BayesianNetwork,  FactorGraph\n"
   ]
  },
  {
   "cell_type": "code",
   "execution_count": 9,
   "metadata": {},
   "outputs": [
    {
     "data": {
      "text/plain": [
       "[['LVFAILURE', 'HISTORY'],\n",
       " ['LVEDVOLUME', 'CVP'],\n",
       " ['LVEDVOLUME', 'PCWP'],\n",
       " ['HYPOVOLEMIA', 'LVEDVOLUME'],\n",
       " ['LVFAILURE', 'LVEDVOLUME'],\n",
       " ['HYPOVOLEMIA', 'STROKEVOLUME'],\n",
       " ['LVFAILURE', 'STROKEVOLUME'],\n",
       " ['ERRLOWOUTPUT', 'HRBP'],\n",
       " ['HR', 'HRBP'],\n",
       " ['ERRCAUTER', 'HREKG'],\n",
       " ['HR', 'HREKG'],\n",
       " ['ERRCAUTER', 'HRSAT'],\n",
       " ['HR', 'HRSAT'],\n",
       " ['ANAPHYLAXIS', 'TPR'],\n",
       " ['ARTCO2', 'EXPCO2'],\n",
       " ['VENTLUNG', 'EXPCO2'],\n",
       " ['INTUBATION', 'MINVOL'],\n",
       " ['VENTLUNG', 'MINVOL'],\n",
       " ['FIO2', 'PVSAT'],\n",
       " ['VENTALV', 'PVSAT'],\n",
       " ['PVSAT', 'SAO2'],\n",
       " ['SHUNT', 'SAO2'],\n",
       " ['PULMEMBOLUS', 'PAP'],\n",
       " ['INTUBATION', 'SHUNT'],\n",
       " ['PULMEMBOLUS', 'SHUNT'],\n",
       " ['INTUBATION', 'PRESS'],\n",
       " ['KINKEDTUBE', 'PRESS'],\n",
       " ['VENTTUBE', 'PRESS'],\n",
       " ['MINVOLSET', 'VENTMACH'],\n",
       " ['DISCONNECT', 'VENTTUBE'],\n",
       " ['VENTMACH', 'VENTTUBE'],\n",
       " ['INTUBATION', 'VENTLUNG'],\n",
       " ['KINKEDTUBE', 'VENTLUNG'],\n",
       " ['VENTTUBE', 'VENTLUNG'],\n",
       " ['INTUBATION', 'VENTALV'],\n",
       " ['VENTLUNG', 'VENTALV'],\n",
       " ['VENTALV', 'ARTCO2'],\n",
       " ['ARTCO2', 'CATECHOL'],\n",
       " ['INSUFFANESTH', 'CATECHOL'],\n",
       " ['SAO2', 'CATECHOL'],\n",
       " ['TPR', 'CATECHOL'],\n",
       " ['CATECHOL', 'HR'],\n",
       " ['HR', 'CO'],\n",
       " ['STROKEVOLUME', 'CO'],\n",
       " ['CO', 'BP'],\n",
       " ['TPR', 'BP']]"
      ]
     },
     "execution_count": 9,
     "metadata": {},
     "output_type": "execute_result"
    }
   ],
   "source": [
    "from pgmpy.readwrite import BIFReader\n",
    "reader = BIFReader('pdg/data/alarm.bif')\n",
    "reader.get_edges()"
   ]
  },
  {
   "cell_type": "code",
   "execution_count": 11,
   "metadata": {},
   "outputs": [],
   "source": [
    "M = reader.get_model()"
   ]
  },
  {
   "cell_type": "code",
   "execution_count": 12,
   "metadata": {},
   "outputs": [
    {
     "data": {
      "text/plain": [
       "AdjacencyView({'HISTORY': {}, 'CVP': {}, 'PCWP': {}, 'HYPOVOLEMIA': {'LVEDVOLUME': {'weight': None}, 'STROKEVOLUME': {'weight': None}}, 'LVEDVOLUME': {'CVP': {'weight': None}, 'PCWP': {'weight': None}}, 'LVFAILURE': {'HISTORY': {'weight': None}, 'LVEDVOLUME': {'weight': None}, 'STROKEVOLUME': {'weight': None}}, 'STROKEVOLUME': {'CO': {'weight': None}}, 'ERRLOWOUTPUT': {'HRBP': {'weight': None}}, 'HRBP': {}, 'HREKG': {}, 'ERRCAUTER': {'HREKG': {'weight': None}, 'HRSAT': {'weight': None}}, 'HRSAT': {}, 'INSUFFANESTH': {'CATECHOL': {'weight': None}}, 'ANAPHYLAXIS': {'TPR': {'weight': None}}, 'TPR': {'CATECHOL': {'weight': None}, 'BP': {'weight': None}}, 'EXPCO2': {}, 'KINKEDTUBE': {'PRESS': {'weight': None}, 'VENTLUNG': {'weight': None}}, 'MINVOL': {}, 'FIO2': {'PVSAT': {'weight': None}}, 'PVSAT': {'SAO2': {'weight': None}}, 'SAO2': {'CATECHOL': {'weight': None}}, 'PAP': {}, 'PULMEMBOLUS': {'PAP': {'weight': None}, 'SHUNT': {'weight': None}}, 'SHUNT': {'SAO2': {'weight': None}}, 'INTUBATION': {'MINVOL': {'weight': None}, 'SHUNT': {'weight': None}, 'PRESS': {'weight': None}, 'VENTLUNG': {'weight': None}, 'VENTALV': {'weight': None}}, 'PRESS': {}, 'DISCONNECT': {'VENTTUBE': {'weight': None}}, 'MINVOLSET': {'VENTMACH': {'weight': None}}, 'VENTMACH': {'VENTTUBE': {'weight': None}}, 'VENTTUBE': {'PRESS': {'weight': None}, 'VENTLUNG': {'weight': None}}, 'VENTLUNG': {'EXPCO2': {'weight': None}, 'MINVOL': {'weight': None}, 'VENTALV': {'weight': None}}, 'VENTALV': {'PVSAT': {'weight': None}, 'ARTCO2': {'weight': None}}, 'ARTCO2': {'EXPCO2': {'weight': None}, 'CATECHOL': {'weight': None}}, 'CATECHOL': {'HR': {'weight': None}}, 'HR': {'HRBP': {'weight': None}, 'HREKG': {'weight': None}, 'HRSAT': {'weight': None}, 'CO': {'weight': None}}, 'CO': {'BP': {'weight': None}}, 'BP': {}})"
      ]
     },
     "execution_count": 12,
     "metadata": {},
     "output_type": "execute_result"
    }
   ],
   "source": [
    "M.adj"
   ]
  },
  {
   "cell_type": "code",
   "execution_count": 13,
   "metadata": {},
   "outputs": [
    {
     "data": {
      "text/plain": [
       "{'name': 'Unknown'}"
      ]
     },
     "execution_count": 13,
     "metadata": {},
     "output_type": "execute_result"
    }
   ],
   "source": [
    "M.graph"
   ]
  },
  {
   "cell_type": "code",
   "execution_count": 14,
   "metadata": {},
   "outputs": [
    {
     "data": {
      "text/plain": [
       "<bound method Graph.update of <pgmpy.models.BayesianNetwork.BayesianNetwork object at 0x7f73ebed9280>>"
      ]
     },
     "execution_count": 14,
     "metadata": {},
     "output_type": "execute_result"
    }
   ],
   "source": [
    "M.update"
   ]
  },
  {
   "cell_type": "code",
   "execution_count": 15,
   "metadata": {},
   "outputs": [
    {
     "ename": "NetworkXError",
     "evalue": "update needs nodes or edges input",
     "output_type": "error",
     "traceback": [
      "\u001b[0;31m---------------------------------------------------------------------------\u001b[0m",
      "\u001b[0;31mNetworkXError\u001b[0m                             Traceback (most recent call last)",
      "\u001b[0;32m<ipython-input-15-18d2a6f3e050>\u001b[0m in \u001b[0;36m<module>\u001b[0;34m\u001b[0m\n\u001b[0;32m----> 1\u001b[0;31m \u001b[0mM\u001b[0m\u001b[0;34m.\u001b[0m\u001b[0mupdate\u001b[0m\u001b[0;34m(\u001b[0m\u001b[0;34m)\u001b[0m\u001b[0;34m\u001b[0m\u001b[0;34m\u001b[0m\u001b[0m\n\u001b[0m",
      "\u001b[0;32m~/.local/lib/python3.8/site-packages/networkx/classes/graph.py\u001b[0m in \u001b[0;36mupdate\u001b[0;34m(self, edges, nodes)\u001b[0m\n\u001b[1;32m   1154\u001b[0m             \u001b[0mself\u001b[0m\u001b[0;34m.\u001b[0m\u001b[0madd_nodes_from\u001b[0m\u001b[0;34m(\u001b[0m\u001b[0mnodes\u001b[0m\u001b[0;34m)\u001b[0m\u001b[0;34m\u001b[0m\u001b[0;34m\u001b[0m\u001b[0m\n\u001b[1;32m   1155\u001b[0m         \u001b[0;32melse\u001b[0m\u001b[0;34m:\u001b[0m\u001b[0;34m\u001b[0m\u001b[0;34m\u001b[0m\u001b[0m\n\u001b[0;32m-> 1156\u001b[0;31m             \u001b[0;32mraise\u001b[0m \u001b[0mNetworkXError\u001b[0m\u001b[0;34m(\u001b[0m\u001b[0;34m\"update needs nodes or edges input\"\u001b[0m\u001b[0;34m)\u001b[0m\u001b[0;34m\u001b[0m\u001b[0;34m\u001b[0m\u001b[0m\n\u001b[0m\u001b[1;32m   1157\u001b[0m \u001b[0;34m\u001b[0m\u001b[0m\n\u001b[1;32m   1158\u001b[0m     \u001b[0;32mdef\u001b[0m \u001b[0mhas_edge\u001b[0m\u001b[0;34m(\u001b[0m\u001b[0mself\u001b[0m\u001b[0;34m,\u001b[0m \u001b[0mu\u001b[0m\u001b[0;34m,\u001b[0m \u001b[0mv\u001b[0m\u001b[0;34m)\u001b[0m\u001b[0;34m:\u001b[0m\u001b[0;34m\u001b[0m\u001b[0;34m\u001b[0m\u001b[0m\n",
      "\u001b[0;31mNetworkXError\u001b[0m: update needs nodes or edges input"
     ]
    }
   ],
   "source": [
    "M.update()"
   ]
  },
  {
   "cell_type": "code",
   "execution_count": 17,
   "metadata": {},
   "outputs": [
    {
     "ename": "KeyError",
     "evalue": "0",
     "output_type": "error",
     "traceback": [
      "\u001b[0;31m---------------------------------------------------------------------------\u001b[0m",
      "\u001b[0;31mKeyError\u001b[0m                                  Traceback (most recent call last)",
      "\u001b[0;32m<ipython-input-17-41e274848aab>\u001b[0m in \u001b[0;36m<module>\u001b[0;34m\u001b[0m\n\u001b[0;32m----> 1\u001b[0;31m \u001b[0mM\u001b[0m\u001b[0;34m.\u001b[0m\u001b[0mnodes\u001b[0m\u001b[0;34m[\u001b[0m\u001b[0;36m0\u001b[0m\u001b[0;34m]\u001b[0m\u001b[0;34m\u001b[0m\u001b[0;34m\u001b[0m\u001b[0m\n\u001b[0m",
      "\u001b[0;32m~/.local/lib/python3.8/site-packages/networkx/classes/reportviews.py\u001b[0m in \u001b[0;36m__getitem__\u001b[0;34m(self, n)\u001b[0m\n\u001b[1;32m    185\u001b[0m \u001b[0;34m\u001b[0m\u001b[0m\n\u001b[1;32m    186\u001b[0m     \u001b[0;32mdef\u001b[0m \u001b[0m__getitem__\u001b[0m\u001b[0;34m(\u001b[0m\u001b[0mself\u001b[0m\u001b[0;34m,\u001b[0m \u001b[0mn\u001b[0m\u001b[0;34m)\u001b[0m\u001b[0;34m:\u001b[0m\u001b[0;34m\u001b[0m\u001b[0;34m\u001b[0m\u001b[0m\n\u001b[0;32m--> 187\u001b[0;31m         \u001b[0;32mreturn\u001b[0m \u001b[0mself\u001b[0m\u001b[0;34m.\u001b[0m\u001b[0m_nodes\u001b[0m\u001b[0;34m[\u001b[0m\u001b[0mn\u001b[0m\u001b[0;34m]\u001b[0m\u001b[0;34m\u001b[0m\u001b[0;34m\u001b[0m\u001b[0m\n\u001b[0m\u001b[1;32m    188\u001b[0m \u001b[0;34m\u001b[0m\u001b[0m\n\u001b[1;32m    189\u001b[0m     \u001b[0;31m# Set methods\u001b[0m\u001b[0;34m\u001b[0m\u001b[0;34m\u001b[0m\u001b[0;34m\u001b[0m\u001b[0m\n",
      "\u001b[0;31mKeyError\u001b[0m: 0"
     ]
    }
   ],
   "source": [
    "M.nodes[0]"
   ]
  },
  {
   "cell_type": "code",
   "execution_count": 18,
   "metadata": {},
   "outputs": [
    {
     "ename": "TypeError",
     "evalue": "'NodeView' object is not an iterator",
     "output_type": "error",
     "traceback": [
      "\u001b[0;31m---------------------------------------------------------------------------\u001b[0m",
      "\u001b[0;31mTypeError\u001b[0m                                 Traceback (most recent call last)",
      "\u001b[0;32m<ipython-input-18-735f3864dd5e>\u001b[0m in \u001b[0;36m<module>\u001b[0;34m\u001b[0m\n\u001b[0;32m----> 1\u001b[0;31m \u001b[0mnext\u001b[0m\u001b[0;34m(\u001b[0m\u001b[0mM\u001b[0m\u001b[0;34m.\u001b[0m\u001b[0mnodes\u001b[0m\u001b[0;34m)\u001b[0m\u001b[0;34m\u001b[0m\u001b[0;34m\u001b[0m\u001b[0m\n\u001b[0m",
      "\u001b[0;31mTypeError\u001b[0m: 'NodeView' object is not an iterator"
     ]
    }
   ],
   "source": [
    "next(M.nodes)"
   ]
  },
  {
   "cell_type": "code",
   "execution_count": 19,
   "metadata": {},
   "outputs": [
    {
     "data": {
      "text/plain": [
       "'HISTORY'"
      ]
     },
     "execution_count": 19,
     "metadata": {},
     "output_type": "execute_result"
    }
   ],
   "source": [
    "next(iter(M.nodes))"
   ]
  },
  {
   "cell_type": "code",
   "execution_count": 20,
   "metadata": {},
   "outputs": [],
   "source": [
    "from pgmpy.factors.discrete import TabularCPD\n",
    "\n",
    "TabularCPD('grade', 3, )"
   ]
  },
  {
   "cell_type": "code",
   "execution_count": 28,
   "metadata": {},
   "outputs": [],
   "source": [
    "from pdg import PDG\n",
    "from pdg.rv import Variable as Var\n",
    "from pdg.dist import CPT\n",
    "\n",
    "M = PDG()\n",
    "A = Var.alph(\"A\",3);\n",
    "B = Var.alph(\"B\",2);\n",
    "M += A, B"
   ]
  },
  {
   "cell_type": "code",
   "execution_count": 31,
   "metadata": {},
   "outputs": [],
   "source": [
    "P = CPT.make_random(A, B); M += P"
   ]
  },
  {
   "cell_type": "code",
   "execution_count": 32,
   "metadata": {},
   "outputs": [
    {
     "data": {
      "text/plain": [
       "Var A {'a0', 'a1', 'a2'}"
      ]
     },
     "execution_count": 32,
     "metadata": {},
     "output_type": "execute_result"
    }
   ],
   "source": [
    "P.nfrom \n"
   ]
  },
  {
   "cell_type": "code",
   "execution_count": null,
   "metadata": {},
   "outputs": [],
   "source": []
  }
 ],
 "metadata": {
  "kernelspec": {
   "display_name": "Python 3.8.10 64-bit",
   "language": "python",
   "name": "python3"
  },
  "language_info": {
   "codemirror_mode": {
    "name": "ipython",
    "version": 3
   },
   "file_extension": ".py",
   "mimetype": "text/x-python",
   "name": "python",
   "nbconvert_exporter": "python",
   "pygments_lexer": "ipython3",
   "version": "3.8.10"
  },
  "orig_nbformat": 4,
  "vscode": {
   "interpreter": {
    "hash": "31f2aee4e71d21fbe5cf8b01ff0e069b9275f58929596ceb00d14d90e3e16cd6"
   }
  }
 },
 "nbformat": 4,
 "nbformat_minor": 2
}
