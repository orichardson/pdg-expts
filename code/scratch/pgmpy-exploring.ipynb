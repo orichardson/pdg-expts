{
 "cells": [
  {
   "cell_type": "code",
   "execution_count": 16,
   "metadata": {},
   "outputs": [
    {
     "data": {
      "text/plain": [
       "'/home/oli/Research/Joe/agent-goals/code'"
      ]
     },
     "execution_count": 16,
     "metadata": {},
     "output_type": "execute_result"
    }
   ],
   "source": [
    "%cd ..\n",
    "%pwd\n",
    "# should be /code\n",
    "# \n",
    "%load_ext autoreload\n",
    "%autoreload 2"
   ]
  },
  {
   "cell_type": "code",
   "execution_count": 4,
   "metadata": {},
   "outputs": [],
   "source": [
    "from pgmpy.models import BayesianNetwork,  FactorGraph\n",
    "\n",
    "from pgmpy.readwrite import BIFReader\n",
    "reader = BIFReader('data/alarm.bif')\n",
    "#reader.get_edges()\n",
    "alarm = reader.get_model()"
   ]
  },
  {
   "cell_type": "code",
   "execution_count": 13,
   "metadata": {},
   "outputs": [],
   "source": [
    "from pdg import PDG\n",
    "from pdg.rv import Variable as Var\n",
    "from pdg.dist import CPT, RawJointDist as RJD\n",
    "from pdg.alg import interior_pt as ip"
   ]
  },
  {
   "cell_type": "code",
   "execution_count": 6,
   "metadata": {},
   "outputs": [],
   "source": [
    "alarm_PDG = PDG.from_BN(alarm)"
   ]
  },
  {
   "cell_type": "code",
   "execution_count": 14,
   "metadata": {},
   "outputs": [
    {
     "ename": "AttributeError",
     "evalue": "module 'pdg.alg.interior_pt' has no attribute 'jtree_clusters'",
     "output_type": "error",
     "traceback": [
      "\u001b[0;31m---------------------------------------------------------------------------\u001b[0m",
      "\u001b[0;31mAttributeError\u001b[0m                            Traceback (most recent call last)",
      "\u001b[0;32m<ipython-input-14-6dd6876b3592>\u001b[0m in \u001b[0;36m<module>\u001b[0;34m\u001b[0m\n\u001b[1;32m      3\u001b[0m \u001b[0;31m#\u001b[0m\u001b[0;34m\u001b[0m\u001b[0;34m\u001b[0m\u001b[0;34m\u001b[0m\u001b[0m\n\u001b[1;32m      4\u001b[0m \u001b[0;34m\u001b[0m\u001b[0m\n\u001b[0;32m----> 5\u001b[0;31m \u001b[0mCs\u001b[0m \u001b[0;34m=\u001b[0m \u001b[0mlist\u001b[0m\u001b[0;34m(\u001b[0m\u001b[0mip\u001b[0m\u001b[0;34m.\u001b[0m\u001b[0mjtree_clusters\u001b[0m\u001b[0;34m(\u001b[0m\u001b[0malarm_PDG\u001b[0m\u001b[0;34m)\u001b[0m\u001b[0;34m)\u001b[0m\u001b[0;34m\u001b[0m\u001b[0;34m\u001b[0m\u001b[0m\n\u001b[0m\u001b[1;32m      6\u001b[0m \u001b[0mprint\u001b[0m\u001b[0;34m(\u001b[0m\u001b[0mlist\u001b[0m\u001b[0;34m(\u001b[0m\u001b[0mCs\u001b[0m\u001b[0;34m)\u001b[0m\u001b[0;34m)\u001b[0m\u001b[0;34m\u001b[0m\u001b[0;34m\u001b[0m\u001b[0m\n\u001b[1;32m      7\u001b[0m \u001b[0mprint\u001b[0m\u001b[0;34m(\u001b[0m\u001b[0msorted\u001b[0m\u001b[0;34m(\u001b[0m\u001b[0;34m[\u001b[0m\u001b[0mlen\u001b[0m\u001b[0;34m(\u001b[0m\u001b[0mc\u001b[0m\u001b[0;34m)\u001b[0m \u001b[0;32mfor\u001b[0m \u001b[0mc\u001b[0m \u001b[0;32min\u001b[0m \u001b[0mCs\u001b[0m\u001b[0;34m]\u001b[0m\u001b[0;34m,\u001b[0m \u001b[0mreverse\u001b[0m\u001b[0;34m=\u001b[0m\u001b[0;32mTrue\u001b[0m\u001b[0;34m)\u001b[0m\u001b[0;34m)\u001b[0m\u001b[0;34m\u001b[0m\u001b[0;34m\u001b[0m\u001b[0m\n",
      "\u001b[0;31mAttributeError\u001b[0m: module 'pdg.alg.interior_pt' has no attribute 'jtree_clusters'"
     ]
    }
   ],
   "source": [
    "# VERY DANGEROUS!!\n",
    "#ip.cvx_opt_clusters(alarm_PDG)\n",
    "#\n",
    "\n",
    "Cs = list(ip.jtree_clusters(alarm_PDG))\n",
    "print(list(Cs))\n",
    "print(sorted([len(c) for c in Cs], reverse=True))\n",
    "\n",
    "\n",
    "import numpy as np\n",
    "print([np.prod([len(alarm_PDG.vars[X]) for X in C]) for C in Cs])\n",
    "\n",
    "# prob = ip.cvx_opt_clusters(alarm_PDG, Cs, also_idef=False, dry_run=True, verbose=True)\n",
    "\n",
    "# print(ns, sum(ns))"
   ]
  },
  {
   "cell_type": "code",
   "execution_count": 9,
   "metadata": {},
   "outputs": [
    {
     "name": "stdout",
     "output_type": "stream",
     "text": [
      "[1] adding constr  p1 :  1 -> ANAPHYLAXIS\n",
      "\tabout to marginalize\n",
      "\n",
      "\t..\n",
      "\tabout to construct expcone\n",
      "\tmus[i].shape  (1492992,)\n",
      "\texpcone constructed\n",
      "[2] adding constr  p2 :  VENTALV -> ARTCO2\n",
      "\tabout to marginalize\n",
      "\n",
      "\t............\n",
      "\tabout to construct expcone\n",
      "\tmus[i].shape  (864,)\n",
      "\n",
      "\t....\n",
      "\texpcone constructed\n",
      "[3] adding constr  p3 :  TPR×CO -> BP\n",
      "\tabout to marginalize\n",
      "\n",
      "\t...........................\n",
      "\tabout to construct expcone\n",
      "\tmus[i].shape  (1327104,)\n",
      "\n",
      "\t.........\n",
      "\texpcone constructed\n",
      "[4] adding constr  p4 :  TPR×SAO2×INSUFFANESTH×ARTCO2 -> CATECHOL\n",
      "\tabout to marginalize\n",
      "\n",
      "\t............................................................................................................\n",
      "\tabout to construct expcone\n",
      "\tmus[i].shape  (1990656,)\n",
      "\n",
      "\t......................................................\n",
      "\texpcone constructed\n",
      "[5] adding constr  p5 :  STROKEVOLUME×HR -> CO\n",
      "\tabout to marginalize\n",
      "\n",
      "\t...........................\n",
      "\tabout to construct expcone\n",
      "\tmus[i].shape  (5832,)\n",
      "\n",
      "\t.........\n",
      "\texpcone constructed\n",
      "[6] adding constr  p6 :  LVEDVOLUME -> CVP\n",
      "\tabout to marginalize\n",
      "\n",
      "\t.........\n",
      "\tabout to construct expcone\n",
      "\tmus[i].shape  (108,)\n",
      "\n",
      "\t...\n",
      "\texpcone constructed\n",
      "[7] adding constr  p7 :  1 -> DISCONNECT\n",
      "\tabout to marginalize\n",
      "\n",
      "\t..\n",
      "\tabout to construct expcone\n",
      "\tmus[i].shape  (165888,)\n",
      "\texpcone constructed\n",
      "[8] adding constr  p8 :  1 -> ERRCAUTER\n",
      "\tabout to marginalize\n",
      "\n",
      "\t..\n",
      "\tabout to construct expcone\n",
      "\tmus[i].shape  (7776,)\n",
      "\texpcone constructed\n",
      "[9] adding constr  p9 :  1 -> ERRLOWOUTPUT\n",
      "\tabout to marginalize\n",
      "\n",
      "\t..\n",
      "\tabout to construct expcone\n",
      "\tmus[i].shape  (1492992,)\n",
      "\texpcone constructed\n",
      "[10] adding constr  p10 :  VENTLUNG×ARTCO2 -> EXPCO2\n",
      "\tabout to marginalize\n",
      "\n",
      "\t................................................\n",
      "\tabout to construct expcone\n",
      "\tmus[i].shape  (165888,)\n",
      "\n",
      "\t............\n",
      "\texpcone constructed\n",
      "[11] adding constr  p11 :  1 -> FIO2\n",
      "\tabout to marginalize\n",
      "\n",
      "\t..\n",
      "\tabout to construct expcone\n",
      "\tmus[i].shape  (864,)\n",
      "\texpcone constructed\n",
      "[12] adding constr  p12 :  LVFAILURE -> HISTORY\n",
      "\tabout to marginalize\n",
      "\n",
      "\t....\n",
      "\tabout to construct expcone\n",
      "\tmus[i].shape  (746496,)\n",
      "\n",
      "\t..\n",
      "\texpcone constructed\n",
      "[13] adding constr  p13 :  CATECHOL -> HR\n",
      "\tabout to marginalize\n",
      "\n",
      "\t......\n",
      "\tabout to construct expcone\n",
      "\tmus[i].shape  (5832,)\n",
      "\n",
      "\t..\n",
      "\texpcone constructed\n",
      "[14] adding constr  p14 :  HR×ERRLOWOUTPUT -> HRBP\n",
      "\tabout to marginalize\n",
      "\n",
      "\t..................\n",
      "\tabout to construct expcone\n",
      "\tmus[i].shape  (5832,)\n",
      "\n",
      "\t......\n",
      "\texpcone constructed\n",
      "[15] adding constr  p15 :  HR×ERRCAUTER -> HREKG\n",
      "\tabout to marginalize\n",
      "\n",
      "\t..................\n",
      "\tabout to construct expcone\n",
      "\tmus[i].shape  (5832,)\n",
      "\n",
      "\t......\n",
      "\texpcone constructed\n",
      "[16] adding constr  p16 :  HR×ERRCAUTER -> HRSAT\n",
      "\tabout to marginalize\n",
      "\n",
      "\t..................\n",
      "\tabout to construct expcone\n",
      "\tmus[i].shape  (5832,)\n",
      "\n",
      "\t......\n",
      "\texpcone constructed\n",
      "[17] adding constr  p17 :  1 -> HYPOVOLEMIA\n",
      "\tabout to marginalize\n",
      "\n",
      "\t..\n",
      "\tabout to construct expcone\n",
      "\tmus[i].shape  (108,)\n",
      "\texpcone constructed\n",
      "[18] adding constr  p18 :  1 -> INSUFFANESTH\n",
      "\tabout to marginalize\n"
     ]
    },
    {
     "ename": "",
     "evalue": "",
     "output_type": "error",
     "traceback": [
      "\u001b[1;31mCanceled future for execute_request message before replies were done"
     ]
    },
    {
     "ename": "",
     "evalue": "",
     "output_type": "error",
     "traceback": [
      "\u001b[1;31mThe Kernel crashed while executing code in the the current cell or a previous cell. Please review the code in the cell(s) to identify a possible cause of the failure. Click <a href='https://aka.ms/vscodeJupyterKernelCrash'>here</a> for more info. View Jupyter <a href='command:jupyter.viewOutput'>log</a> for further details."
     ]
    }
   ],
   "source": [
    "prob = ip.cvx_opt_clusters(alarm_PDG, Cs, also_idef=False, dry_run=True, verbose=True)"
   ]
  },
  {
   "cell_type": "code",
   "execution_count": 5,
   "metadata": {},
   "outputs": [],
   "source": [
    "from pgmpy.inference.ExactInference import BeliefPropagation \n",
    "\n",
    "bp = BeliefPropagation(alarm)\n",
    "bp.calibrate()\n",
    "# takes 48 seconds..."
   ]
  },
  {
   "cell_type": "code",
   "execution_count": 11,
   "metadata": {},
   "outputs": [
    {
     "data": {
      "text/plain": [
       "[96,\n",
       " 165888,\n",
       " 18,\n",
       " 63700992,\n",
       " 27,\n",
       " 81,\n",
       " 108,\n",
       " 3981312,\n",
       " 18432,\n",
       " 27648,\n",
       " 165888,\n",
       " 165888,\n",
       " 663552,\n",
       " 3981312,\n",
       " 2985984,\n",
       " 1990656,\n",
       " 5308416]"
      ]
     },
     "execution_count": 11,
     "metadata": {},
     "output_type": "execute_result"
    }
   ],
   "source": [
    "[f.values.size for f in bp.get_clique_beliefs().values()]"
   ]
  }
 ],
 "metadata": {
  "kernelspec": {
   "display_name": "Python 3.8.10 64-bit",
   "language": "python",
   "name": "python3"
  },
  "language_info": {
   "codemirror_mode": {
    "name": "ipython",
    "version": 3
   },
   "file_extension": ".py",
   "mimetype": "text/x-python",
   "name": "python",
   "nbconvert_exporter": "python",
   "pygments_lexer": "ipython3",
   "version": "3.8.10"
  },
  "orig_nbformat": 4,
  "vscode": {
   "interpreter": {
    "hash": "31f2aee4e71d21fbe5cf8b01ff0e069b9275f58929596ceb00d14d90e3e16cd6"
   }
  }
 },
 "nbformat": 4,
 "nbformat_minor": 2
}
