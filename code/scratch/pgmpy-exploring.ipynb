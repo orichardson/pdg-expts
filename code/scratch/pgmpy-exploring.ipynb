{
 "cells": [
  {
   "cell_type": "code",
   "execution_count": 1,
   "metadata": {},
   "outputs": [
    {
     "name": "stdout",
     "output_type": "stream",
     "text": [
      "c:\\Users\\Oliver\\Research\\agents-goals-pressure\\code\n"
     ]
    },
    {
     "data": {
      "text/plain": [
       "'c:\\\\Users\\\\Oliver\\\\Research\\\\agents-goals-pressure\\\\code'"
      ]
     },
     "execution_count": 1,
     "metadata": {},
     "output_type": "execute_result"
    }
   ],
   "source": [
    "%cd ..\n",
    "%pwd\n",
    "# should be /code"
   ]
  },
  {
   "cell_type": "code",
   "execution_count": 2,
   "metadata": {},
   "outputs": [],
   "source": [
    "%load_ext autoreload\n",
    "%autoreload 2"
   ]
  },
  {
   "cell_type": "code",
   "execution_count": 12,
   "metadata": {},
   "outputs": [],
   "source": [
    "from pgmpy.models import BayesianNetwork,  FactorGraph\n",
    "\n",
    "from pgmpy.readwrite import BIFReader\n",
    "reader = BIFReader('data/alarm.bif')\n",
    "#reader.get_edges()"
   ]
  },
  {
   "cell_type": "code",
   "execution_count": 13,
   "metadata": {},
   "outputs": [],
   "source": [
    "alarm = reader.get_model()"
   ]
  },
  {
   "cell_type": "code",
   "execution_count": 13,
   "metadata": {},
   "outputs": [
    {
     "data": {
      "text/plain": [
       "{'name': 'Unknown'}"
      ]
     },
     "execution_count": 13,
     "metadata": {},
     "output_type": "execute_result"
    }
   ],
   "source": [
    "M.graph"
   ]
  },
  {
   "cell_type": "code",
   "execution_count": 6,
   "metadata": {},
   "outputs": [],
   "source": [
    "from pgmpy.factors.discrete import TabularCPD"
   ]
  },
  {
   "cell_type": "code",
   "execution_count": 7,
   "metadata": {},
   "outputs": [],
   "source": [
    "from pdg import PDG\n",
    "from pdg.rv import Variable as Var\n",
    "from pdg.dist import CPT\n",
    "\n",
    "M = PDG()\n",
    "A = Var.alph(\"A\",3);\n",
    "B = Var.alph(\"B\",2);\n",
    "D = Var.alph(\"D\",5)\n",
    "M += A, B, D"
   ]
  },
  {
   "cell_type": "code",
   "execution_count": 8,
   "metadata": {},
   "outputs": [
    {
     "name": "stderr",
     "output_type": "stream",
     "text": [
      "c:\\Users\\Oliver\\Research\\agents-goals-pressure\\code\\pdg\\dist.py:199: FutureWarning: Support for multi-dimensional indexing (e.g. `obj[:, None]`) is deprecated and will be removed in a future version.  Convert to a numpy array before indexing instead.\n",
      "  self /= np.sum(self, axis=1)[:, None]\n"
     ]
    },
    {
     "data": {
      "text/html": [
       "<div>\n",
       "<style scoped>\n",
       "    .dataframe tbody tr th:only-of-type {\n",
       "        vertical-align: middle;\n",
       "    }\n",
       "\n",
       "    .dataframe tbody tr th {\n",
       "        vertical-align: top;\n",
       "    }\n",
       "\n",
       "    .dataframe thead th {\n",
       "        text-align: right;\n",
       "    }\n",
       "</style>\n",
       "<table border=\"1\" class=\"dataframe\">\n",
       "  <thead>\n",
       "    <tr style=\"text-align: right;\">\n",
       "      <th></th>\n",
       "      <th>b0</th>\n",
       "      <th>b1</th>\n",
       "    </tr>\n",
       "  </thead>\n",
       "  <tbody>\n",
       "    <tr>\n",
       "      <th>(a0, d0)</th>\n",
       "      <td>0.352160</td>\n",
       "      <td>0.647840</td>\n",
       "    </tr>\n",
       "    <tr>\n",
       "      <th>(a0, d1)</th>\n",
       "      <td>0.219854</td>\n",
       "      <td>0.780146</td>\n",
       "    </tr>\n",
       "    <tr>\n",
       "      <th>(a0, d2)</th>\n",
       "      <td>0.450810</td>\n",
       "      <td>0.549190</td>\n",
       "    </tr>\n",
       "    <tr>\n",
       "      <th>(a0, d3)</th>\n",
       "      <td>0.518021</td>\n",
       "      <td>0.481979</td>\n",
       "    </tr>\n",
       "    <tr>\n",
       "      <th>(a0, d4)</th>\n",
       "      <td>0.465549</td>\n",
       "      <td>0.534451</td>\n",
       "    </tr>\n",
       "    <tr>\n",
       "      <th>(a1, d0)</th>\n",
       "      <td>0.454942</td>\n",
       "      <td>0.545058</td>\n",
       "    </tr>\n",
       "    <tr>\n",
       "      <th>(a1, d1)</th>\n",
       "      <td>0.641555</td>\n",
       "      <td>0.358445</td>\n",
       "    </tr>\n",
       "    <tr>\n",
       "      <th>(a1, d2)</th>\n",
       "      <td>0.021953</td>\n",
       "      <td>0.978047</td>\n",
       "    </tr>\n",
       "    <tr>\n",
       "      <th>(a1, d3)</th>\n",
       "      <td>0.283502</td>\n",
       "      <td>0.716498</td>\n",
       "    </tr>\n",
       "    <tr>\n",
       "      <th>(a1, d4)</th>\n",
       "      <td>0.346866</td>\n",
       "      <td>0.653134</td>\n",
       "    </tr>\n",
       "    <tr>\n",
       "      <th>(a2, d0)</th>\n",
       "      <td>0.298927</td>\n",
       "      <td>0.701073</td>\n",
       "    </tr>\n",
       "    <tr>\n",
       "      <th>(a2, d1)</th>\n",
       "      <td>0.968700</td>\n",
       "      <td>0.031300</td>\n",
       "    </tr>\n",
       "    <tr>\n",
       "      <th>(a2, d2)</th>\n",
       "      <td>0.604649</td>\n",
       "      <td>0.395351</td>\n",
       "    </tr>\n",
       "    <tr>\n",
       "      <th>(a2, d3)</th>\n",
       "      <td>0.312142</td>\n",
       "      <td>0.687858</td>\n",
       "    </tr>\n",
       "    <tr>\n",
       "      <th>(a2, d4)</th>\n",
       "      <td>0.134543</td>\n",
       "      <td>0.865457</td>\n",
       "    </tr>\n",
       "  </tbody>\n",
       "</table>\n",
       "</div>"
      ],
      "text/plain": [
       "                b0        b1\n",
       "(a0, d0)  0.352160  0.647840\n",
       "(a0, d1)  0.219854  0.780146\n",
       "(a0, d2)  0.450810  0.549190\n",
       "(a0, d3)  0.518021  0.481979\n",
       "(a0, d4)  0.465549  0.534451\n",
       "(a1, d0)  0.454942  0.545058\n",
       "(a1, d1)  0.641555  0.358445\n",
       "(a1, d2)  0.021953  0.978047\n",
       "(a1, d3)  0.283502  0.716498\n",
       "(a1, d4)  0.346866  0.653134\n",
       "(a2, d0)  0.298927  0.701073\n",
       "(a2, d1)  0.968700  0.031300\n",
       "(a2, d2)  0.604649  0.395351\n",
       "(a2, d3)  0.312142  0.687858\n",
       "(a2, d4)  0.134543  0.865457"
      ]
     },
     "execution_count": 8,
     "metadata": {},
     "output_type": "execute_result"
    }
   ],
   "source": [
    "P = CPT.make_random(A & D, B); M += P\n",
    "P"
   ]
  },
  {
   "cell_type": "code",
   "execution_count": 9,
   "metadata": {},
   "outputs": [
    {
     "data": {
      "text/plain": [
       "0.3521603672420116"
      ]
     },
     "execution_count": 9,
     "metadata": {},
     "output_type": "execute_result"
    }
   ],
   "source": [
    "tcpd = TabularCPD(P.nto.name, len(P.nto), P.to_numpy().T, [a.name for a in P.nfrom.atoms], [len(v) for v in P.nfrom.atoms])\n",
    "tcpd.get_value(B=0, D=0, A=0)"
   ]
  },
  {
   "cell_type": "code",
   "execution_count": 77,
   "metadata": {},
   "outputs": [
    {
     "name": "stdout",
     "output_type": "stream",
     "text": [
      "+-------+---------------------+--------------------+---------------------+\n",
      "| A     | A(a0)               | A(a1)              | A(a2)               |\n",
      "+-------+---------------------+--------------------+---------------------+\n",
      "| B(b0) | 0.09701251401987165 | 0.5779129965171199 | 0.19557075362866636 |\n",
      "+-------+---------------------+--------------------+---------------------+\n",
      "| B(b1) | 0.9029874859801283  | 0.4220870034828801 | 0.8044292463713336  |\n",
      "+-------+---------------------+--------------------+---------------------+\n"
     ]
    }
   ],
   "source": [
    "print(P.as_(TabularCPD))"
   ]
  },
  {
   "cell_type": "code",
   "execution_count": 78,
   "metadata": {},
   "outputs": [
    {
     "data": {
      "text/html": [
       "<div>\n",
       "<style scoped>\n",
       "    .dataframe tbody tr th:only-of-type {\n",
       "        vertical-align: middle;\n",
       "    }\n",
       "\n",
       "    .dataframe tbody tr th {\n",
       "        vertical-align: top;\n",
       "    }\n",
       "\n",
       "    .dataframe thead th {\n",
       "        text-align: right;\n",
       "    }\n",
       "</style>\n",
       "<table border=\"1\" class=\"dataframe\">\n",
       "  <thead>\n",
       "    <tr style=\"text-align: right;\">\n",
       "      <th></th>\n",
       "      <th>b0</th>\n",
       "      <th>b1</th>\n",
       "    </tr>\n",
       "  </thead>\n",
       "  <tbody>\n",
       "    <tr>\n",
       "      <th>a0</th>\n",
       "      <td>0.097013</td>\n",
       "      <td>0.902987</td>\n",
       "    </tr>\n",
       "    <tr>\n",
       "      <th>a1</th>\n",
       "      <td>0.577913</td>\n",
       "      <td>0.422087</td>\n",
       "    </tr>\n",
       "    <tr>\n",
       "      <th>a2</th>\n",
       "      <td>0.195571</td>\n",
       "      <td>0.804429</td>\n",
       "    </tr>\n",
       "  </tbody>\n",
       "</table>\n",
       "</div>"
      ],
      "text/plain": [
       "          b0        b1\n",
       "a0  0.097013  0.902987\n",
       "a1  0.577913  0.422087\n",
       "a2  0.195571  0.804429"
      ]
     },
     "execution_count": 78,
     "metadata": {},
     "output_type": "execute_result"
    }
   ],
   "source": [
    "P"
   ]
  },
  {
   "cell_type": "markdown",
   "metadata": {},
   "source": [
    "**Testing what happens if you add cycles / multiple cpds on same node**..."
   ]
  },
  {
   "cell_type": "code",
   "execution_count": 82,
   "metadata": {},
   "outputs": [],
   "source": [
    "from pgmpy.models import BayesianNetwork\n",
    "\n",
    "bn = BayesianNetwork([('A', 'B'), ('D','B')])\n"
   ]
  },
  {
   "cell_type": "markdown",
   "metadata": {},
   "source": [
    "... Doesn't work."
   ]
  },
  {
   "cell_type": "code",
   "execution_count": 74,
   "metadata": {},
   "outputs": [
    {
     "data": {
      "text/plain": [
       "((2, 3, 5), (3, 5, 2), (15, 2))"
      ]
     },
     "execution_count": 74,
     "metadata": {},
     "output_type": "execute_result"
    }
   ],
   "source": [
    "tcpd.values.shape, np.moveaxis(tcpd.values,0,-1).shape, P.shape"
   ]
  },
  {
   "cell_type": "code",
   "execution_count": 62,
   "metadata": {},
   "outputs": [
    {
     "name": "stdout",
     "output_type": "stream",
     "text": [
      "Index([('a0', 'd0'), ('a0', 'd1'), ('a0', 'd2'), ('a0', 'd3'), ('a0', 'd4'),\n",
      "       ('a1', 'd0'), ('a1', 'd1'), ('a1', 'd2'), ('a1', 'd3'), ('a1', 'd4'),\n",
      "       ('a2', 'd0'), ('a2', 'd1'), ('a2', 'd2'), ('a2', 'd3'), ('a2', 'd4')],\n",
      "      dtype='object') ('a0', 'd0')\n"
     ]
    },
    {
     "data": {
      "text/html": [
       "<div>\n",
       "<style scoped>\n",
       "    .dataframe tbody tr th:only-of-type {\n",
       "        vertical-align: middle;\n",
       "    }\n",
       "\n",
       "    .dataframe tbody tr th {\n",
       "        vertical-align: top;\n",
       "    }\n",
       "\n",
       "    .dataframe thead th {\n",
       "        text-align: right;\n",
       "    }\n",
       "</style>\n",
       "<table border=\"1\" class=\"dataframe\">\n",
       "  <thead>\n",
       "    <tr style=\"text-align: right;\">\n",
       "      <th></th>\n",
       "      <th>b0</th>\n",
       "      <th>b1</th>\n",
       "    </tr>\n",
       "  </thead>\n",
       "  <tbody>\n",
       "    <tr>\n",
       "      <th>(a0, d0)</th>\n",
       "      <td>0.211105</td>\n",
       "      <td>0.788895</td>\n",
       "    </tr>\n",
       "  </tbody>\n",
       "</table>\n",
       "</div>"
      ],
      "text/plain": [
       "                b0        b1\n",
       "(a0, d0)  0.211105  0.788895"
      ]
     },
     "execution_count": 62,
     "metadata": {},
     "output_type": "execute_result"
    }
   ],
   "source": [
    "print(P.index, P.index[0])\n",
    "P.loc[[('a0', 'd0')]] ## Note: need extra pair of brackets because of nonsense..."
   ]
  },
  {
   "cell_type": "code",
   "execution_count": 10,
   "metadata": {},
   "outputs": [
    {
     "name": "stdout",
     "output_type": "stream",
     "text": [
      "+-------+--------------------+-----+--------------------+\n",
      "| A     | A(a0)              | ... | A(a2)              |\n",
      "+-------+--------------------+-----+--------------------+\n",
      "| D     | D(d0)              | ... | D(d4)              |\n",
      "+-------+--------------------+-----+--------------------+\n",
      "| B(b0) | 0.3521603672420116 | ... | 0.1345429665176714 |\n",
      "+-------+--------------------+-----+--------------------+\n",
      "| B(b1) | 0.6478396327579884 | ... | 0.8654570334823286 |\n",
      "+-------+--------------------+-----+--------------------+\n"
     ]
    }
   ],
   "source": [
    "print(P.to_pgmpy())"
   ]
  },
  {
   "cell_type": "code",
   "execution_count": 16,
   "metadata": {},
   "outputs": [],
   "source": [
    "from pgmpy.models import BayesianNetwork\n",
    "from pgmpy.factors.discrete.CPD import TabularCPD\n",
    "student = BayesianNetwork([('diff', 'grades'), ('intel', 'grades')])\n",
    "grades_cpd = TabularCPD('grades', 5, [[0.1,0.1,0.1,0.1,0.1,0.1],\n",
    "                                      [0.1,0.1,0.1,0.1,0.1,0.1],\n",
    "                                      [0.7,0.7,0.7,0.7,0.7,0.7],\n",
    "                                      [.09,.09,.09,.09,.09,0.1],\n",
    "                                      [.01,.01,.01,.01,.01,0.0]],\n",
    "                        evidence=['diff', 'intel'], evidence_card=[2, 3])\n",
    "student.add_cpds(grades_cpd)"
   ]
  },
  {
   "cell_type": "code",
   "execution_count": 19,
   "metadata": {},
   "outputs": [
    {
     "data": {
      "text/plain": [
       "array([5, 2, 3])"
      ]
     },
     "execution_count": 19,
     "metadata": {},
     "output_type": "execute_result"
    }
   ],
   "source": [
    "grades_cpd.cardinality"
   ]
  },
  {
   "cell_type": "code",
   "execution_count": 21,
   "metadata": {},
   "outputs": [
    {
     "name": "stderr",
     "output_type": "stream",
     "text": [
      "c:\\Users\\Oliver\\Research\\agents-goals-pressure\\code\\pdg\\dist.py:194: UserWarning: 0.02-Unnormalized CPT\n",
      "  warnings.warn(\"%.2f-Unnormalized CPT\"%amt)\n"
     ]
    },
    {
     "data": {
      "text/html": [
       "<div>\n",
       "<style scoped>\n",
       "    .dataframe tbody tr th:only-of-type {\n",
       "        vertical-align: middle;\n",
       "    }\n",
       "\n",
       "    .dataframe tbody tr th {\n",
       "        vertical-align: top;\n",
       "    }\n",
       "\n",
       "    .dataframe thead th {\n",
       "        text-align: right;\n",
       "    }\n",
       "</style>\n",
       "<table border=\"1\" class=\"dataframe\">\n",
       "  <thead>\n",
       "    <tr style=\"text-align: right;\">\n",
       "      <th></th>\n",
       "      <th>0</th>\n",
       "      <th>1</th>\n",
       "      <th>2</th>\n",
       "      <th>3</th>\n",
       "      <th>4</th>\n",
       "    </tr>\n",
       "  </thead>\n",
       "  <tbody>\n",
       "    <tr>\n",
       "      <th>(0, 0)</th>\n",
       "      <td>0.1</td>\n",
       "      <td>0.1</td>\n",
       "      <td>0.7</td>\n",
       "      <td>0.05</td>\n",
       "      <td>0.00</td>\n",
       "    </tr>\n",
       "    <tr>\n",
       "      <th>(0, 1)</th>\n",
       "      <td>0.1</td>\n",
       "      <td>0.1</td>\n",
       "      <td>0.7</td>\n",
       "      <td>0.05</td>\n",
       "      <td>0.00</td>\n",
       "    </tr>\n",
       "    <tr>\n",
       "      <th>(0, 2)</th>\n",
       "      <td>0.1</td>\n",
       "      <td>0.1</td>\n",
       "      <td>0.7</td>\n",
       "      <td>0.05</td>\n",
       "      <td>0.00</td>\n",
       "    </tr>\n",
       "    <tr>\n",
       "      <th>(1, 0)</th>\n",
       "      <td>0.1</td>\n",
       "      <td>0.1</td>\n",
       "      <td>0.7</td>\n",
       "      <td>0.05</td>\n",
       "      <td>0.00</td>\n",
       "    </tr>\n",
       "    <tr>\n",
       "      <th>(1, 1)</th>\n",
       "      <td>0.1</td>\n",
       "      <td>0.1</td>\n",
       "      <td>0.7</td>\n",
       "      <td>0.05</td>\n",
       "      <td>0.00</td>\n",
       "    </tr>\n",
       "    <tr>\n",
       "      <th>(1, 2)</th>\n",
       "      <td>0.1</td>\n",
       "      <td>0.1</td>\n",
       "      <td>0.7</td>\n",
       "      <td>0.00</td>\n",
       "      <td>0.05</td>\n",
       "    </tr>\n",
       "  </tbody>\n",
       "</table>\n",
       "</div>"
      ],
      "text/plain": [
       "          0    1    2     3     4\n",
       "(0, 0)  0.1  0.1  0.7  0.05  0.00\n",
       "(0, 1)  0.1  0.1  0.7  0.05  0.00\n",
       "(0, 2)  0.1  0.1  0.7  0.05  0.00\n",
       "(1, 0)  0.1  0.1  0.7  0.05  0.00\n",
       "(1, 1)  0.1  0.1  0.7  0.05  0.00\n",
       "(1, 2)  0.1  0.1  0.7  0.00  0.05"
      ]
     },
     "execution_count": 21,
     "metadata": {},
     "output_type": "execute_result"
    }
   ],
   "source": [
    "CPT.from_pgmpy(grades_cpd)"
   ]
  },
  {
   "cell_type": "code",
   "execution_count": null,
   "metadata": {},
   "outputs": [],
   "source": []
  }
 ],
 "metadata": {
  "kernelspec": {
   "display_name": "Python 3.8.8 ('base')",
   "language": "python",
   "name": "python3"
  },
  "language_info": {
   "codemirror_mode": {
    "name": "ipython",
    "version": 3
   },
   "file_extension": ".py",
   "mimetype": "text/x-python",
   "name": "python",
   "nbconvert_exporter": "python",
   "pygments_lexer": "ipython3",
   "version": "3.8.8"
  },
  "orig_nbformat": 4,
  "vscode": {
   "interpreter": {
    "hash": "9d7293b42407c4587686381bcfb1347492276afab4e632b5d7f60a904738fa3b"
   }
  }
 },
 "nbformat": 4,
 "nbformat_minor": 2
}
