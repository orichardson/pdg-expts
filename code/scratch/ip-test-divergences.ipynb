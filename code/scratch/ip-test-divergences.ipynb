{
 "cells": [
  {
   "cell_type": "code",
   "execution_count": 1,
   "metadata": {},
   "outputs": [
    {
     "name": "stdout",
     "output_type": "stream",
     "text": [
      "/home/oli/Research/Joe/agent-goals/code\n"
     ]
    }
   ],
   "source": [
    "%cd ..\n",
    "%pwd\n",
    "# %cd code\n",
    "# should be /code\n",
    "# \n",
    "%load_ext autoreload\n",
    "%autoreload 2"
   ]
  },
  {
   "cell_type": "code",
   "execution_count": 2,
   "metadata": {},
   "outputs": [],
   "source": [
    "from pdg import PDG\n",
    "from pdg.rv import Variable as Var, Unit\n",
    "from pdg.dist import CPT, RawJointDist as RJD\n",
    "from pdg.alg import interior_pt as ip\n",
    "\n",
    "import numpy as np"
   ]
  },
  {
   "cell_type": "code",
   "execution_count": 3,
   "metadata": {},
   "outputs": [],
   "source": [
    "M = PDG()\n",
    "X = Var.alph(\"X\", 7)\n",
    "M += X\n",
    "p = CPT.make_random(Unit, X)\n",
    "q = CPT.make_random(Unit, X)\n",
    "M += 'p', p, 'q', q"
   ]
  },
  {
   "cell_type": "code",
   "execution_count": 4,
   "metadata": {},
   "outputs": [
    {
     "name": "stdout",
     "output_type": "stream",
     "text": [
      "p: \t [0.169 0.147 0.184 0.156 0.062 0.108 0.174]\n",
      "q: \t [0.095 0.228 0.254 0.146 0.075 0.163 0.039]\n",
      "pq: \t [0.109 0.227 0.314 0.154 0.031 0.119 0.046]\n"
     ]
    }
   ],
   "source": [
    "np.set_printoptions(precision=3)\n",
    "# ip.cvx_opt_joint(M)\n",
    "pdat = p.to_numpy().reshape(-1)\n",
    "qdat = q.to_numpy().reshape(-1)\n",
    "\n",
    "print('p: \\t', pdat)\n",
    "print('q: \\t', qdat)\n",
    "print('pq: \\t', M.factor_product().data)\n"
   ]
  },
  {
   "cell_type": "code",
   "execution_count": 6,
   "metadata": {},
   "outputs": [],
   "source": [
    "def renyi_div(pdata, qdata, alpha):\n",
    "    return np.log((pdata ** alpha * qdata **(1-alpha)).sum()) / (alpha -1) / np.log(2)\n"
   ]
  },
  {
   "cell_type": "markdown",
   "metadata": {},
   "source": [
    "The below shows that the interior point method produces the renyi divergences as one would expect. "
   ]
  },
  {
   "cell_type": "code",
   "execution_count": 31,
   "metadata": {},
   "outputs": [
    {
     "name": "stdout",
     "output_type": "stream",
     "text": [
      "b=1.000000e-06 \t renyi ( α=1e-06 ) = 2.01e-07  \tInc: 2.02e-07  \n",
      "b=1.000000e-04 \t renyi (α=0.0001 ) = 2.01e-05  \tInc: 2.01e-05  \n",
      "b=1.000000e-02 \t renyi (α=0.0099 ) = 0.002  \tInc: 0.002     \n",
      "b=5.000000e-01 \t renyi ( α=0.333 ) = 0.074  \tInc: 0.074     \n",
      "b=1.000000e+00 \t renyi (  α=0.5  ) = 0.116  \tInc: 0.116     \n",
      "b=2.000000e+00 \t renyi ( α=0.667 ) = 0.163  \tInc: 0.163     \n",
      "b=1.000000e+01 \t renyi ( α=0.909 ) = 0.238  \tInc: 0.238     \n",
      "b=1.000000e+02 \t renyi ( α=0.99  ) = 0.265  \tInc: 0.265     \n",
      "b=1.000000e+04 \t renyi (  α=1.0  ) = 0.268  \tInc: 0.268     \n",
      "b=1.000000e+06 \t renyi (  α=1.0  ) = 0.268  \tInc: 0.268     \n",
      "b=1.000000e+06 \t renyi (  α=1.0  ) = 0.268  \tInc: 0.268     \n"
     ]
    }
   ],
   "source": [
    "\n",
    "for b in  [1E-6, 1E-4, 1E-2, 0.5, 1, 2, 10, 100, 1E4, 1E6, 1E6]:\n",
    "    M.set_beta('p', b)\n",
    "    rjd = ip.cvx_opt_joint(M, also_idef=False)\n",
    "    alpha = b / (b+1)\n",
    "    print(\n",
    "        f\"b={b:<12e} \\t \"\n",
    "        f\"renyi ({ f'α={alpha:.3}':^9}) = {renyi_div(pdat, qdat, alpha):.3}  \\t\"\n",
    "        f\"Inc: {M.Inc(rjd).real:<10.3}\"\n",
    "        # f\"M.betas: {[*M.edges('l,beta')]}\"\n",
    "    )\n"
   ]
  },
  {
   "cell_type": "code",
   "execution_count": null,
   "metadata": {},
   "outputs": [],
   "source": []
  }
 ],
 "metadata": {
  "kernelspec": {
   "display_name": "Python 3.8.10 64-bit",
   "language": "python",
   "name": "python3"
  },
  "language_info": {
   "codemirror_mode": {
    "name": "ipython",
    "version": 3
   },
   "file_extension": ".py",
   "mimetype": "text/x-python",
   "name": "python",
   "nbconvert_exporter": "python",
   "pygments_lexer": "ipython3",
   "version": "3.8.10"
  },
  "orig_nbformat": 4,
  "vscode": {
   "interpreter": {
    "hash": "31f2aee4e71d21fbe5cf8b01ff0e069b9275f58929596ceb00d14d90e3e16cd6"
   }
  }
 },
 "nbformat": 4,
 "nbformat_minor": 2
}
