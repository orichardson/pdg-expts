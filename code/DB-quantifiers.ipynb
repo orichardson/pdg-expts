{
 "cells": [
  {
   "cell_type": "code",
   "execution_count": 67,
   "metadata": {},
   "outputs": [
    {
     "name": "stdout",
     "output_type": "stream",
     "text": [
      "The autoreload extension is already loaded. To reload it, use:\n",
      "  %reload_ext autoreload\n"
     ]
    }
   ],
   "source": [
    "%load_ext autoreload\n",
    "%autoreload 2"
   ]
  },
  {
   "cell_type": "code",
   "execution_count": 122,
   "metadata": {},
   "outputs": [],
   "source": [
    "from matplotlib import pyplot as plt"
   ]
  },
  {
   "cell_type": "code",
   "execution_count": 140,
   "metadata": {},
   "outputs": [],
   "source": [
    "from dist import RawJointDist, CPT\n",
    "from rv import Variable, binvar, Unit\n",
    "import numpy as np\n",
    "from pdg import PDG\n",
    "np.set_printoptions(precision=3)\n",
    "\n"
   ]
  },
  {
   "cell_type": "code",
   "execution_count": 141,
   "metadata": {},
   "outputs": [],
   "source": [
    "A = Variable.alph(\"A\", 3)\n",
    "R = binvar(\"R\")\n",
    "Q = binvar(\"Q\")\n"
   ]
  },
  {
   "cell_type": "code",
   "execution_count": 210,
   "metadata": {},
   "outputs": [
    {
     "name": "stdout",
     "output_type": "stream",
     "text": [
      "('α', 1.0)\n"
     ]
    }
   ],
   "source": [
    "M = PDG()\n",
    "M += {\"cpd\": CPT.from_matrix(A, R, [[.2, .8], [.3, .7], [.4, .6]]), 'alpha' : 0, \"beta\" : 1000}\n",
    "M += Q,A,R\n",
    "#M += {\"from\":\"A\", \"to\":\"Q\", \"α\":1}\n",
    "M += \"1 -> Q (α=1;β=0)\"\n",
    "# M += \"1 -> A (α=0.8;β=0)\"\n",
    "\n",
    "M += {'cpd': CPT.from_matrix(R, Q, [[1,0], [np.nan,np.nan]]), 'α': 0}\n",
    "# M.draw()\n",
    "# M.varlist"
   ]
  },
  {
   "cell_type": "code",
   "execution_count": 211,
   "metadata": {},
   "outputs": [],
   "source": [
    "μ1 = M.factor_product()\n",
    "μ2 = M.optimize_score(gamma=1)\n",
    "μ3 = M.optimize_score(gamma=0.001)"
   ]
  },
  {
   "cell_type": "code",
   "execution_count": 202,
   "metadata": {},
   "outputs": [
    {
     "data": {
      "text/html": [
       "<div>\n",
       "<style scoped>\n",
       "    .dataframe tbody tr th:only-of-type {\n",
       "        vertical-align: middle;\n",
       "    }\n",
       "\n",
       "    .dataframe tbody tr th {\n",
       "        vertical-align: top;\n",
       "    }\n",
       "\n",
       "    .dataframe thead th {\n",
       "        text-align: right;\n",
       "    }\n",
       "</style>\n",
       "<table border=\"1\" class=\"dataframe\">\n",
       "  <thead>\n",
       "    <tr style=\"text-align: right;\">\n",
       "      <th></th>\n",
       "      <th>q</th>\n",
       "      <th>~q</th>\n",
       "    </tr>\n",
       "  </thead>\n",
       "  <tbody>\n",
       "    <tr>\n",
       "      <th>⋆</th>\n",
       "      <td>0.901329</td>\n",
       "      <td>0.098671</td>\n",
       "    </tr>\n",
       "  </tbody>\n",
       "</table>\n",
       "</div>"
      ],
      "text/plain": [
       "          q        ~q\n",
       "⋆  0.901329  0.098671"
      ]
     },
     "execution_count": 202,
     "metadata": {},
     "output_type": "execute_result"
    }
   ],
   "source": [
    "μ2[Q]"
   ]
  },
  {
   "cell_type": "code",
   "execution_count": 175,
   "metadata": {},
   "outputs": [
    {
     "data": {
      "text/plain": [
       "[0, 0.8, 0.8, 0]"
      ]
     },
     "execution_count": 175,
     "metadata": {},
     "output_type": "execute_result"
    }
   ],
   "source": [
    "[*M.edges('α')]"
   ]
  },
  {
   "cell_type": "code",
   "execution_count": 239,
   "metadata": {},
   "outputs": [],
   "source": [
    "def testdbN(nAs = 3):\n",
    "    A = Variable.alph(\"A\", nAs)\n",
    "    R = binvar(\"R\")\n",
    "    Q = binvar(\"Q\")\n",
    "\n",
    "    M = PDG()\n",
    "    M += {\"cpd\": CPT.from_matrix(A, R, [[.3, 7]]*nAs), 'alpha' : 0}\n",
    "    M += Q,A,R\n",
    "    #M += {\"from\":\"A\", \"to\":\"Q\", \"α\":1}\n",
    "    M += \"A -> Q (α=0.8;β=0)\"\n",
    "    M += \"1 -> A (α=0.8;β=0)\"\n",
    "    M += {'cpd': CPT.from_matrix(R, Q, [[1,0], [np.nan,np.nan]]), 'α': 0}\n",
    "    return M.optimize_score(gamma=0.5)"
   ]
  },
  {
   "cell_type": "code",
   "execution_count": 120,
   "metadata": {},
   "outputs": [
    {
     "data": {
      "text/plain": [
       "[0, 0.5, 0]"
      ]
     },
     "execution_count": 120,
     "metadata": {},
     "output_type": "execute_result"
    }
   ],
   "source": []
  },
  {
   "cell_type": "markdown",
   "metadata": {},
   "source": [
    "# Test Lax PDG scoring"
   ]
  },
  {
   "cell_type": "markdown",
   "metadata": {},
   "source": [
    "Some setup..."
   ]
  },
  {
   "cell_type": "code",
   "execution_count": null,
   "metadata": {},
   "outputs": [],
   "source": [
    "np.set_printoptions(precision=3)\n",
    "from functools import partial\n",
    "\n",
    "M2 = PDG()\n",
    "X = binvar('X'); Y = binvar('Y')\n",
    "M2 += CPT.from_matrix(X,Y, [[1,0], [np.nan, np.nan]])\n",
    "dists = [\n",
    "    RawJointDist(np.array([[1,0],[0,0]]), M2.varlist),\n",
    "    RawJointDist(np.array([[.5,0],[.25,.25]]), M2.varlist),\n",
    "    RawJointDist(np.array([[.5,0],[.5,0]]), M2.varlist),\n",
    "    RawJointDist(np.array([[.3333,0],[.3333,.3333]]), M2.varlist),\n",
    "    RawJointDist(np.array([[.25,.25],[.25,.25]]), M2.varlist)\n",
    "]"
   ]
  },
  {
   "cell_type": "code",
   "execution_count": null,
   "metadata": {},
   "outputs": [],
   "source": [
    "def fmt(num): \n",
    "#    return num\n",
    "    if num.real == num: \n",
    "        return \"%.3f\" % num.real\n",
    "    return \"%.2f+%.1fj\" % (num.real, num.imag)\n",
    "\n",
    "def printM2scores(alpha,gamma):  \n",
    "    def M2fastscore(rjd):\n",
    "        return M2._build_fast_scorer(gamma=gamma)(rjd.data.reshape(-1))[0]\n",
    "    \n",
    "    M2.edgedata[('X', 'Y', 0)]['alpha'] = alpha\n",
    "    for score in [partial(M2.score,gamma=gamma), M2fastscore]:\n",
    "        print(\"score\", *[fmt(score(d)) for d in dists],sep=' \\t')\n",
    "    print(\"Inc\", *[fmt(M2.Inc(d)) for d in dists],sep= ' \\t')\n",
    "    print('IDef',  *[fmt(M2.IDef(d)) for d in dists],sep=' \\t')\n",
    "    print('μ*', M2.optimize_score(gamma).data)"
   ]
  },
  {
   "cell_type": "markdown",
   "metadata": {},
   "source": [
    "Let's do $\\gamma=0$, which is the same for both $\\alpha=0$ and $\\alpha=1$.\n"
   ]
  },
  {
   "cell_type": "code",
   "execution_count": null,
   "metadata": {},
   "outputs": [],
   "source": [
    "np.set_printoptions(precision=3)\n",
    "printM2scores(0,0)"
   ]
  },
  {
   "cell_type": "markdown",
   "metadata": {},
   "source": [
    "So, as expected, when $\\gamma=0$, only Inc matters, and so the most important thing is that the upper left number is close to zero. I'm not sure why the bottom numbers are also small, but it could be because the gradient is either messed up."
   ]
  },
  {
   "cell_type": "markdown",
   "metadata": {},
   "source": [
    "## Now, to see the effect of $\\alpha$.\n",
    "In both cases, we do this by setting $\\gamma=1$. Since $\\alpha=1$ is default (for the edge $X \\to Y$), we have:"
   ]
  },
  {
   "cell_type": "code",
   "execution_count": null,
   "metadata": {},
   "outputs": [],
   "source": [
    "printM2scores(1,1)"
   ]
  },
  {
   "cell_type": "markdown",
   "metadata": {},
   "source": [
    "This makes sense: the important thing is to maximize the entropy of $X$; and so the middle two get the same score (and the $\\frac13$-$\\frac13$ split puts less entropy on X ). Since we start from a uniform distribution, the computed optimum is option 2.\n",
    "\n",
    "-------\n",
    "\n",
    "Now, we set $\\alpha:= 0$ and see what happens."
   ]
  },
  {
   "cell_type": "code",
   "execution_count": null,
   "metadata": {},
   "outputs": [],
   "source": [
    "printM2scores(0,1)"
   ]
  },
  {
   "cell_type": "code",
   "execution_count": null,
   "metadata": {},
   "outputs": [],
   "source": []
  }
 ],
 "metadata": {
  "kernelspec": {
   "display_name": "Python 3",
   "language": "python",
   "name": "python3"
  },
  "language_info": {
   "codemirror_mode": {
    "name": "ipython",
    "version": 3
   },
   "file_extension": ".py",
   "mimetype": "text/x-python",
   "name": "python",
   "nbconvert_exporter": "python",
   "pygments_lexer": "ipython3",
   "version": "3.8.5"
  }
 },
 "nbformat": 4,
 "nbformat_minor": 4
}
